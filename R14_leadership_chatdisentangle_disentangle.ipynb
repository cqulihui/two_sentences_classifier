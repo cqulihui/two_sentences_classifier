{
  "nbformat": 4,
  "nbformat_minor": 0,
  "metadata": {
    "colab": {
      "name": "R14-leadership-chatdisentangle-disentangle.ipynb",
      "provenance": [],
      "collapsed_sections": [],
      "mount_file_id": "1KjykHGiywBV72UYDSABh260e0sW3US1i",
      "authorship_tag": "ABX9TyM+k4tnmsoV6mXSGOK7LuC4",
      "include_colab_link": true
    },
    "kernelspec": {
      "name": "python3",
      "display_name": "Python 3"
    },
    "accelerator": "GPU"
  },
  "cells": [
    {
      "cell_type": "markdown",
      "metadata": {
        "id": "view-in-github",
        "colab_type": "text"
      },
      "source": [
        "<a href=\"https://colab.research.google.com/github/cqulihui/two_sentences_classifier/blob/master/R14_leadership_chatdisentangle_disentangle.ipynb\" target=\"_parent\"><img src=\"https://colab.research.google.com/assets/colab-badge.svg\" alt=\"Open In Colab\"/></a>"
      ]
    },
    {
      "cell_type": "markdown",
      "metadata": {
        "id": "ncaVFVx77k92",
        "colab_type": "text"
      },
      "source": [
        "# 会话结构的计算"
      ]
    },
    {
      "cell_type": "code",
      "metadata": {
        "id": "Aet-U6N77dse",
        "colab_type": "code",
        "colab": {
          "base_uri": "https://localhost:8080/",
          "height": 35
        },
        "outputId": "4d1385fe-cba0-4212-af22-2ab29e6d98e1"
      },
      "source": [
        "from google.colab import drive\n",
        "drive.mount('/content/drive')"
      ],
      "execution_count": null,
      "outputs": [
        {
          "output_type": "stream",
          "text": [
            "Drive already mounted at /content/drive; to attempt to forcibly remount, call drive.mount(\"/content/drive\", force_remount=True).\n"
          ],
          "name": "stdout"
        }
      ]
    },
    {
      "cell_type": "code",
      "metadata": {
        "id": "QShVD_Lb730B",
        "colab_type": "code",
        "colab": {
          "base_uri": "https://localhost:8080/",
          "height": 105
        },
        "outputId": "6911ae0d-de1f-4047-bc5e-5bdc2cea5156"
      },
      "source": [
        "import os\n",
        "path=\"/content/drive/My Drive/Colab Notebooks/R14-leadership-word2vec\"\n",
        "os.chdir(path)\n",
        "os.listdir(path)"
      ],
      "execution_count": null,
      "outputs": [
        {
          "output_type": "execute_result",
          "data": {
            "text/plain": [
              "['data',\n",
              " 'chatdata',\n",
              " 'model',\n",
              " 'R14-leadership-chatdisentangle-word2vec.ipynb',\n",
              " 'R14-leadership-chatdisentangle-disentangle.ipynb']"
            ]
          },
          "metadata": {
            "tags": []
          },
          "execution_count": 13
        }
      ]
    },
    {
      "cell_type": "markdown",
      "metadata": {
        "id": "tcIM7UEjBVw3",
        "colab_type": "text"
      },
      "source": [
        "## 整理数据"
      ]
    },
    {
      "cell_type": "code",
      "metadata": {
        "id": "nAbjbqB8_t-q",
        "colab_type": "code",
        "colab": {}
      },
      "source": [
        "import pandas as pd\n",
        "import numpy as np"
      ],
      "execution_count": null,
      "outputs": []
    },
    {
      "cell_type": "code",
      "metadata": {
        "id": "tLkKvLPkQPOC",
        "colab_type": "code",
        "colab": {
          "base_uri": "https://localhost:8080/",
          "height": 123
        },
        "outputId": "b86432ff-26bd-490e-a59e-91cf21f1f596"
      },
      "source": [
        "allcorpus = pd.read_csv(path + \"/chatdata/2-two sentences-chatcorpus.txt\", sep = '\\t')\n",
        "allcorpus.columns"
      ],
      "execution_count": null,
      "outputs": [
        {
          "output_type": "execute_result",
          "data": {
            "text/plain": [
              "Index(['msgid1', 'sender1', 'receiver1', 'createdtime1', 'content1',\n",
              "       'chatsession1', 'cutcontent1', 'before_msg_id1', 'after_msg_id1',\n",
              "       'msgid2', 'sender2', 'receiver2', 'createdtime2', 'content2',\n",
              "       'chatsession2', 'cutcontent2', 'before_msg_id2', 'after_msg_id2',\n",
              "       'timedifference'],\n",
              "      dtype='object')"
            ]
          },
          "metadata": {
            "tags": []
          },
          "execution_count": 15
        }
      ]
    },
    {
      "cell_type": "code",
      "metadata": {
        "id": "syFs5eixCIBW",
        "colab_type": "code",
        "colab": {
          "base_uri": "https://localhost:8080/",
          "height": 326
        },
        "outputId": "558d950e-a495-46c4-84df-da619eb4b7a2"
      },
      "source": [
        "allcorpus.insert(19, 'samesession', 0)\n",
        "i = 0\n",
        "while i < allcorpus.shape[0]:\n",
        "  if allcorpus.iloc[i,5] == allcorpus.iloc[i,14]:\n",
        "    allcorpus.iloc[i,19] = 1\n",
        "  i = i + 1\n",
        "allcorpus.head()"
      ],
      "execution_count": null,
      "outputs": [
        {
          "output_type": "execute_result",
          "data": {
            "text/html": [
              "<div>\n",
              "<style scoped>\n",
              "    .dataframe tbody tr th:only-of-type {\n",
              "        vertical-align: middle;\n",
              "    }\n",
              "\n",
              "    .dataframe tbody tr th {\n",
              "        vertical-align: top;\n",
              "    }\n",
              "\n",
              "    .dataframe thead th {\n",
              "        text-align: right;\n",
              "    }\n",
              "</style>\n",
              "<table border=\"1\" class=\"dataframe\">\n",
              "  <thead>\n",
              "    <tr style=\"text-align: right;\">\n",
              "      <th></th>\n",
              "      <th>msgid1</th>\n",
              "      <th>sender1</th>\n",
              "      <th>receiver1</th>\n",
              "      <th>createdtime1</th>\n",
              "      <th>content1</th>\n",
              "      <th>chatsession1</th>\n",
              "      <th>cutcontent1</th>\n",
              "      <th>before_msg_id1</th>\n",
              "      <th>after_msg_id1</th>\n",
              "      <th>msgid2</th>\n",
              "      <th>sender2</th>\n",
              "      <th>receiver2</th>\n",
              "      <th>createdtime2</th>\n",
              "      <th>content2</th>\n",
              "      <th>chatsession2</th>\n",
              "      <th>cutcontent2</th>\n",
              "      <th>before_msg_id2</th>\n",
              "      <th>after_msg_id2</th>\n",
              "      <th>timedifference</th>\n",
              "      <th>samesession</th>\n",
              "    </tr>\n",
              "  </thead>\n",
              "  <tbody>\n",
              "    <tr>\n",
              "      <th>0</th>\n",
              "      <td>721998824A234DEDB77FD0D7B870BD5E</td>\n",
              "      <td>i46lzkpoocvxe8gu</td>\n",
              "      <td>e008521d2ba29baf8d9e50238142ac5f</td>\n",
              "      <td>2019-04-13 23:25:10</td>\n",
              "      <td>没有保存</td>\n",
              "      <td>ei01</td>\n",
              "      <td>没有 保存</td>\n",
              "      <td>NaN</td>\n",
              "      <td>4CB4BFFA145546B9B32052973D0D3782</td>\n",
              "      <td>721998824A234DEDB77FD0D7B870BD5E</td>\n",
              "      <td>i46lzkpoocvxe8gu</td>\n",
              "      <td>e008521d2ba29baf8d9e50238142ac5f</td>\n",
              "      <td>2019-04-13 23:25:10</td>\n",
              "      <td>没有保存</td>\n",
              "      <td>ei01</td>\n",
              "      <td>没有 保存</td>\n",
              "      <td>NaN</td>\n",
              "      <td>4CB4BFFA145546B9B32052973D0D3782</td>\n",
              "      <td>0</td>\n",
              "      <td>1</td>\n",
              "    </tr>\n",
              "    <tr>\n",
              "      <th>1</th>\n",
              "      <td>721998824A234DEDB77FD0D7B870BD5E</td>\n",
              "      <td>i46lzkpoocvxe8gu</td>\n",
              "      <td>e008521d2ba29baf8d9e50238142ac5f</td>\n",
              "      <td>2019-04-13 23:25:10</td>\n",
              "      <td>没有保存</td>\n",
              "      <td>ei01</td>\n",
              "      <td>没有 保存</td>\n",
              "      <td>NaN</td>\n",
              "      <td>4CB4BFFA145546B9B32052973D0D3782</td>\n",
              "      <td>4CB4BFFA145546B9B32052973D0D3782</td>\n",
              "      <td>e008521d2ba29baf8d9e50238142ac5f</td>\n",
              "      <td>i46lzkpoocvxe8gu</td>\n",
              "      <td>2019-04-13 23:26:16</td>\n",
              "      <td>在群里说下</td>\n",
              "      <td>ei01</td>\n",
              "      <td>在 群里 说 下</td>\n",
              "      <td>721998824A234DEDB77FD0D7B870BD5E</td>\n",
              "      <td>87CD8A9588004872830880F040FC47B1</td>\n",
              "      <td>66</td>\n",
              "      <td>1</td>\n",
              "    </tr>\n",
              "    <tr>\n",
              "      <th>2</th>\n",
              "      <td>721998824A234DEDB77FD0D7B870BD5E</td>\n",
              "      <td>i46lzkpoocvxe8gu</td>\n",
              "      <td>e008521d2ba29baf8d9e50238142ac5f</td>\n",
              "      <td>2019-04-13 23:25:10</td>\n",
              "      <td>没有保存</td>\n",
              "      <td>ei01</td>\n",
              "      <td>没有 保存</td>\n",
              "      <td>NaN</td>\n",
              "      <td>4CB4BFFA145546B9B32052973D0D3782</td>\n",
              "      <td>87CD8A9588004872830880F040FC47B1</td>\n",
              "      <td>e008521d2ba29baf8d9e50238142ac5f</td>\n",
              "      <td>i46lzkpoocvxe8gu</td>\n",
              "      <td>2019-04-13 23:26:25</td>\n",
              "      <td>我切换账号后什么都没了..</td>\n",
              "      <td>ei01</td>\n",
              "      <td>我 切换 账号 后 什么 都 没 了 ..</td>\n",
              "      <td>4CB4BFFA145546B9B32052973D0D3782</td>\n",
              "      <td>Fu7RyGYOXtB8srVYvgFCx2KfsDy9CyFP</td>\n",
              "      <td>75</td>\n",
              "      <td>1</td>\n",
              "    </tr>\n",
              "    <tr>\n",
              "      <th>3</th>\n",
              "      <td>721998824A234DEDB77FD0D7B870BD5E</td>\n",
              "      <td>i46lzkpoocvxe8gu</td>\n",
              "      <td>e008521d2ba29baf8d9e50238142ac5f</td>\n",
              "      <td>2019-04-13 23:25:10</td>\n",
              "      <td>没有保存</td>\n",
              "      <td>ei01</td>\n",
              "      <td>没有 保存</td>\n",
              "      <td>NaN</td>\n",
              "      <td>4CB4BFFA145546B9B32052973D0D3782</td>\n",
              "      <td>Fu7RyGYOXtB8srVYvgFCx2KfsDy9CyFP</td>\n",
              "      <td>i46lzkpoocvxe8gu</td>\n",
              "      <td>e008521d2ba29baf8d9e50238142ac5f</td>\n",
              "      <td>2019-04-13 23:32:12</td>\n",
              "      <td>发几条单聊我</td>\n",
              "      <td>ei01</td>\n",
              "      <td>发 几条 单聊 我</td>\n",
              "      <td>87CD8A9588004872830880F040FC47B1</td>\n",
              "      <td>NaN</td>\n",
              "      <td>422</td>\n",
              "      <td>1</td>\n",
              "    </tr>\n",
              "    <tr>\n",
              "      <th>4</th>\n",
              "      <td>4CB4BFFA145546B9B32052973D0D3782</td>\n",
              "      <td>e008521d2ba29baf8d9e50238142ac5f</td>\n",
              "      <td>i46lzkpoocvxe8gu</td>\n",
              "      <td>2019-04-13 23:26:16</td>\n",
              "      <td>在群里说下</td>\n",
              "      <td>ei01</td>\n",
              "      <td>在 群里 说 下</td>\n",
              "      <td>721998824A234DEDB77FD0D7B870BD5E</td>\n",
              "      <td>87CD8A9588004872830880F040FC47B1</td>\n",
              "      <td>4CB4BFFA145546B9B32052973D0D3782</td>\n",
              "      <td>e008521d2ba29baf8d9e50238142ac5f</td>\n",
              "      <td>i46lzkpoocvxe8gu</td>\n",
              "      <td>2019-04-13 23:26:16</td>\n",
              "      <td>在群里说下</td>\n",
              "      <td>ei01</td>\n",
              "      <td>在 群里 说 下</td>\n",
              "      <td>721998824A234DEDB77FD0D7B870BD5E</td>\n",
              "      <td>87CD8A9588004872830880F040FC47B1</td>\n",
              "      <td>0</td>\n",
              "      <td>1</td>\n",
              "    </tr>\n",
              "  </tbody>\n",
              "</table>\n",
              "</div>"
            ],
            "text/plain": [
              "                             msgid1  ... samesession\n",
              "0  721998824A234DEDB77FD0D7B870BD5E  ...           1\n",
              "1  721998824A234DEDB77FD0D7B870BD5E  ...           1\n",
              "2  721998824A234DEDB77FD0D7B870BD5E  ...           1\n",
              "3  721998824A234DEDB77FD0D7B870BD5E  ...           1\n",
              "4  4CB4BFFA145546B9B32052973D0D3782  ...           1\n",
              "\n",
              "[5 rows x 20 columns]"
            ]
          },
          "metadata": {
            "tags": []
          },
          "execution_count": 16
        }
      ]
    },
    {
      "cell_type": "code",
      "metadata": {
        "id": "6YuFeBRSfBzG",
        "colab_type": "code",
        "colab": {}
      },
      "source": [
        "#增加一个字段，即反映两句话是否相邻的指标。1-相邻；0-不相邻\n",
        "#allcorpus.insert(19, 'isadjacent', 0)\n",
        "allcorpus = allcorpus.assign(isadjacent = (allcorpus.before_msg_id1==allcorpus.msgid2) | (allcorpus.after_msg_id1==allcorpus.msgid2))"
      ],
      "execution_count": null,
      "outputs": []
    },
    {
      "cell_type": "code",
      "metadata": {
        "id": "LJWz5ETVkYaW",
        "colab_type": "code",
        "colab": {
          "base_uri": "https://localhost:8080/",
          "height": 326
        },
        "outputId": "a883a072-fbab-4875-ad62-b20461ced99e"
      },
      "source": [
        "allcorpus.head()"
      ],
      "execution_count": null,
      "outputs": [
        {
          "output_type": "execute_result",
          "data": {
            "text/html": [
              "<div>\n",
              "<style scoped>\n",
              "    .dataframe tbody tr th:only-of-type {\n",
              "        vertical-align: middle;\n",
              "    }\n",
              "\n",
              "    .dataframe tbody tr th {\n",
              "        vertical-align: top;\n",
              "    }\n",
              "\n",
              "    .dataframe thead th {\n",
              "        text-align: right;\n",
              "    }\n",
              "</style>\n",
              "<table border=\"1\" class=\"dataframe\">\n",
              "  <thead>\n",
              "    <tr style=\"text-align: right;\">\n",
              "      <th></th>\n",
              "      <th>msgid1</th>\n",
              "      <th>sender1</th>\n",
              "      <th>receiver1</th>\n",
              "      <th>createdtime1</th>\n",
              "      <th>content1</th>\n",
              "      <th>chatsession1</th>\n",
              "      <th>cutcontent1</th>\n",
              "      <th>before_msg_id1</th>\n",
              "      <th>after_msg_id1</th>\n",
              "      <th>msgid2</th>\n",
              "      <th>sender2</th>\n",
              "      <th>receiver2</th>\n",
              "      <th>createdtime2</th>\n",
              "      <th>content2</th>\n",
              "      <th>chatsession2</th>\n",
              "      <th>cutcontent2</th>\n",
              "      <th>before_msg_id2</th>\n",
              "      <th>after_msg_id2</th>\n",
              "      <th>timedifference</th>\n",
              "      <th>samesession</th>\n",
              "      <th>isadjacent</th>\n",
              "    </tr>\n",
              "  </thead>\n",
              "  <tbody>\n",
              "    <tr>\n",
              "      <th>0</th>\n",
              "      <td>721998824A234DEDB77FD0D7B870BD5E</td>\n",
              "      <td>i46lzkpoocvxe8gu</td>\n",
              "      <td>e008521d2ba29baf8d9e50238142ac5f</td>\n",
              "      <td>2019-04-13 23:25:10</td>\n",
              "      <td>没有保存</td>\n",
              "      <td>ei01</td>\n",
              "      <td>没有 保存</td>\n",
              "      <td>NaN</td>\n",
              "      <td>4CB4BFFA145546B9B32052973D0D3782</td>\n",
              "      <td>721998824A234DEDB77FD0D7B870BD5E</td>\n",
              "      <td>i46lzkpoocvxe8gu</td>\n",
              "      <td>e008521d2ba29baf8d9e50238142ac5f</td>\n",
              "      <td>2019-04-13 23:25:10</td>\n",
              "      <td>没有保存</td>\n",
              "      <td>ei01</td>\n",
              "      <td>没有 保存</td>\n",
              "      <td>NaN</td>\n",
              "      <td>4CB4BFFA145546B9B32052973D0D3782</td>\n",
              "      <td>0</td>\n",
              "      <td>1</td>\n",
              "      <td>False</td>\n",
              "    </tr>\n",
              "    <tr>\n",
              "      <th>1</th>\n",
              "      <td>721998824A234DEDB77FD0D7B870BD5E</td>\n",
              "      <td>i46lzkpoocvxe8gu</td>\n",
              "      <td>e008521d2ba29baf8d9e50238142ac5f</td>\n",
              "      <td>2019-04-13 23:25:10</td>\n",
              "      <td>没有保存</td>\n",
              "      <td>ei01</td>\n",
              "      <td>没有 保存</td>\n",
              "      <td>NaN</td>\n",
              "      <td>4CB4BFFA145546B9B32052973D0D3782</td>\n",
              "      <td>4CB4BFFA145546B9B32052973D0D3782</td>\n",
              "      <td>e008521d2ba29baf8d9e50238142ac5f</td>\n",
              "      <td>i46lzkpoocvxe8gu</td>\n",
              "      <td>2019-04-13 23:26:16</td>\n",
              "      <td>在群里说下</td>\n",
              "      <td>ei01</td>\n",
              "      <td>在 群里 说 下</td>\n",
              "      <td>721998824A234DEDB77FD0D7B870BD5E</td>\n",
              "      <td>87CD8A9588004872830880F040FC47B1</td>\n",
              "      <td>66</td>\n",
              "      <td>1</td>\n",
              "      <td>True</td>\n",
              "    </tr>\n",
              "    <tr>\n",
              "      <th>2</th>\n",
              "      <td>721998824A234DEDB77FD0D7B870BD5E</td>\n",
              "      <td>i46lzkpoocvxe8gu</td>\n",
              "      <td>e008521d2ba29baf8d9e50238142ac5f</td>\n",
              "      <td>2019-04-13 23:25:10</td>\n",
              "      <td>没有保存</td>\n",
              "      <td>ei01</td>\n",
              "      <td>没有 保存</td>\n",
              "      <td>NaN</td>\n",
              "      <td>4CB4BFFA145546B9B32052973D0D3782</td>\n",
              "      <td>87CD8A9588004872830880F040FC47B1</td>\n",
              "      <td>e008521d2ba29baf8d9e50238142ac5f</td>\n",
              "      <td>i46lzkpoocvxe8gu</td>\n",
              "      <td>2019-04-13 23:26:25</td>\n",
              "      <td>我切换账号后什么都没了..</td>\n",
              "      <td>ei01</td>\n",
              "      <td>我 切换 账号 后 什么 都 没 了 ..</td>\n",
              "      <td>4CB4BFFA145546B9B32052973D0D3782</td>\n",
              "      <td>Fu7RyGYOXtB8srVYvgFCx2KfsDy9CyFP</td>\n",
              "      <td>75</td>\n",
              "      <td>1</td>\n",
              "      <td>False</td>\n",
              "    </tr>\n",
              "    <tr>\n",
              "      <th>3</th>\n",
              "      <td>721998824A234DEDB77FD0D7B870BD5E</td>\n",
              "      <td>i46lzkpoocvxe8gu</td>\n",
              "      <td>e008521d2ba29baf8d9e50238142ac5f</td>\n",
              "      <td>2019-04-13 23:25:10</td>\n",
              "      <td>没有保存</td>\n",
              "      <td>ei01</td>\n",
              "      <td>没有 保存</td>\n",
              "      <td>NaN</td>\n",
              "      <td>4CB4BFFA145546B9B32052973D0D3782</td>\n",
              "      <td>Fu7RyGYOXtB8srVYvgFCx2KfsDy9CyFP</td>\n",
              "      <td>i46lzkpoocvxe8gu</td>\n",
              "      <td>e008521d2ba29baf8d9e50238142ac5f</td>\n",
              "      <td>2019-04-13 23:32:12</td>\n",
              "      <td>发几条单聊我</td>\n",
              "      <td>ei01</td>\n",
              "      <td>发 几条 单聊 我</td>\n",
              "      <td>87CD8A9588004872830880F040FC47B1</td>\n",
              "      <td>NaN</td>\n",
              "      <td>422</td>\n",
              "      <td>1</td>\n",
              "      <td>False</td>\n",
              "    </tr>\n",
              "    <tr>\n",
              "      <th>4</th>\n",
              "      <td>4CB4BFFA145546B9B32052973D0D3782</td>\n",
              "      <td>e008521d2ba29baf8d9e50238142ac5f</td>\n",
              "      <td>i46lzkpoocvxe8gu</td>\n",
              "      <td>2019-04-13 23:26:16</td>\n",
              "      <td>在群里说下</td>\n",
              "      <td>ei01</td>\n",
              "      <td>在 群里 说 下</td>\n",
              "      <td>721998824A234DEDB77FD0D7B870BD5E</td>\n",
              "      <td>87CD8A9588004872830880F040FC47B1</td>\n",
              "      <td>4CB4BFFA145546B9B32052973D0D3782</td>\n",
              "      <td>e008521d2ba29baf8d9e50238142ac5f</td>\n",
              "      <td>i46lzkpoocvxe8gu</td>\n",
              "      <td>2019-04-13 23:26:16</td>\n",
              "      <td>在群里说下</td>\n",
              "      <td>ei01</td>\n",
              "      <td>在 群里 说 下</td>\n",
              "      <td>721998824A234DEDB77FD0D7B870BD5E</td>\n",
              "      <td>87CD8A9588004872830880F040FC47B1</td>\n",
              "      <td>0</td>\n",
              "      <td>1</td>\n",
              "      <td>False</td>\n",
              "    </tr>\n",
              "  </tbody>\n",
              "</table>\n",
              "</div>"
            ],
            "text/plain": [
              "                             msgid1  ... isadjacent\n",
              "0  721998824A234DEDB77FD0D7B870BD5E  ...      False\n",
              "1  721998824A234DEDB77FD0D7B870BD5E  ...       True\n",
              "2  721998824A234DEDB77FD0D7B870BD5E  ...      False\n",
              "3  721998824A234DEDB77FD0D7B870BD5E  ...      False\n",
              "4  4CB4BFFA145546B9B32052973D0D3782  ...      False\n",
              "\n",
              "[5 rows x 21 columns]"
            ]
          },
          "metadata": {
            "tags": []
          },
          "execution_count": 18
        }
      ]
    },
    {
      "cell_type": "code",
      "metadata": {
        "id": "gMQYya0Bfbo3",
        "colab_type": "code",
        "colab": {
          "base_uri": "https://localhost:8080/",
          "height": 343
        },
        "outputId": "b95f9a3b-96ba-4f17-9312-088055cb75c3"
      },
      "source": [
        "#去掉msgid1和msgid2相同的记录\n",
        "allcorpus = allcorpus.assign(samecontent = (allcorpus.msgid1!=allcorpus.msgid2))\n",
        "allcorpus = allcorpus[allcorpus['samecontent']]\n",
        "allcorpus.head()"
      ],
      "execution_count": null,
      "outputs": [
        {
          "output_type": "execute_result",
          "data": {
            "text/html": [
              "<div>\n",
              "<style scoped>\n",
              "    .dataframe tbody tr th:only-of-type {\n",
              "        vertical-align: middle;\n",
              "    }\n",
              "\n",
              "    .dataframe tbody tr th {\n",
              "        vertical-align: top;\n",
              "    }\n",
              "\n",
              "    .dataframe thead th {\n",
              "        text-align: right;\n",
              "    }\n",
              "</style>\n",
              "<table border=\"1\" class=\"dataframe\">\n",
              "  <thead>\n",
              "    <tr style=\"text-align: right;\">\n",
              "      <th></th>\n",
              "      <th>msgid1</th>\n",
              "      <th>sender1</th>\n",
              "      <th>receiver1</th>\n",
              "      <th>createdtime1</th>\n",
              "      <th>content1</th>\n",
              "      <th>chatsession1</th>\n",
              "      <th>cutcontent1</th>\n",
              "      <th>before_msg_id1</th>\n",
              "      <th>after_msg_id1</th>\n",
              "      <th>msgid2</th>\n",
              "      <th>sender2</th>\n",
              "      <th>receiver2</th>\n",
              "      <th>createdtime2</th>\n",
              "      <th>content2</th>\n",
              "      <th>chatsession2</th>\n",
              "      <th>cutcontent2</th>\n",
              "      <th>before_msg_id2</th>\n",
              "      <th>after_msg_id2</th>\n",
              "      <th>timedifference</th>\n",
              "      <th>samesession</th>\n",
              "      <th>isadjacent</th>\n",
              "      <th>samecontent</th>\n",
              "    </tr>\n",
              "  </thead>\n",
              "  <tbody>\n",
              "    <tr>\n",
              "      <th>1</th>\n",
              "      <td>721998824A234DEDB77FD0D7B870BD5E</td>\n",
              "      <td>i46lzkpoocvxe8gu</td>\n",
              "      <td>e008521d2ba29baf8d9e50238142ac5f</td>\n",
              "      <td>2019-04-13 23:25:10</td>\n",
              "      <td>没有保存</td>\n",
              "      <td>ei01</td>\n",
              "      <td>没有 保存</td>\n",
              "      <td>NaN</td>\n",
              "      <td>4CB4BFFA145546B9B32052973D0D3782</td>\n",
              "      <td>4CB4BFFA145546B9B32052973D0D3782</td>\n",
              "      <td>e008521d2ba29baf8d9e50238142ac5f</td>\n",
              "      <td>i46lzkpoocvxe8gu</td>\n",
              "      <td>2019-04-13 23:26:16</td>\n",
              "      <td>在群里说下</td>\n",
              "      <td>ei01</td>\n",
              "      <td>在 群里 说 下</td>\n",
              "      <td>721998824A234DEDB77FD0D7B870BD5E</td>\n",
              "      <td>87CD8A9588004872830880F040FC47B1</td>\n",
              "      <td>66</td>\n",
              "      <td>1</td>\n",
              "      <td>True</td>\n",
              "      <td>True</td>\n",
              "    </tr>\n",
              "    <tr>\n",
              "      <th>2</th>\n",
              "      <td>721998824A234DEDB77FD0D7B870BD5E</td>\n",
              "      <td>i46lzkpoocvxe8gu</td>\n",
              "      <td>e008521d2ba29baf8d9e50238142ac5f</td>\n",
              "      <td>2019-04-13 23:25:10</td>\n",
              "      <td>没有保存</td>\n",
              "      <td>ei01</td>\n",
              "      <td>没有 保存</td>\n",
              "      <td>NaN</td>\n",
              "      <td>4CB4BFFA145546B9B32052973D0D3782</td>\n",
              "      <td>87CD8A9588004872830880F040FC47B1</td>\n",
              "      <td>e008521d2ba29baf8d9e50238142ac5f</td>\n",
              "      <td>i46lzkpoocvxe8gu</td>\n",
              "      <td>2019-04-13 23:26:25</td>\n",
              "      <td>我切换账号后什么都没了..</td>\n",
              "      <td>ei01</td>\n",
              "      <td>我 切换 账号 后 什么 都 没 了 ..</td>\n",
              "      <td>4CB4BFFA145546B9B32052973D0D3782</td>\n",
              "      <td>Fu7RyGYOXtB8srVYvgFCx2KfsDy9CyFP</td>\n",
              "      <td>75</td>\n",
              "      <td>1</td>\n",
              "      <td>False</td>\n",
              "      <td>True</td>\n",
              "    </tr>\n",
              "    <tr>\n",
              "      <th>3</th>\n",
              "      <td>721998824A234DEDB77FD0D7B870BD5E</td>\n",
              "      <td>i46lzkpoocvxe8gu</td>\n",
              "      <td>e008521d2ba29baf8d9e50238142ac5f</td>\n",
              "      <td>2019-04-13 23:25:10</td>\n",
              "      <td>没有保存</td>\n",
              "      <td>ei01</td>\n",
              "      <td>没有 保存</td>\n",
              "      <td>NaN</td>\n",
              "      <td>4CB4BFFA145546B9B32052973D0D3782</td>\n",
              "      <td>Fu7RyGYOXtB8srVYvgFCx2KfsDy9CyFP</td>\n",
              "      <td>i46lzkpoocvxe8gu</td>\n",
              "      <td>e008521d2ba29baf8d9e50238142ac5f</td>\n",
              "      <td>2019-04-13 23:32:12</td>\n",
              "      <td>发几条单聊我</td>\n",
              "      <td>ei01</td>\n",
              "      <td>发 几条 单聊 我</td>\n",
              "      <td>87CD8A9588004872830880F040FC47B1</td>\n",
              "      <td>NaN</td>\n",
              "      <td>422</td>\n",
              "      <td>1</td>\n",
              "      <td>False</td>\n",
              "      <td>True</td>\n",
              "    </tr>\n",
              "    <tr>\n",
              "      <th>5</th>\n",
              "      <td>4CB4BFFA145546B9B32052973D0D3782</td>\n",
              "      <td>e008521d2ba29baf8d9e50238142ac5f</td>\n",
              "      <td>i46lzkpoocvxe8gu</td>\n",
              "      <td>2019-04-13 23:26:16</td>\n",
              "      <td>在群里说下</td>\n",
              "      <td>ei01</td>\n",
              "      <td>在 群里 说 下</td>\n",
              "      <td>721998824A234DEDB77FD0D7B870BD5E</td>\n",
              "      <td>87CD8A9588004872830880F040FC47B1</td>\n",
              "      <td>87CD8A9588004872830880F040FC47B1</td>\n",
              "      <td>e008521d2ba29baf8d9e50238142ac5f</td>\n",
              "      <td>i46lzkpoocvxe8gu</td>\n",
              "      <td>2019-04-13 23:26:25</td>\n",
              "      <td>我切换账号后什么都没了..</td>\n",
              "      <td>ei01</td>\n",
              "      <td>我 切换 账号 后 什么 都 没 了 ..</td>\n",
              "      <td>4CB4BFFA145546B9B32052973D0D3782</td>\n",
              "      <td>Fu7RyGYOXtB8srVYvgFCx2KfsDy9CyFP</td>\n",
              "      <td>9</td>\n",
              "      <td>1</td>\n",
              "      <td>True</td>\n",
              "      <td>True</td>\n",
              "    </tr>\n",
              "    <tr>\n",
              "      <th>6</th>\n",
              "      <td>4CB4BFFA145546B9B32052973D0D3782</td>\n",
              "      <td>e008521d2ba29baf8d9e50238142ac5f</td>\n",
              "      <td>i46lzkpoocvxe8gu</td>\n",
              "      <td>2019-04-13 23:26:16</td>\n",
              "      <td>在群里说下</td>\n",
              "      <td>ei01</td>\n",
              "      <td>在 群里 说 下</td>\n",
              "      <td>721998824A234DEDB77FD0D7B870BD5E</td>\n",
              "      <td>87CD8A9588004872830880F040FC47B1</td>\n",
              "      <td>Fu7RyGYOXtB8srVYvgFCx2KfsDy9CyFP</td>\n",
              "      <td>i46lzkpoocvxe8gu</td>\n",
              "      <td>e008521d2ba29baf8d9e50238142ac5f</td>\n",
              "      <td>2019-04-13 23:32:12</td>\n",
              "      <td>发几条单聊我</td>\n",
              "      <td>ei01</td>\n",
              "      <td>发 几条 单聊 我</td>\n",
              "      <td>87CD8A9588004872830880F040FC47B1</td>\n",
              "      <td>NaN</td>\n",
              "      <td>356</td>\n",
              "      <td>1</td>\n",
              "      <td>False</td>\n",
              "      <td>True</td>\n",
              "    </tr>\n",
              "  </tbody>\n",
              "</table>\n",
              "</div>"
            ],
            "text/plain": [
              "                             msgid1  ... samecontent\n",
              "1  721998824A234DEDB77FD0D7B870BD5E  ...        True\n",
              "2  721998824A234DEDB77FD0D7B870BD5E  ...        True\n",
              "3  721998824A234DEDB77FD0D7B870BD5E  ...        True\n",
              "5  4CB4BFFA145546B9B32052973D0D3782  ...        True\n",
              "6  4CB4BFFA145546B9B32052973D0D3782  ...        True\n",
              "\n",
              "[5 rows x 22 columns]"
            ]
          },
          "metadata": {
            "tags": []
          },
          "execution_count": 19
        }
      ]
    },
    {
      "cell_type": "code",
      "metadata": {
        "id": "W90xA641n0Fb",
        "colab_type": "code",
        "colab": {
          "base_uri": "https://localhost:8080/",
          "height": 343
        },
        "outputId": "e9538780-86fb-47e8-b60b-b1754e0cc077"
      },
      "source": [
        "allcorpus = allcorpus.drop('samecontent', axis = 1)\n",
        "allcorpus['isadjacent'] = allcorpus['isadjacent'].map({True: 1, False: 0})\n",
        "allcorpus.head()"
      ],
      "execution_count": null,
      "outputs": [
        {
          "output_type": "execute_result",
          "data": {
            "text/html": [
              "<div>\n",
              "<style scoped>\n",
              "    .dataframe tbody tr th:only-of-type {\n",
              "        vertical-align: middle;\n",
              "    }\n",
              "\n",
              "    .dataframe tbody tr th {\n",
              "        vertical-align: top;\n",
              "    }\n",
              "\n",
              "    .dataframe thead th {\n",
              "        text-align: right;\n",
              "    }\n",
              "</style>\n",
              "<table border=\"1\" class=\"dataframe\">\n",
              "  <thead>\n",
              "    <tr style=\"text-align: right;\">\n",
              "      <th></th>\n",
              "      <th>msgid1</th>\n",
              "      <th>sender1</th>\n",
              "      <th>receiver1</th>\n",
              "      <th>createdtime1</th>\n",
              "      <th>content1</th>\n",
              "      <th>chatsession1</th>\n",
              "      <th>cutcontent1</th>\n",
              "      <th>before_msg_id1</th>\n",
              "      <th>after_msg_id1</th>\n",
              "      <th>msgid2</th>\n",
              "      <th>sender2</th>\n",
              "      <th>receiver2</th>\n",
              "      <th>createdtime2</th>\n",
              "      <th>content2</th>\n",
              "      <th>chatsession2</th>\n",
              "      <th>cutcontent2</th>\n",
              "      <th>before_msg_id2</th>\n",
              "      <th>after_msg_id2</th>\n",
              "      <th>timedifference</th>\n",
              "      <th>samesession</th>\n",
              "      <th>isadjacent</th>\n",
              "    </tr>\n",
              "  </thead>\n",
              "  <tbody>\n",
              "    <tr>\n",
              "      <th>1</th>\n",
              "      <td>721998824A234DEDB77FD0D7B870BD5E</td>\n",
              "      <td>i46lzkpoocvxe8gu</td>\n",
              "      <td>e008521d2ba29baf8d9e50238142ac5f</td>\n",
              "      <td>2019-04-13 23:25:10</td>\n",
              "      <td>没有保存</td>\n",
              "      <td>ei01</td>\n",
              "      <td>没有 保存</td>\n",
              "      <td>NaN</td>\n",
              "      <td>4CB4BFFA145546B9B32052973D0D3782</td>\n",
              "      <td>4CB4BFFA145546B9B32052973D0D3782</td>\n",
              "      <td>e008521d2ba29baf8d9e50238142ac5f</td>\n",
              "      <td>i46lzkpoocvxe8gu</td>\n",
              "      <td>2019-04-13 23:26:16</td>\n",
              "      <td>在群里说下</td>\n",
              "      <td>ei01</td>\n",
              "      <td>在 群里 说 下</td>\n",
              "      <td>721998824A234DEDB77FD0D7B870BD5E</td>\n",
              "      <td>87CD8A9588004872830880F040FC47B1</td>\n",
              "      <td>66</td>\n",
              "      <td>1</td>\n",
              "      <td>1</td>\n",
              "    </tr>\n",
              "    <tr>\n",
              "      <th>2</th>\n",
              "      <td>721998824A234DEDB77FD0D7B870BD5E</td>\n",
              "      <td>i46lzkpoocvxe8gu</td>\n",
              "      <td>e008521d2ba29baf8d9e50238142ac5f</td>\n",
              "      <td>2019-04-13 23:25:10</td>\n",
              "      <td>没有保存</td>\n",
              "      <td>ei01</td>\n",
              "      <td>没有 保存</td>\n",
              "      <td>NaN</td>\n",
              "      <td>4CB4BFFA145546B9B32052973D0D3782</td>\n",
              "      <td>87CD8A9588004872830880F040FC47B1</td>\n",
              "      <td>e008521d2ba29baf8d9e50238142ac5f</td>\n",
              "      <td>i46lzkpoocvxe8gu</td>\n",
              "      <td>2019-04-13 23:26:25</td>\n",
              "      <td>我切换账号后什么都没了..</td>\n",
              "      <td>ei01</td>\n",
              "      <td>我 切换 账号 后 什么 都 没 了 ..</td>\n",
              "      <td>4CB4BFFA145546B9B32052973D0D3782</td>\n",
              "      <td>Fu7RyGYOXtB8srVYvgFCx2KfsDy9CyFP</td>\n",
              "      <td>75</td>\n",
              "      <td>1</td>\n",
              "      <td>0</td>\n",
              "    </tr>\n",
              "    <tr>\n",
              "      <th>3</th>\n",
              "      <td>721998824A234DEDB77FD0D7B870BD5E</td>\n",
              "      <td>i46lzkpoocvxe8gu</td>\n",
              "      <td>e008521d2ba29baf8d9e50238142ac5f</td>\n",
              "      <td>2019-04-13 23:25:10</td>\n",
              "      <td>没有保存</td>\n",
              "      <td>ei01</td>\n",
              "      <td>没有 保存</td>\n",
              "      <td>NaN</td>\n",
              "      <td>4CB4BFFA145546B9B32052973D0D3782</td>\n",
              "      <td>Fu7RyGYOXtB8srVYvgFCx2KfsDy9CyFP</td>\n",
              "      <td>i46lzkpoocvxe8gu</td>\n",
              "      <td>e008521d2ba29baf8d9e50238142ac5f</td>\n",
              "      <td>2019-04-13 23:32:12</td>\n",
              "      <td>发几条单聊我</td>\n",
              "      <td>ei01</td>\n",
              "      <td>发 几条 单聊 我</td>\n",
              "      <td>87CD8A9588004872830880F040FC47B1</td>\n",
              "      <td>NaN</td>\n",
              "      <td>422</td>\n",
              "      <td>1</td>\n",
              "      <td>0</td>\n",
              "    </tr>\n",
              "    <tr>\n",
              "      <th>5</th>\n",
              "      <td>4CB4BFFA145546B9B32052973D0D3782</td>\n",
              "      <td>e008521d2ba29baf8d9e50238142ac5f</td>\n",
              "      <td>i46lzkpoocvxe8gu</td>\n",
              "      <td>2019-04-13 23:26:16</td>\n",
              "      <td>在群里说下</td>\n",
              "      <td>ei01</td>\n",
              "      <td>在 群里 说 下</td>\n",
              "      <td>721998824A234DEDB77FD0D7B870BD5E</td>\n",
              "      <td>87CD8A9588004872830880F040FC47B1</td>\n",
              "      <td>87CD8A9588004872830880F040FC47B1</td>\n",
              "      <td>e008521d2ba29baf8d9e50238142ac5f</td>\n",
              "      <td>i46lzkpoocvxe8gu</td>\n",
              "      <td>2019-04-13 23:26:25</td>\n",
              "      <td>我切换账号后什么都没了..</td>\n",
              "      <td>ei01</td>\n",
              "      <td>我 切换 账号 后 什么 都 没 了 ..</td>\n",
              "      <td>4CB4BFFA145546B9B32052973D0D3782</td>\n",
              "      <td>Fu7RyGYOXtB8srVYvgFCx2KfsDy9CyFP</td>\n",
              "      <td>9</td>\n",
              "      <td>1</td>\n",
              "      <td>1</td>\n",
              "    </tr>\n",
              "    <tr>\n",
              "      <th>6</th>\n",
              "      <td>4CB4BFFA145546B9B32052973D0D3782</td>\n",
              "      <td>e008521d2ba29baf8d9e50238142ac5f</td>\n",
              "      <td>i46lzkpoocvxe8gu</td>\n",
              "      <td>2019-04-13 23:26:16</td>\n",
              "      <td>在群里说下</td>\n",
              "      <td>ei01</td>\n",
              "      <td>在 群里 说 下</td>\n",
              "      <td>721998824A234DEDB77FD0D7B870BD5E</td>\n",
              "      <td>87CD8A9588004872830880F040FC47B1</td>\n",
              "      <td>Fu7RyGYOXtB8srVYvgFCx2KfsDy9CyFP</td>\n",
              "      <td>i46lzkpoocvxe8gu</td>\n",
              "      <td>e008521d2ba29baf8d9e50238142ac5f</td>\n",
              "      <td>2019-04-13 23:32:12</td>\n",
              "      <td>发几条单聊我</td>\n",
              "      <td>ei01</td>\n",
              "      <td>发 几条 单聊 我</td>\n",
              "      <td>87CD8A9588004872830880F040FC47B1</td>\n",
              "      <td>NaN</td>\n",
              "      <td>356</td>\n",
              "      <td>1</td>\n",
              "      <td>0</td>\n",
              "    </tr>\n",
              "  </tbody>\n",
              "</table>\n",
              "</div>"
            ],
            "text/plain": [
              "                             msgid1  ... isadjacent\n",
              "1  721998824A234DEDB77FD0D7B870BD5E  ...          1\n",
              "2  721998824A234DEDB77FD0D7B870BD5E  ...          0\n",
              "3  721998824A234DEDB77FD0D7B870BD5E  ...          0\n",
              "5  4CB4BFFA145546B9B32052973D0D3782  ...          1\n",
              "6  4CB4BFFA145546B9B32052973D0D3782  ...          0\n",
              "\n",
              "[5 rows x 21 columns]"
            ]
          },
          "metadata": {
            "tags": []
          },
          "execution_count": 20
        }
      ]
    },
    {
      "cell_type": "code",
      "metadata": {
        "id": "rE6fKHmRCfeG",
        "colab_type": "code",
        "colab": {
          "base_uri": "https://localhost:8080/",
          "height": 377
        },
        "outputId": "9dea9031-8c21-4c25-c7b3-9856d8e0a250"
      },
      "source": [
        "#corpus1 = allcorpus[allcorpus['samesession']==1].sample(n=10000, random_state=None, axis=0)\n",
        "corpus1 = allcorpus[allcorpus['samesession']==1].sample(n=7000, random_state=None, axis=0)\n",
        "corpus1.head()"
      ],
      "execution_count": null,
      "outputs": [
        {
          "output_type": "execute_result",
          "data": {
            "text/html": [
              "<div>\n",
              "<style scoped>\n",
              "    .dataframe tbody tr th:only-of-type {\n",
              "        vertical-align: middle;\n",
              "    }\n",
              "\n",
              "    .dataframe tbody tr th {\n",
              "        vertical-align: top;\n",
              "    }\n",
              "\n",
              "    .dataframe thead th {\n",
              "        text-align: right;\n",
              "    }\n",
              "</style>\n",
              "<table border=\"1\" class=\"dataframe\">\n",
              "  <thead>\n",
              "    <tr style=\"text-align: right;\">\n",
              "      <th></th>\n",
              "      <th>msgid1</th>\n",
              "      <th>sender1</th>\n",
              "      <th>receiver1</th>\n",
              "      <th>createdtime1</th>\n",
              "      <th>content1</th>\n",
              "      <th>chatsession1</th>\n",
              "      <th>cutcontent1</th>\n",
              "      <th>before_msg_id1</th>\n",
              "      <th>after_msg_id1</th>\n",
              "      <th>msgid2</th>\n",
              "      <th>sender2</th>\n",
              "      <th>receiver2</th>\n",
              "      <th>createdtime2</th>\n",
              "      <th>content2</th>\n",
              "      <th>chatsession2</th>\n",
              "      <th>cutcontent2</th>\n",
              "      <th>before_msg_id2</th>\n",
              "      <th>after_msg_id2</th>\n",
              "      <th>timedifference</th>\n",
              "      <th>samesession</th>\n",
              "      <th>isadjacent</th>\n",
              "    </tr>\n",
              "  </thead>\n",
              "  <tbody>\n",
              "    <tr>\n",
              "      <th>404561</th>\n",
              "      <td>NscUpsJZpkk6F1MZY2CowtiLa6KBk4Ph</td>\n",
              "      <td>abf31d555c6e19d605097621b9ebe350</td>\n",
              "      <td>d0f1f892e984d9039eb991818c2b0df8</td>\n",
              "      <td>2019-04-29 10:19:30</td>\n",
              "      <td>直接跑</td>\n",
              "      <td>ad21</td>\n",
              "      <td>直接 跑</td>\n",
              "      <td>3G9g9orQmvDpOSbTEylVzXmT2qJYqCiQ</td>\n",
              "      <td>Wy13f1RCxTnf1LqNOD0Hr1ks3nluEssM</td>\n",
              "      <td>FFcnHBoYBrdajWBx507EpQYjuTRWuNJY</td>\n",
              "      <td>abf31d555c6e19d605097621b9ebe350</td>\n",
              "      <td>d0f1f892e984d9039eb991818c2b0df8</td>\n",
              "      <td>2019-04-28 20:14:25</td>\n",
              "      <td>他们都看不到</td>\n",
              "      <td>ad21</td>\n",
              "      <td>他们 都 看不到</td>\n",
              "      <td>lNtsJfEhH0XzmdG3DfgFD16Wm4i2Gkn3</td>\n",
              "      <td>ad9a3f3366394a5aa2a118ae607c62eb</td>\n",
              "      <td>35695</td>\n",
              "      <td>1</td>\n",
              "      <td>0</td>\n",
              "    </tr>\n",
              "    <tr>\n",
              "      <th>756645</th>\n",
              "      <td>DDEB2FC8421646B2A4D4F5093BDA7A8B</td>\n",
              "      <td>32eccf456822cf7fe63cdc119b9e2d99</td>\n",
              "      <td>fea143853b78b670d06ec384c4fb7dd6</td>\n",
              "      <td>2019-05-10 18:33:04</td>\n",
              "      <td>哦 我看到了 没事的</td>\n",
              "      <td>f311</td>\n",
              "      <td>哦   我 看到 了   没事 的</td>\n",
              "      <td>4A85BC9E228A49CFBC8737EEB031E7A8</td>\n",
              "      <td>2A8E304A528E4F42B52C72D212258C05</td>\n",
              "      <td>71787EAD4D524B69BF6FB758F08196AD</td>\n",
              "      <td>fea143853b78b670d06ec384c4fb7dd6</td>\n",
              "      <td>32eccf456822cf7fe63cdc119b9e2d99</td>\n",
              "      <td>2019-05-10 18:40:57</td>\n",
              "      <td>[图片]</td>\n",
              "      <td>f311</td>\n",
              "      <td>[ 图片 ]</td>\n",
              "      <td>0513C7D8AA5A4568BC04BCB98EBEC0C6</td>\n",
              "      <td>B7EFCA8EBB0D4C33966D5BFE52C807F5</td>\n",
              "      <td>473</td>\n",
              "      <td>1</td>\n",
              "      <td>0</td>\n",
              "    </tr>\n",
              "    <tr>\n",
              "      <th>1145352</th>\n",
              "      <td>zFlq9VMK4HIi0kqdtTqxIocOvZYHDTKM</td>\n",
              "      <td>abf31d555c6e19d605097621b9ebe350</td>\n",
              "      <td>d0f1f892e984d9039eb991818c2b0df8</td>\n",
              "      <td>2019-05-29 14:30:19</td>\n",
              "      <td>替换好了</td>\n",
              "      <td>ad74</td>\n",
              "      <td>替换 好 了</td>\n",
              "      <td>USKCz8GoC3EG3wdO59i92y0bZ1hVVVd3</td>\n",
              "      <td>hdBbibDb0r9DfDOcRjyNu0hzbzhDycB5</td>\n",
              "      <td>hs4NqLQL9nXBz3OLIlEGcUBncTMWoERb</td>\n",
              "      <td>abf31d555c6e19d605097621b9ebe350</td>\n",
              "      <td>d0f1f892e984d9039eb991818c2b0df8</td>\n",
              "      <td>2019-05-29 15:03:51</td>\n",
              "      <td>阔以了</td>\n",
              "      <td>ad74</td>\n",
              "      <td>阔以 了</td>\n",
              "      <td>7rvBnFH6pBZdQQR924kkr5B9WfxXh5oW</td>\n",
              "      <td>VwdqauSe6GxWYcCoP1miiTzxRfDWTfN2</td>\n",
              "      <td>2012</td>\n",
              "      <td>1</td>\n",
              "      <td>0</td>\n",
              "    </tr>\n",
              "    <tr>\n",
              "      <th>368458</th>\n",
              "      <td>MvPaIE1nCJaZdTKPR0VFsHLKooGpX41W</td>\n",
              "      <td>abf31d555c6e19d605097621b9ebe350</td>\n",
              "      <td>d0f1f892e984d9039eb991818c2b0df8</td>\n",
              "      <td>2019-04-29 09:51:45</td>\n",
              "      <td>汤江涛还在用</td>\n",
              "      <td>ad21</td>\n",
              "      <td>汤江涛 还 在 用</td>\n",
              "      <td>OKDvJXCkQEYXlGBIzm6QTbXDidTjioL9</td>\n",
              "      <td>67flK6MRCuaYJ1vicJFwLrCKj3gkQoNh</td>\n",
              "      <td>NscUpsJZpkk6F1MZY2CowtiLa6KBk4Ph</td>\n",
              "      <td>abf31d555c6e19d605097621b9ebe350</td>\n",
              "      <td>d0f1f892e984d9039eb991818c2b0df8</td>\n",
              "      <td>2019-04-29 10:19:30</td>\n",
              "      <td>直接跑</td>\n",
              "      <td>ad21</td>\n",
              "      <td>直接 跑</td>\n",
              "      <td>3G9g9orQmvDpOSbTEylVzXmT2qJYqCiQ</td>\n",
              "      <td>Wy13f1RCxTnf1LqNOD0Hr1ks3nluEssM</td>\n",
              "      <td>1665</td>\n",
              "      <td>1</td>\n",
              "      <td>0</td>\n",
              "    </tr>\n",
              "    <tr>\n",
              "      <th>153901</th>\n",
              "      <td>ZeudWF5NBXjP7n7smkYpAmbNzF75xmTe</td>\n",
              "      <td>abf31d555c6e19d605097621b9ebe350</td>\n",
              "      <td>d0f1f892e984d9039eb991818c2b0df8</td>\n",
              "      <td>2019-04-13 16:43:07</td>\n",
              "      <td>nginx转的地址是</td>\n",
              "      <td>ad01</td>\n",
              "      <td>nginx 转 的 地址 是</td>\n",
              "      <td>EGPEVsJsOESJL2sTAKPNd1d6D7knznKg</td>\n",
              "      <td>aiYUuGZw0CRKxogRavHv4kXZRKUrWoLx</td>\n",
              "      <td>DXCzmOMH4Tx5b8cNlvux8WCFPTb0lAEV</td>\n",
              "      <td>abf31d555c6e19d605097621b9ebe350</td>\n",
              "      <td>d0f1f892e984d9039eb991818c2b0df8</td>\n",
              "      <td>2019-04-13 19:49:22</td>\n",
              "      <td>峰哥记得下次上线把那个config.ini 备份下</td>\n",
              "      <td>ad01</td>\n",
              "      <td>峰哥 记得 下次 上线 把 那个 config . ini   备份 下</td>\n",
              "      <td>30MrvKJzlD7FSdFDZryu9cAArFPRBuMi</td>\n",
              "      <td>BG4G4EFWlwvtGKI8EsN5HUahcsSZdQPc</td>\n",
              "      <td>11175</td>\n",
              "      <td>1</td>\n",
              "      <td>0</td>\n",
              "    </tr>\n",
              "  </tbody>\n",
              "</table>\n",
              "</div>"
            ],
            "text/plain": [
              "                                   msgid1  ... isadjacent\n",
              "404561   NscUpsJZpkk6F1MZY2CowtiLa6KBk4Ph  ...          0\n",
              "756645   DDEB2FC8421646B2A4D4F5093BDA7A8B  ...          0\n",
              "1145352  zFlq9VMK4HIi0kqdtTqxIocOvZYHDTKM  ...          0\n",
              "368458   MvPaIE1nCJaZdTKPR0VFsHLKooGpX41W  ...          0\n",
              "153901   ZeudWF5NBXjP7n7smkYpAmbNzF75xmTe  ...          0\n",
              "\n",
              "[5 rows x 21 columns]"
            ]
          },
          "metadata": {
            "tags": []
          },
          "execution_count": 21
        }
      ]
    },
    {
      "cell_type": "code",
      "metadata": {
        "id": "FWhh6EeVErIt",
        "colab_type": "code",
        "colab": {
          "base_uri": "https://localhost:8080/",
          "height": 549
        },
        "outputId": "83953108-1745-454a-d5a5-db60597c67dc"
      },
      "source": [
        "corpus2 = allcorpus[allcorpus['samesession']==0].sample(n=7000, random_state=None, axis=0)\n",
        "#corpus2 = allcorpus[allcorpus['samesession']==0].sample(n=10000, random_state=None, axis=0)\n",
        "corpus2.head()"
      ],
      "execution_count": null,
      "outputs": [
        {
          "output_type": "execute_result",
          "data": {
            "text/html": [
              "<div>\n",
              "<style scoped>\n",
              "    .dataframe tbody tr th:only-of-type {\n",
              "        vertical-align: middle;\n",
              "    }\n",
              "\n",
              "    .dataframe tbody tr th {\n",
              "        vertical-align: top;\n",
              "    }\n",
              "\n",
              "    .dataframe thead th {\n",
              "        text-align: right;\n",
              "    }\n",
              "</style>\n",
              "<table border=\"1\" class=\"dataframe\">\n",
              "  <thead>\n",
              "    <tr style=\"text-align: right;\">\n",
              "      <th></th>\n",
              "      <th>msgid1</th>\n",
              "      <th>sender1</th>\n",
              "      <th>receiver1</th>\n",
              "      <th>createdtime1</th>\n",
              "      <th>content1</th>\n",
              "      <th>chatsession1</th>\n",
              "      <th>cutcontent1</th>\n",
              "      <th>before_msg_id1</th>\n",
              "      <th>after_msg_id1</th>\n",
              "      <th>msgid2</th>\n",
              "      <th>sender2</th>\n",
              "      <th>receiver2</th>\n",
              "      <th>createdtime2</th>\n",
              "      <th>content2</th>\n",
              "      <th>chatsession2</th>\n",
              "      <th>cutcontent2</th>\n",
              "      <th>before_msg_id2</th>\n",
              "      <th>after_msg_id2</th>\n",
              "      <th>timedifference</th>\n",
              "      <th>samesession</th>\n",
              "      <th>isadjacent</th>\n",
              "    </tr>\n",
              "  </thead>\n",
              "  <tbody>\n",
              "    <tr>\n",
              "      <th>640170</th>\n",
              "      <td>F53GMJ0c99VJaDDnqZ6POvGBZR0AFEkp</td>\n",
              "      <td>d0f1f892e984d9039eb991818c2b0df8</td>\n",
              "      <td>abf31d555c6e19d605097621b9ebe350</td>\n",
              "      <td>2019-05-08 16:41:29</td>\n",
              "      <td>嗯嗯 ，你是直接要看文件还是copy</td>\n",
              "      <td>ad33</td>\n",
              "      <td>嗯 嗯   ， 你 是 直接 要 看 文件 还是 copy</td>\n",
              "      <td>VScDcVtHD05JsQTZsmY5nA1rnM64UP7C</td>\n",
              "      <td>nTIXHmn8ibM4AkHTOh4PpV4kfpcMHKdq</td>\n",
              "      <td>hr8Diu77cOqfugeGpM390AHN5LYUMVSO</td>\n",
              "      <td>d0f1f892e984d9039eb991818c2b0df8</td>\n",
              "      <td>abf31d555c6e19d605097621b9ebe350</td>\n",
              "      <td>2019-04-28 19:45:35</td>\n",
              "      <td>远程在250上面‘</td>\n",
              "      <td>ad21</td>\n",
              "      <td>远程 在 250 上面 ‘</td>\n",
              "      <td>VjkHavMLP0TCxulSfOsLdk0I7OmgzRSj</td>\n",
              "      <td>ncGEIKVKJX9uZqGa4WzWjDDvs82V8dRl</td>\n",
              "      <td>11046</td>\n",
              "      <td>0</td>\n",
              "      <td>0</td>\n",
              "    </tr>\n",
              "    <tr>\n",
              "      <th>918523</th>\n",
              "      <td>UU8EtD6bRvTqHoAVIVC04wC9vITsyKOk</td>\n",
              "      <td>d0f1f892e984d9039eb991818c2b0df8</td>\n",
              "      <td>abf31d555c6e19d605097621b9ebe350</td>\n",
              "      <td>2019-05-22 15:51:04</td>\n",
              "      <td>加了后前端解析出错。 生产环境和测试环境不一样。</td>\n",
              "      <td>ad60</td>\n",
              "      <td>加 了 后 前端 解析 出错 。   生产 环境 和 测试环境 不 一样 。</td>\n",
              "      <td>WjijcHY63cY1ckRhNB2Cz4ZZKcSdlJZX</td>\n",
              "      <td>Yssn3q2GqZgzDXb5SqejXycAPMCSoLYJ</td>\n",
              "      <td>kIwYI7UrkGRuaRoTYCJ5PcrFkg8qQVyN</td>\n",
              "      <td>d0f1f892e984d9039eb991818c2b0df8</td>\n",
              "      <td>abf31d555c6e19d605097621b9ebe350</td>\n",
              "      <td>2019-05-21 20:50:26</td>\n",
              "      <td>你是在看appsapi 日志吗</td>\n",
              "      <td>ad59</td>\n",
              "      <td>你 是 在 看 appsapi   日志 吗</td>\n",
              "      <td>OBgUkP9I3J0VqZGiXFj12R9qrFs44CGv</td>\n",
              "      <td>4OGSJD8O7nie7cgSRivZvCxXiygAkuej</td>\n",
              "      <td>17962</td>\n",
              "      <td>0</td>\n",
              "      <td>0</td>\n",
              "    </tr>\n",
              "    <tr>\n",
              "      <th>747279</th>\n",
              "      <td>ad821fda2a0e47dc97d5c1b9a9082e4c</td>\n",
              "      <td>d0f1f892e984d9039eb991818c2b0df8</td>\n",
              "      <td>abf31d555c6e19d605097621b9ebe350</td>\n",
              "      <td>2019-05-10 16:59:06</td>\n",
              "      <td>改的多吗，我一会是整包替换会覆盖。</td>\n",
              "      <td>ad37</td>\n",
              "      <td>改 的 多 吗 ， 我 一会 是 整包 替换 会 覆盖 。</td>\n",
              "      <td>J06LHI3XDH4rhbJ5ZRTCyiKWB0kmY0qV</td>\n",
              "      <td>uZiCA9Fzh6tTXiTHD5FSNNbOb6oQKJjU</td>\n",
              "      <td>McfBAx1AdRC4KP4AlgeNgN1crTAqkmek</td>\n",
              "      <td>abf31d555c6e19d605097621b9ebe350</td>\n",
              "      <td>d0f1f892e984d9039eb991818c2b0df8</td>\n",
              "      <td>2019-05-10 21:35:27</td>\n",
              "      <td>没有新包是吧</td>\n",
              "      <td>ad42</td>\n",
              "      <td>没有 新包 是 吧</td>\n",
              "      <td>p9FaP1pYGgRhGkCzUlMvxmm9fTa9mu5J</td>\n",
              "      <td>rt0YvijcEMkgx63VHtlxUXLTbv56b2f8</td>\n",
              "      <td>16581</td>\n",
              "      <td>0</td>\n",
              "      <td>0</td>\n",
              "    </tr>\n",
              "    <tr>\n",
              "      <th>917848</th>\n",
              "      <td>UU8EtD6bRvTqHoAVIVC04wC9vITsyKOk</td>\n",
              "      <td>d0f1f892e984d9039eb991818c2b0df8</td>\n",
              "      <td>abf31d555c6e19d605097621b9ebe350</td>\n",
              "      <td>2019-05-22 15:51:04</td>\n",
              "      <td>加了后前端解析出错。 生产环境和测试环境不一样。</td>\n",
              "      <td>ad60</td>\n",
              "      <td>加 了 后 前端 解析 出错 。   生产 环境 和 测试环境 不 一样 。</td>\n",
              "      <td>WjijcHY63cY1ckRhNB2Cz4ZZKcSdlJZX</td>\n",
              "      <td>Yssn3q2GqZgzDXb5SqejXycAPMCSoLYJ</td>\n",
              "      <td>2NhzFBbE3CU5TeSbEXp7QaPfQQp356n8</td>\n",
              "      <td>d0f1f892e984d9039eb991818c2b0df8</td>\n",
              "      <td>abf31d555c6e19d605097621b9ebe350</td>\n",
              "      <td>2019-04-28 17:07:15</td>\n",
              "      <td>我这边可以登陆啊</td>\n",
              "      <td>ad20</td>\n",
              "      <td>我 这边 可以 登陆 啊</td>\n",
              "      <td>b842OQLFvKZCWrGFviQProvq8Mo3u9CV</td>\n",
              "      <td>GfpBu4hBR7BHsWqH8YNPwUSAhfMRKJIg</td>\n",
              "      <td>4571</td>\n",
              "      <td>0</td>\n",
              "      <td>0</td>\n",
              "    </tr>\n",
              "    <tr>\n",
              "      <th>167000</th>\n",
              "      <td>Dok3rO2waBDppqeJILXDo4xIYMQRnUnN</td>\n",
              "      <td>abf31d555c6e19d605097621b9ebe350</td>\n",
              "      <td>d0f1f892e984d9039eb991818c2b0df8</td>\n",
              "      <td>2019-04-13 17:10:14</td>\n",
              "      <td>249你登录这吗</td>\n",
              "      <td>ad01</td>\n",
              "      <td>249 你 登录 这 吗</td>\n",
              "      <td>dxyoUPaIhNfalangkfmYlK8ZSeor7uXJ</td>\n",
              "      <td>rOX7nguvPRTWAvC8CF24AxErPrx6BCPY</td>\n",
              "      <td>qgpW6S9G5vijU2c8FbaxP0JruotoKoB3</td>\n",
              "      <td>d0f1f892e984d9039eb991818c2b0df8</td>\n",
              "      <td>abf31d555c6e19d605097621b9ebe350</td>\n",
              "      <td>2019-04-29 19:46:47</td>\n",
              "      <td>为啥？</td>\n",
              "      <td>ad27</td>\n",
              "      <td>为啥 ？</td>\n",
              "      <td>dK7IcQ8bIaWSa4d3lt5XS4B3rleDpiae</td>\n",
              "      <td>agJMmDFM4xy7PWL11Ly1DePtENxffjRo</td>\n",
              "      <td>9393</td>\n",
              "      <td>0</td>\n",
              "      <td>0</td>\n",
              "    </tr>\n",
              "  </tbody>\n",
              "</table>\n",
              "</div>"
            ],
            "text/plain": [
              "                                  msgid1  ... isadjacent\n",
              "640170  F53GMJ0c99VJaDDnqZ6POvGBZR0AFEkp  ...          0\n",
              "918523  UU8EtD6bRvTqHoAVIVC04wC9vITsyKOk  ...          0\n",
              "747279  ad821fda2a0e47dc97d5c1b9a9082e4c  ...          0\n",
              "917848  UU8EtD6bRvTqHoAVIVC04wC9vITsyKOk  ...          0\n",
              "167000  Dok3rO2waBDppqeJILXDo4xIYMQRnUnN  ...          0\n",
              "\n",
              "[5 rows x 21 columns]"
            ]
          },
          "metadata": {
            "tags": []
          },
          "execution_count": 22
        }
      ]
    },
    {
      "cell_type": "code",
      "metadata": {
        "id": "jAa_caKR_12e",
        "colab_type": "code",
        "colab": {
          "base_uri": "https://localhost:8080/",
          "height": 35
        },
        "outputId": "bf425f46-3baf-4283-c525-61cfc6d6f7f4"
      },
      "source": [
        "col_name = allcorpus.columns\n",
        "corpus = pd.DataFrame(columns = col_name)\n",
        "corpus = corpus.append(corpus1, ignore_index = True)\n",
        "corpus = corpus.append(corpus2, ignore_index = True)\n",
        "corpus.shape[0]"
      ],
      "execution_count": null,
      "outputs": [
        {
          "output_type": "execute_result",
          "data": {
            "text/plain": [
              "14000"
            ]
          },
          "metadata": {
            "tags": []
          },
          "execution_count": 23
        }
      ]
    },
    {
      "cell_type": "code",
      "metadata": {
        "id": "Ych6rPQUBLQl",
        "colab_type": "code",
        "colab": {
          "base_uri": "https://localhost:8080/",
          "height": 377
        },
        "outputId": "846f6004-559e-4665-de4c-23cd6fa1e69a"
      },
      "source": [
        "corpus.head()"
      ],
      "execution_count": null,
      "outputs": [
        {
          "output_type": "execute_result",
          "data": {
            "text/html": [
              "<div>\n",
              "<style scoped>\n",
              "    .dataframe tbody tr th:only-of-type {\n",
              "        vertical-align: middle;\n",
              "    }\n",
              "\n",
              "    .dataframe tbody tr th {\n",
              "        vertical-align: top;\n",
              "    }\n",
              "\n",
              "    .dataframe thead th {\n",
              "        text-align: right;\n",
              "    }\n",
              "</style>\n",
              "<table border=\"1\" class=\"dataframe\">\n",
              "  <thead>\n",
              "    <tr style=\"text-align: right;\">\n",
              "      <th></th>\n",
              "      <th>msgid1</th>\n",
              "      <th>sender1</th>\n",
              "      <th>receiver1</th>\n",
              "      <th>createdtime1</th>\n",
              "      <th>content1</th>\n",
              "      <th>chatsession1</th>\n",
              "      <th>cutcontent1</th>\n",
              "      <th>before_msg_id1</th>\n",
              "      <th>after_msg_id1</th>\n",
              "      <th>msgid2</th>\n",
              "      <th>sender2</th>\n",
              "      <th>receiver2</th>\n",
              "      <th>createdtime2</th>\n",
              "      <th>content2</th>\n",
              "      <th>chatsession2</th>\n",
              "      <th>cutcontent2</th>\n",
              "      <th>before_msg_id2</th>\n",
              "      <th>after_msg_id2</th>\n",
              "      <th>timedifference</th>\n",
              "      <th>samesession</th>\n",
              "      <th>isadjacent</th>\n",
              "    </tr>\n",
              "  </thead>\n",
              "  <tbody>\n",
              "    <tr>\n",
              "      <th>0</th>\n",
              "      <td>NscUpsJZpkk6F1MZY2CowtiLa6KBk4Ph</td>\n",
              "      <td>abf31d555c6e19d605097621b9ebe350</td>\n",
              "      <td>d0f1f892e984d9039eb991818c2b0df8</td>\n",
              "      <td>2019-04-29 10:19:30</td>\n",
              "      <td>直接跑</td>\n",
              "      <td>ad21</td>\n",
              "      <td>直接 跑</td>\n",
              "      <td>3G9g9orQmvDpOSbTEylVzXmT2qJYqCiQ</td>\n",
              "      <td>Wy13f1RCxTnf1LqNOD0Hr1ks3nluEssM</td>\n",
              "      <td>FFcnHBoYBrdajWBx507EpQYjuTRWuNJY</td>\n",
              "      <td>abf31d555c6e19d605097621b9ebe350</td>\n",
              "      <td>d0f1f892e984d9039eb991818c2b0df8</td>\n",
              "      <td>2019-04-28 20:14:25</td>\n",
              "      <td>他们都看不到</td>\n",
              "      <td>ad21</td>\n",
              "      <td>他们 都 看不到</td>\n",
              "      <td>lNtsJfEhH0XzmdG3DfgFD16Wm4i2Gkn3</td>\n",
              "      <td>ad9a3f3366394a5aa2a118ae607c62eb</td>\n",
              "      <td>35695</td>\n",
              "      <td>1</td>\n",
              "      <td>0</td>\n",
              "    </tr>\n",
              "    <tr>\n",
              "      <th>1</th>\n",
              "      <td>DDEB2FC8421646B2A4D4F5093BDA7A8B</td>\n",
              "      <td>32eccf456822cf7fe63cdc119b9e2d99</td>\n",
              "      <td>fea143853b78b670d06ec384c4fb7dd6</td>\n",
              "      <td>2019-05-10 18:33:04</td>\n",
              "      <td>哦 我看到了 没事的</td>\n",
              "      <td>f311</td>\n",
              "      <td>哦   我 看到 了   没事 的</td>\n",
              "      <td>4A85BC9E228A49CFBC8737EEB031E7A8</td>\n",
              "      <td>2A8E304A528E4F42B52C72D212258C05</td>\n",
              "      <td>71787EAD4D524B69BF6FB758F08196AD</td>\n",
              "      <td>fea143853b78b670d06ec384c4fb7dd6</td>\n",
              "      <td>32eccf456822cf7fe63cdc119b9e2d99</td>\n",
              "      <td>2019-05-10 18:40:57</td>\n",
              "      <td>[图片]</td>\n",
              "      <td>f311</td>\n",
              "      <td>[ 图片 ]</td>\n",
              "      <td>0513C7D8AA5A4568BC04BCB98EBEC0C6</td>\n",
              "      <td>B7EFCA8EBB0D4C33966D5BFE52C807F5</td>\n",
              "      <td>473</td>\n",
              "      <td>1</td>\n",
              "      <td>0</td>\n",
              "    </tr>\n",
              "    <tr>\n",
              "      <th>2</th>\n",
              "      <td>zFlq9VMK4HIi0kqdtTqxIocOvZYHDTKM</td>\n",
              "      <td>abf31d555c6e19d605097621b9ebe350</td>\n",
              "      <td>d0f1f892e984d9039eb991818c2b0df8</td>\n",
              "      <td>2019-05-29 14:30:19</td>\n",
              "      <td>替换好了</td>\n",
              "      <td>ad74</td>\n",
              "      <td>替换 好 了</td>\n",
              "      <td>USKCz8GoC3EG3wdO59i92y0bZ1hVVVd3</td>\n",
              "      <td>hdBbibDb0r9DfDOcRjyNu0hzbzhDycB5</td>\n",
              "      <td>hs4NqLQL9nXBz3OLIlEGcUBncTMWoERb</td>\n",
              "      <td>abf31d555c6e19d605097621b9ebe350</td>\n",
              "      <td>d0f1f892e984d9039eb991818c2b0df8</td>\n",
              "      <td>2019-05-29 15:03:51</td>\n",
              "      <td>阔以了</td>\n",
              "      <td>ad74</td>\n",
              "      <td>阔以 了</td>\n",
              "      <td>7rvBnFH6pBZdQQR924kkr5B9WfxXh5oW</td>\n",
              "      <td>VwdqauSe6GxWYcCoP1miiTzxRfDWTfN2</td>\n",
              "      <td>2012</td>\n",
              "      <td>1</td>\n",
              "      <td>0</td>\n",
              "    </tr>\n",
              "    <tr>\n",
              "      <th>3</th>\n",
              "      <td>MvPaIE1nCJaZdTKPR0VFsHLKooGpX41W</td>\n",
              "      <td>abf31d555c6e19d605097621b9ebe350</td>\n",
              "      <td>d0f1f892e984d9039eb991818c2b0df8</td>\n",
              "      <td>2019-04-29 09:51:45</td>\n",
              "      <td>汤江涛还在用</td>\n",
              "      <td>ad21</td>\n",
              "      <td>汤江涛 还 在 用</td>\n",
              "      <td>OKDvJXCkQEYXlGBIzm6QTbXDidTjioL9</td>\n",
              "      <td>67flK6MRCuaYJ1vicJFwLrCKj3gkQoNh</td>\n",
              "      <td>NscUpsJZpkk6F1MZY2CowtiLa6KBk4Ph</td>\n",
              "      <td>abf31d555c6e19d605097621b9ebe350</td>\n",
              "      <td>d0f1f892e984d9039eb991818c2b0df8</td>\n",
              "      <td>2019-04-29 10:19:30</td>\n",
              "      <td>直接跑</td>\n",
              "      <td>ad21</td>\n",
              "      <td>直接 跑</td>\n",
              "      <td>3G9g9orQmvDpOSbTEylVzXmT2qJYqCiQ</td>\n",
              "      <td>Wy13f1RCxTnf1LqNOD0Hr1ks3nluEssM</td>\n",
              "      <td>1665</td>\n",
              "      <td>1</td>\n",
              "      <td>0</td>\n",
              "    </tr>\n",
              "    <tr>\n",
              "      <th>4</th>\n",
              "      <td>ZeudWF5NBXjP7n7smkYpAmbNzF75xmTe</td>\n",
              "      <td>abf31d555c6e19d605097621b9ebe350</td>\n",
              "      <td>d0f1f892e984d9039eb991818c2b0df8</td>\n",
              "      <td>2019-04-13 16:43:07</td>\n",
              "      <td>nginx转的地址是</td>\n",
              "      <td>ad01</td>\n",
              "      <td>nginx 转 的 地址 是</td>\n",
              "      <td>EGPEVsJsOESJL2sTAKPNd1d6D7knznKg</td>\n",
              "      <td>aiYUuGZw0CRKxogRavHv4kXZRKUrWoLx</td>\n",
              "      <td>DXCzmOMH4Tx5b8cNlvux8WCFPTb0lAEV</td>\n",
              "      <td>abf31d555c6e19d605097621b9ebe350</td>\n",
              "      <td>d0f1f892e984d9039eb991818c2b0df8</td>\n",
              "      <td>2019-04-13 19:49:22</td>\n",
              "      <td>峰哥记得下次上线把那个config.ini 备份下</td>\n",
              "      <td>ad01</td>\n",
              "      <td>峰哥 记得 下次 上线 把 那个 config . ini   备份 下</td>\n",
              "      <td>30MrvKJzlD7FSdFDZryu9cAArFPRBuMi</td>\n",
              "      <td>BG4G4EFWlwvtGKI8EsN5HUahcsSZdQPc</td>\n",
              "      <td>11175</td>\n",
              "      <td>1</td>\n",
              "      <td>0</td>\n",
              "    </tr>\n",
              "  </tbody>\n",
              "</table>\n",
              "</div>"
            ],
            "text/plain": [
              "                             msgid1  ... isadjacent\n",
              "0  NscUpsJZpkk6F1MZY2CowtiLa6KBk4Ph  ...          0\n",
              "1  DDEB2FC8421646B2A4D4F5093BDA7A8B  ...          0\n",
              "2  zFlq9VMK4HIi0kqdtTqxIocOvZYHDTKM  ...          0\n",
              "3  MvPaIE1nCJaZdTKPR0VFsHLKooGpX41W  ...          0\n",
              "4  ZeudWF5NBXjP7n7smkYpAmbNzF75xmTe  ...          0\n",
              "\n",
              "[5 rows x 21 columns]"
            ]
          },
          "metadata": {
            "tags": []
          },
          "execution_count": 24
        }
      ]
    },
    {
      "cell_type": "code",
      "metadata": {
        "id": "nldpD2lpau3t",
        "colab_type": "code",
        "colab": {
          "base_uri": "https://localhost:8080/",
          "height": 123
        },
        "outputId": "3ae71e37-007f-4c9d-f93a-5a8a1250193a"
      },
      "source": [
        "corpus.columns"
      ],
      "execution_count": null,
      "outputs": [
        {
          "output_type": "execute_result",
          "data": {
            "text/plain": [
              "Index(['msgid1', 'sender1', 'receiver1', 'createdtime1', 'content1',\n",
              "       'chatsession1', 'cutcontent1', 'before_msg_id1', 'after_msg_id1',\n",
              "       'msgid2', 'sender2', 'receiver2', 'createdtime2', 'content2',\n",
              "       'chatsession2', 'cutcontent2', 'before_msg_id2', 'after_msg_id2',\n",
              "       'timedifference', 'samesession', 'isadjacent'],\n",
              "      dtype='object')"
            ]
          },
          "metadata": {
            "tags": []
          },
          "execution_count": 25
        }
      ]
    },
    {
      "cell_type": "code",
      "metadata": {
        "id": "R_K5VJRIBe3l",
        "colab_type": "code",
        "colab": {
          "base_uri": "https://localhost:8080/",
          "height": 193
        },
        "outputId": "1005c1a1-58e5-4d31-90ed-1241a3fcbca9"
      },
      "source": [
        "!pip install zhon"
      ],
      "execution_count": null,
      "outputs": [
        {
          "output_type": "stream",
          "text": [
            "Collecting zhon\n",
            "\u001b[?25l  Downloading https://files.pythonhosted.org/packages/9f/b0/c56c6079ad47c35a2341440818b6620de8c46a265ed690a51b1a4e5591bc/zhon-1.1.5.tar.gz (99kB)\n",
            "\r\u001b[K     |███▎                            | 10kB 28.3MB/s eta 0:00:01\r\u001b[K     |██████▋                         | 20kB 5.4MB/s eta 0:00:01\r\u001b[K     |█████████▉                      | 30kB 7.1MB/s eta 0:00:01\r\u001b[K     |█████████████▏                  | 40kB 7.7MB/s eta 0:00:01\r\u001b[K     |████████████████▍               | 51kB 6.4MB/s eta 0:00:01\r\u001b[K     |███████████████████▊            | 61kB 7.5MB/s eta 0:00:01\r\u001b[K     |███████████████████████         | 71kB 7.9MB/s eta 0:00:01\r\u001b[K     |██████████████████████████▎     | 81kB 8.3MB/s eta 0:00:01\r\u001b[K     |█████████████████████████████▌  | 92kB 8.5MB/s eta 0:00:01\r\u001b[K     |████████████████████████████████| 102kB 6.0MB/s \n",
            "\u001b[?25hBuilding wheels for collected packages: zhon\n",
            "  Building wheel for zhon (setup.py) ... \u001b[?25l\u001b[?25hdone\n",
            "  Created wheel for zhon: filename=zhon-1.1.5-cp36-none-any.whl size=84293 sha256=39e03d417a476e0dd6052ce3a594163c9e95f034f112b2346f4aa9074a861949\n",
            "  Stored in directory: /root/.cache/pip/wheels/0e/93/5a/ad2f403c359ba996e33c21bf18611d921413df9740ede2fcf4\n",
            "Successfully built zhon\n",
            "Installing collected packages: zhon\n",
            "Successfully installed zhon-1.1.5\n"
          ],
          "name": "stdout"
        }
      ]
    },
    {
      "cell_type": "code",
      "metadata": {
        "id": "EbQYcwcbmN0L",
        "colab_type": "code",
        "colab": {
          "base_uri": "https://localhost:8080/",
          "height": 87
        },
        "outputId": "aa56c4c1-a1b7-44ca-fe0f-0cf14f643552"
      },
      "source": [
        "#去除标点符号 (https://github.com/tsroten/zhon)\n",
        "import re\n",
        "import string\n",
        "import jieba\n",
        "from zhon.hanzi import punctuation\n",
        "\n",
        "#去中文标点以及特殊符号\n",
        "def clean_punctuation(text):\n",
        "  document = re.sub(\"[{}]+\".format(punctuation), \"\", text)\n",
        "  return document\n",
        "#去除英文标点符号以及特殊符号\n",
        "def clean_en_punctuation(text):\n",
        "  trantab = str.maketrans({key: None for key in string.punctuation})\n",
        "  doc = text.translate(trantab)\n",
        "  document = re.sub(\"[!#$%&\\'()*+,-./:;<=>?@，。?★？[\\\\]^_`{|}~\\s]+\", \"\", doc)\n",
        "  return document\n",
        "#分词得到分词后的list\n",
        "def cutsentence(text):\n",
        "  document = jieba.lcut(text)\n",
        "  return document\n",
        "#去停用词\n",
        "def delete_stopwords(text):\n",
        "  filestopword = path + '/chatdata/hit_stopwords.txt'\n",
        "  stopwords = [line.strip().decode('utf-8') for line in open(filestopword,'rb').readlines()]\n",
        "\n",
        "  document = [w for w in text if w not in stopwords and len(w)>=2]\n",
        "\n",
        "  return document\n",
        "\n",
        "#先替换词汇，再去掉标点，再分词\n",
        "corpus['cutcontent1'] = corpus['content1'].apply(lambda x: x.replace('haode','好的'))\n",
        "corpus['cutcontent1'] = corpus['cutcontent1'].apply(lambda x: x.replace('hao','好'))\n",
        "corpus['cutcontent1'] = corpus['cutcontent1'].apply(lambda x: x.replace('enen','嗯嗯'))\n",
        "corpus['cutcontent1'] = corpus['cutcontent1'].apply(lambda x: x.replace('Joywok','乐工'))\n",
        "corpus['cutcontent1'] = corpus['cutcontent1'].apply(lambda x: x.replace('joywok','乐工'))\n",
        "corpus['cutcontent1'] = corpus['cutcontent1'].apply(lambda x: x.replace('dogesoft','道勤',))\n",
        "#corpus['cutcontent1'] = corpus['cutcontent1'].apply(lambda x: x.replace('icon','图标'))\n",
        "#corpus['cutcontent1'] = corpus['cutcontent1'].apply(lambda x: x.replace('Detail','细节'))\n",
        "#corpus['cutcontent1'] = corpus['cutcontent1'].apply(lambda x: x.replace('detail','细节'))\n",
        "#corpus['cutcontent1'] = corpus['cutcontent1'].apply(lambda x: x.replace('plan','计划'))\n",
        "#corpus['cutcontent1'] = corpus['cutcontent1'].apply(lambda x: x.replace('CRM','客户关系管理软件'))\n",
        "#corpus['cutcontent1'] = corpus['cutcontent1'].apply(lambda x: x.replace('profile','简介页面'))\n",
        "#corpus['cutcontent1'] = corpus['cutcontent1'].apply(lambda x: x.replace('team','团队'))\n",
        "corpus['cutcontent1'] = corpus['cutcontent1'].apply(lambda x: x.replace('he','和'))\n",
        "corpus['cutcontent1'] = corpus['cutcontent1'].apply(lambda x: x.replace('JMIS','企业应用快速开发框架'))\n",
        "corpus['cutcontent1'] = corpus['cutcontent1'].apply(lambda x: x.replace('jmis','企业应用快速开发框架'))\n",
        "#corpus['cutcontent1'] = corpus['cutcontent1'].apply(lambda x: x.replace('app','手机应用程序'))\n",
        "#corpus['cutcontent1'] = corpus['cutcontent1'].apply(lambda x: x.replace('APP','手机应用程序'))\n",
        "#corpus['cutcontent1'] = corpus['cutcontent1'].apply(lambda x: x.replace('App','手机应用程序'))\n",
        "#corpus['cutcontent1'] = corpus['cutcontent1'].apply(lambda x: x.replace('ok','好'))\n",
        "corpus['cutcontent1'] = corpus['cutcontent1'].apply(lambda x: x.replace('staging环境','模拟环境'))\n",
        "corpus['cutcontent1'] = corpus['cutcontent1'].apply(lambda x: x.replace('Staging环境','模拟环境'))\n",
        "corpus['cutcontent1'] = corpus['cutcontent1'].apply(lambda x: x.replace('subfunction','副职能'))\n",
        "corpus['cutcontent1'] = corpus['cutcontent1'].apply(lambda x: x.replace('function','职能'))\n",
        "corpus['cutcontent1'] = corpus['cutcontent1'].apply(lambda x: x.replace('sbux','星巴克'))\n",
        "corpus['cutcontent1'] = corpus['cutcontent1'].apply(lambda x: x.replace('Sbux','星巴克'))\n",
        "#corpus['cutcontent1'] = corpus['cutcontent1'].apply(lambda x: x.replace('Starbucks','星巴克'))\n",
        "#corpus['cutcontent1'] = corpus['cutcontent1'].apply(lambda x: x.replace('starbucks','星巴克'))\n",
        "#corpus['cutcontent1'] = corpus['cutcontent1'].apply(lambda x: x.replace('starbuck','星巴克'))\n",
        "#corpus['cutcontent1'] = corpus['cutcontent1'].apply(lambda x: x.replace('JS SDK','开发工具包'))\n",
        "corpus['cutcontent1'] = corpus['cutcontent1'].apply(lambda x: x.replace('UDID','唯一设备标识符'))\n",
        "corpus['cutcontent1'] = corpus['cutcontent1'].apply(lambda x: x.replace('test环境','测试环境'))\n",
        "#corpus['cutcontent1'] = corpus['cutcontent1'].apply(lambda x: x.replace('IP','网络地址'))\n",
        "#corpus['cutcontent1'] = corpus['cutcontent1'].apply(lambda x: x.replace('ip','网络地址'))\n",
        "corpus['cutcontent1'] = corpus['cutcontent1'].apply(lambda x: x.replace('H5','超文本标记语言5'))\n",
        "corpus['cutcontent1'] = corpus['cutcontent1'].apply(lambda x: x.replace('HTML','超文本标记语言'))\n",
        "#corpus['cutcontent1'] = corpus['cutcontent1'].apply(lambda x: x.replace('ssl','安全套接字协议'))\n",
        "corpus['cutcontent1'] = corpus['cutcontent1'].apply(lambda x: x.replace('BPM','业务流程管理应用'))\n",
        "corpus['cutcontent1'] = corpus['cutcontent1'].apply(lambda x: x.replace('RabbitMQ','开源消息代理软件'))\n",
        "corpus['cutcontent1'] = corpus['cutcontent1'].apply(lambda x: x.replace('rabbitmq','开源消息代理软件'))\n",
        "corpus['cutcontent1'] = corpus['cutcontent1'].apply(lambda x: x.replace('devicetoken','设备令牌'))\n",
        "corpus['cutcontent1'] = corpus['cutcontent1'].apply(lambda x: x.replace('deviceToken','设备令牌'))\n",
        "corpus['cutcontent1'] = corpus['cutcontent1'].apply(lambda x: x.replace('bundle-id','软件标识'))\n",
        "corpus['cutcontent1'] = corpus['cutcontent1'].apply(lambda x: x.replace('BUSHI','不是'))\n",
        "corpus['cutcontent1'] = corpus['cutcontent1'].apply(lambda x: x.replace('UAT','用户接受测试'))\n",
        "corpus['cutcontent1'] = corpus['cutcontent1'].apply(lambda x: x.replace('douwei',' '))\n",
        "corpus['cutcontent1'] = corpus['cutcontent1'].apply(lambda x: x.replace('Agenda','agenda'))\n",
        "corpus['cutcontent1'] = corpus['cutcontent1'].apply(lambda x: x.replace('concall','conference call'))\n",
        "corpus['cutcontent1'] = corpus['cutcontent1'].apply(lambda x: x.replace('saas','SaaS'))\n",
        "corpus['cutcontent1'] = corpus['cutcontent1'].apply(lambda x: x.replace('Pls','pls'))\n",
        "corpus['cutcontent1'] = corpus['cutcontent1'].apply(lambda x: x.replace('IAG','接入网关'))\n",
        "corpus['cutcontent1'] = corpus['cutcontent1'].apply(lambda x: x.replace('Issuer',' '))\n",
        "corpus['cutcontent1'] = corpus['cutcontent1'].apply(lambda x: x.replace('SF',' '))\n",
        "corpus['cutcontent1'] = corpus['cutcontent1'].apply(lambda x: x.replace('linemanager','line manager'))\n",
        "corpus['cutcontent1'] = corpus['cutcontent1'].apply(lambda x: x.replace('METRO','麦德龙'))\n",
        "corpus['cutcontent1'] = corpus['cutcontent1'].apply(lambda x: x.replace('metro','麦德龙'))\n",
        "corpus['cutcontent1'] = corpus['cutcontent1'].apply(lambda x: x.replace('SC',' '))\n",
        "\n",
        "corpus['cutcontent1'] = corpus['cutcontent1'].apply(clean_punctuation)\n",
        "corpus['cutcontent1'] = corpus['cutcontent1'].apply(clean_en_punctuation)\n",
        "corpus['cutcontent1'] = corpus['cutcontent1'].apply(cutsentence)\n",
        "#corpus['cutcontent1'] = corpus['cutcontent1'].apply(delete_stopwords)\n",
        "\n",
        "corpus['cutcontent2'] = corpus['content2'].apply(lambda x: x.replace('haode','好的'))\n",
        "corpus['cutcontent2'] = corpus['cutcontent2'].apply(lambda x: x.replace('hao','好'))\n",
        "corpus['cutcontent2'] = corpus['cutcontent2'].apply(lambda x: x.replace('enen','嗯嗯'))\n",
        "corpus['cutcontent2'] = corpus['cutcontent2'].apply(lambda x: x.replace('Joywok','乐工'))\n",
        "corpus['cutcontent2'] = corpus['cutcontent2'].apply(lambda x: x.replace('joywok','乐工'))\n",
        "corpus['cutcontent2'] = corpus['cutcontent2'].apply(lambda x: x.replace('dogesoft','道勤',))\n",
        "#corpus['cutcontent2'] = corpus['cutcontent2'].apply(lambda x: x.replace('icon','图标'))\n",
        "#corpus['cutcontent2'] = corpus['cutcontent2'].apply(lambda x: x.replace('Detail','细节'))\n",
        "#corpus['cutcontent2'] = corpus['cutcontent2'].apply(lambda x: x.replace('detail','细节'))\n",
        "#corpus['cutcontent2'] = corpus['cutcontent2'].apply(lambda x: x.replace('plan','计划'))\n",
        "#corpus['cutcontent2'] = corpus['cutcontent2'].apply(lambda x: x.replace('CRM','客户关系管理软件'))\n",
        "#corpus['cutcontent2'] = corpus['cutcontent2'].apply(lambda x: x.replace('profile','简介页面'))\n",
        "#corpus['cutcontent2'] = corpus['cutcontent2'].apply(lambda x: x.replace('team','团队'))\n",
        "corpus['cutcontent2'] = corpus['cutcontent2'].apply(lambda x: x.replace('he','和'))\n",
        "corpus['cutcontent2'] = corpus['cutcontent2'].apply(lambda x: x.replace('JMIS','企业应用快速开发框架'))\n",
        "corpus['cutcontent2'] = corpus['cutcontent2'].apply(lambda x: x.replace('jmis','企业应用快速开发框架'))\n",
        "#corpus['cutcontent2'] = corpus['cutcontent2'].apply(lambda x: x.replace('app','手机应用程序'))\n",
        "#corpus['cutcontent2'] = corpus['cutcontent2'].apply(lambda x: x.replace('APP','手机应用程序'))\n",
        "#corpus['cutcontent2'] = corpus['cutcontent2'].apply(lambda x: x.replace('App','手机应用程序'))\n",
        "#corpus['cutcontent2'] = corpus['cutcontent2'].apply(lambda x: x.replace('ok','好'))\n",
        "corpus['cutcontent2'] = corpus['cutcontent2'].apply(lambda x: x.replace('staging环境','模拟环境'))\n",
        "corpus['cutcontent2'] = corpus['cutcontent2'].apply(lambda x: x.replace('Staging环境','模拟环境'))\n",
        "corpus['cutcontent2'] = corpus['cutcontent2'].apply(lambda x: x.replace('subfunction','副职能'))\n",
        "corpus['cutcontent2'] = corpus['cutcontent2'].apply(lambda x: x.replace('function','职能'))\n",
        "corpus['cutcontent2'] = corpus['cutcontent2'].apply(lambda x: x.replace('sbux','星巴克'))\n",
        "corpus['cutcontent2'] = corpus['cutcontent2'].apply(lambda x: x.replace('Sbux','星巴克'))\n",
        "#corpus['cutcontent2'] = corpus['cutcontent2'].apply(lambda x: x.replace('Starbucks','星巴克'))\n",
        "#corpus['cutcontent2'] = corpus['cutcontent2'].apply(lambda x: x.replace('starbucks','星巴克'))\n",
        "#corpus['cutcontent2'] = corpus['cutcontent2'].apply(lambda x: x.replace('starbuck','星巴克'))\n",
        "#corpus['cutcontent2'] = corpus['cutcontent2'].apply(lambda x: x.replace('JS SDK','开发工具包'))\n",
        "corpus['cutcontent2'] = corpus['cutcontent2'].apply(lambda x: x.replace('UDID','唯一设备标识符'))\n",
        "corpus['cutcontent2'] = corpus['cutcontent2'].apply(lambda x: x.replace('test环境','测试环境'))\n",
        "#corpus['cutcontent2'] = corpus['cutcontent2'].apply(lambda x: x.replace('IP','网络地址'))\n",
        "#corpus['cutcontent2'] = corpus['cutcontent2'].apply(lambda x: x.replace('ip','网络地址'))\n",
        "corpus['cutcontent2'] = corpus['cutcontent2'].apply(lambda x: x.replace('H5','超文本标记语言5'))\n",
        "corpus['cutcontent2'] = corpus['cutcontent2'].apply(lambda x: x.replace('HTML','超文本标记语言'))\n",
        "#corpus['cutcontent2'] = corpus['cutcontent2'].apply(lambda x: x.replace('ssl','安全套接字协议'))\n",
        "corpus['cutcontent2'] = corpus['cutcontent2'].apply(lambda x: x.replace('BPM','业务流程管理应用'))\n",
        "corpus['cutcontent2'] = corpus['cutcontent2'].apply(lambda x: x.replace('RabbitMQ','开源消息代理软件'))\n",
        "corpus['cutcontent2'] = corpus['cutcontent2'].apply(lambda x: x.replace('rabbitmq','开源消息代理软件'))\n",
        "corpus['cutcontent2'] = corpus['cutcontent2'].apply(lambda x: x.replace('devicetoken','设备令牌'))\n",
        "corpus['cutcontent2'] = corpus['cutcontent2'].apply(lambda x: x.replace('deviceToken','设备令牌'))\n",
        "corpus['cutcontent2'] = corpus['cutcontent2'].apply(lambda x: x.replace('bundle-id','软件标识'))\n",
        "corpus['cutcontent2'] = corpus['cutcontent2'].apply(lambda x: x.replace('BUSHI','不是'))\n",
        "corpus['cutcontent2'] = corpus['cutcontent2'].apply(lambda x: x.replace('UAT','用户接受测试'))\n",
        "corpus['cutcontent2'] = corpus['cutcontent2'].apply(lambda x: x.replace('douwei',' '))\n",
        "corpus['cutcontent2'] = corpus['cutcontent2'].apply(lambda x: x.replace('Agenda','agenda'))\n",
        "corpus['cutcontent2'] = corpus['cutcontent2'].apply(lambda x: x.replace('concall','conference call'))\n",
        "corpus['cutcontent2'] = corpus['cutcontent2'].apply(lambda x: x.replace('saas','SaaS'))\n",
        "corpus['cutcontent2'] = corpus['cutcontent2'].apply(lambda x: x.replace('Pls','pls'))\n",
        "corpus['cutcontent2'] = corpus['cutcontent2'].apply(lambda x: x.replace('IAG','接入网关'))\n",
        "corpus['cutcontent2'] = corpus['cutcontent2'].apply(lambda x: x.replace('Issuer',' '))\n",
        "corpus['cutcontent2'] = corpus['cutcontent2'].apply(lambda x: x.replace('SF',' '))\n",
        "corpus['cutcontent2'] = corpus['cutcontent2'].apply(lambda x: x.replace('linemanager','line manager'))\n",
        "corpus['cutcontent2'] = corpus['cutcontent2'].apply(lambda x: x.replace('METRO','麦德龙'))\n",
        "corpus['cutcontent2'] = corpus['cutcontent2'].apply(lambda x: x.replace('metro','麦德龙'))\n",
        "corpus['cutcontent2'] = corpus['cutcontent2'].apply(lambda x: x.replace('SC',' '))\n",
        "\n",
        "corpus['cutcontent2'] = corpus['cutcontent2'].apply(clean_punctuation)\n",
        "corpus['cutcontent2'] = corpus['cutcontent2'].apply(clean_en_punctuation)\n",
        "corpus['cutcontent2'] = corpus['cutcontent2'].apply(cutsentence)\n",
        "#corpus['cutcontent2'] = corpus['cutcontent2'].apply(delete_stopwords)"
      ],
      "execution_count": null,
      "outputs": [
        {
          "output_type": "stream",
          "text": [
            "Building prefix dict from the default dictionary ...\n",
            "Dumping model to file cache /tmp/jieba.cache\n",
            "Loading model cost 0.777 seconds.\n",
            "Prefix dict has been built successfully.\n"
          ],
          "name": "stderr"
        }
      ]
    },
    {
      "cell_type": "code",
      "metadata": {
        "id": "MkIXJ7Na3lrn",
        "colab_type": "code",
        "colab": {}
      },
      "source": [
        "#为了不改动后面的程序，这里没有去掉这一列\n",
        "corpus.insert(7, 'cutlist1', np.nan)\n",
        "corpus['cutlist1'] = corpus['cutcontent1']"
      ],
      "execution_count": null,
      "outputs": []
    },
    {
      "cell_type": "code",
      "metadata": {
        "id": "t8fXW1WU37kV",
        "colab_type": "code",
        "colab": {}
      },
      "source": [
        "corpus.insert(17, 'cutlist2', np.nan)\n",
        "corpus['cutlist2'] = corpus['cutcontent2']"
      ],
      "execution_count": null,
      "outputs": []
    },
    {
      "cell_type": "code",
      "metadata": {
        "id": "aMeSQ9C-1A8d",
        "colab_type": "code",
        "colab": {
          "base_uri": "https://localhost:8080/",
          "height": 412
        },
        "outputId": "f67a9d69-ea00-4d97-cd30-f3ef9badb3b6"
      },
      "source": [
        "corpus.head()"
      ],
      "execution_count": null,
      "outputs": [
        {
          "output_type": "execute_result",
          "data": {
            "text/html": [
              "<div>\n",
              "<style scoped>\n",
              "    .dataframe tbody tr th:only-of-type {\n",
              "        vertical-align: middle;\n",
              "    }\n",
              "\n",
              "    .dataframe tbody tr th {\n",
              "        vertical-align: top;\n",
              "    }\n",
              "\n",
              "    .dataframe thead th {\n",
              "        text-align: right;\n",
              "    }\n",
              "</style>\n",
              "<table border=\"1\" class=\"dataframe\">\n",
              "  <thead>\n",
              "    <tr style=\"text-align: right;\">\n",
              "      <th></th>\n",
              "      <th>msgid1</th>\n",
              "      <th>sender1</th>\n",
              "      <th>receiver1</th>\n",
              "      <th>createdtime1</th>\n",
              "      <th>content1</th>\n",
              "      <th>chatsession1</th>\n",
              "      <th>cutcontent1</th>\n",
              "      <th>cutlist1</th>\n",
              "      <th>before_msg_id1</th>\n",
              "      <th>after_msg_id1</th>\n",
              "      <th>msgid2</th>\n",
              "      <th>sender2</th>\n",
              "      <th>receiver2</th>\n",
              "      <th>createdtime2</th>\n",
              "      <th>content2</th>\n",
              "      <th>chatsession2</th>\n",
              "      <th>cutcontent2</th>\n",
              "      <th>cutlist2</th>\n",
              "      <th>before_msg_id2</th>\n",
              "      <th>after_msg_id2</th>\n",
              "      <th>timedifference</th>\n",
              "      <th>samesession</th>\n",
              "      <th>isadjacent</th>\n",
              "    </tr>\n",
              "  </thead>\n",
              "  <tbody>\n",
              "    <tr>\n",
              "      <th>0</th>\n",
              "      <td>NscUpsJZpkk6F1MZY2CowtiLa6KBk4Ph</td>\n",
              "      <td>abf31d555c6e19d605097621b9ebe350</td>\n",
              "      <td>d0f1f892e984d9039eb991818c2b0df8</td>\n",
              "      <td>2019-04-29 10:19:30</td>\n",
              "      <td>直接跑</td>\n",
              "      <td>ad21</td>\n",
              "      <td>[直接, 跑]</td>\n",
              "      <td>[直接, 跑]</td>\n",
              "      <td>3G9g9orQmvDpOSbTEylVzXmT2qJYqCiQ</td>\n",
              "      <td>Wy13f1RCxTnf1LqNOD0Hr1ks3nluEssM</td>\n",
              "      <td>FFcnHBoYBrdajWBx507EpQYjuTRWuNJY</td>\n",
              "      <td>abf31d555c6e19d605097621b9ebe350</td>\n",
              "      <td>d0f1f892e984d9039eb991818c2b0df8</td>\n",
              "      <td>2019-04-28 20:14:25</td>\n",
              "      <td>他们都看不到</td>\n",
              "      <td>ad21</td>\n",
              "      <td>[他们, 都, 看不到]</td>\n",
              "      <td>[他们, 都, 看不到]</td>\n",
              "      <td>lNtsJfEhH0XzmdG3DfgFD16Wm4i2Gkn3</td>\n",
              "      <td>ad9a3f3366394a5aa2a118ae607c62eb</td>\n",
              "      <td>35695</td>\n",
              "      <td>1</td>\n",
              "      <td>0</td>\n",
              "    </tr>\n",
              "    <tr>\n",
              "      <th>1</th>\n",
              "      <td>DDEB2FC8421646B2A4D4F5093BDA7A8B</td>\n",
              "      <td>32eccf456822cf7fe63cdc119b9e2d99</td>\n",
              "      <td>fea143853b78b670d06ec384c4fb7dd6</td>\n",
              "      <td>2019-05-10 18:33:04</td>\n",
              "      <td>哦 我看到了 没事的</td>\n",
              "      <td>f311</td>\n",
              "      <td>[哦, 我, 看到, 了, 没事, 的]</td>\n",
              "      <td>[哦, 我, 看到, 了, 没事, 的]</td>\n",
              "      <td>4A85BC9E228A49CFBC8737EEB031E7A8</td>\n",
              "      <td>2A8E304A528E4F42B52C72D212258C05</td>\n",
              "      <td>71787EAD4D524B69BF6FB758F08196AD</td>\n",
              "      <td>fea143853b78b670d06ec384c4fb7dd6</td>\n",
              "      <td>32eccf456822cf7fe63cdc119b9e2d99</td>\n",
              "      <td>2019-05-10 18:40:57</td>\n",
              "      <td>[图片]</td>\n",
              "      <td>f311</td>\n",
              "      <td>[图片]</td>\n",
              "      <td>[图片]</td>\n",
              "      <td>0513C7D8AA5A4568BC04BCB98EBEC0C6</td>\n",
              "      <td>B7EFCA8EBB0D4C33966D5BFE52C807F5</td>\n",
              "      <td>473</td>\n",
              "      <td>1</td>\n",
              "      <td>0</td>\n",
              "    </tr>\n",
              "    <tr>\n",
              "      <th>2</th>\n",
              "      <td>zFlq9VMK4HIi0kqdtTqxIocOvZYHDTKM</td>\n",
              "      <td>abf31d555c6e19d605097621b9ebe350</td>\n",
              "      <td>d0f1f892e984d9039eb991818c2b0df8</td>\n",
              "      <td>2019-05-29 14:30:19</td>\n",
              "      <td>替换好了</td>\n",
              "      <td>ad74</td>\n",
              "      <td>[替换, 好, 了]</td>\n",
              "      <td>[替换, 好, 了]</td>\n",
              "      <td>USKCz8GoC3EG3wdO59i92y0bZ1hVVVd3</td>\n",
              "      <td>hdBbibDb0r9DfDOcRjyNu0hzbzhDycB5</td>\n",
              "      <td>hs4NqLQL9nXBz3OLIlEGcUBncTMWoERb</td>\n",
              "      <td>abf31d555c6e19d605097621b9ebe350</td>\n",
              "      <td>d0f1f892e984d9039eb991818c2b0df8</td>\n",
              "      <td>2019-05-29 15:03:51</td>\n",
              "      <td>阔以了</td>\n",
              "      <td>ad74</td>\n",
              "      <td>[阔以, 了]</td>\n",
              "      <td>[阔以, 了]</td>\n",
              "      <td>7rvBnFH6pBZdQQR924kkr5B9WfxXh5oW</td>\n",
              "      <td>VwdqauSe6GxWYcCoP1miiTzxRfDWTfN2</td>\n",
              "      <td>2012</td>\n",
              "      <td>1</td>\n",
              "      <td>0</td>\n",
              "    </tr>\n",
              "    <tr>\n",
              "      <th>3</th>\n",
              "      <td>MvPaIE1nCJaZdTKPR0VFsHLKooGpX41W</td>\n",
              "      <td>abf31d555c6e19d605097621b9ebe350</td>\n",
              "      <td>d0f1f892e984d9039eb991818c2b0df8</td>\n",
              "      <td>2019-04-29 09:51:45</td>\n",
              "      <td>汤江涛还在用</td>\n",
              "      <td>ad21</td>\n",
              "      <td>[汤江涛, 还, 在, 用]</td>\n",
              "      <td>[汤江涛, 还, 在, 用]</td>\n",
              "      <td>OKDvJXCkQEYXlGBIzm6QTbXDidTjioL9</td>\n",
              "      <td>67flK6MRCuaYJ1vicJFwLrCKj3gkQoNh</td>\n",
              "      <td>NscUpsJZpkk6F1MZY2CowtiLa6KBk4Ph</td>\n",
              "      <td>abf31d555c6e19d605097621b9ebe350</td>\n",
              "      <td>d0f1f892e984d9039eb991818c2b0df8</td>\n",
              "      <td>2019-04-29 10:19:30</td>\n",
              "      <td>直接跑</td>\n",
              "      <td>ad21</td>\n",
              "      <td>[直接, 跑]</td>\n",
              "      <td>[直接, 跑]</td>\n",
              "      <td>3G9g9orQmvDpOSbTEylVzXmT2qJYqCiQ</td>\n",
              "      <td>Wy13f1RCxTnf1LqNOD0Hr1ks3nluEssM</td>\n",
              "      <td>1665</td>\n",
              "      <td>1</td>\n",
              "      <td>0</td>\n",
              "    </tr>\n",
              "    <tr>\n",
              "      <th>4</th>\n",
              "      <td>ZeudWF5NBXjP7n7smkYpAmbNzF75xmTe</td>\n",
              "      <td>abf31d555c6e19d605097621b9ebe350</td>\n",
              "      <td>d0f1f892e984d9039eb991818c2b0df8</td>\n",
              "      <td>2019-04-13 16:43:07</td>\n",
              "      <td>nginx转的地址是</td>\n",
              "      <td>ad01</td>\n",
              "      <td>[nginx, 转, 的, 地址, 是]</td>\n",
              "      <td>[nginx, 转, 的, 地址, 是]</td>\n",
              "      <td>EGPEVsJsOESJL2sTAKPNd1d6D7knznKg</td>\n",
              "      <td>aiYUuGZw0CRKxogRavHv4kXZRKUrWoLx</td>\n",
              "      <td>DXCzmOMH4Tx5b8cNlvux8WCFPTb0lAEV</td>\n",
              "      <td>abf31d555c6e19d605097621b9ebe350</td>\n",
              "      <td>d0f1f892e984d9039eb991818c2b0df8</td>\n",
              "      <td>2019-04-13 19:49:22</td>\n",
              "      <td>峰哥记得下次上线把那个config.ini 备份下</td>\n",
              "      <td>ad01</td>\n",
              "      <td>[峰哥, 记得, 下次, 上线, 把, 那个, configini, 备份, 下]</td>\n",
              "      <td>[峰哥, 记得, 下次, 上线, 把, 那个, configini, 备份, 下]</td>\n",
              "      <td>30MrvKJzlD7FSdFDZryu9cAArFPRBuMi</td>\n",
              "      <td>BG4G4EFWlwvtGKI8EsN5HUahcsSZdQPc</td>\n",
              "      <td>11175</td>\n",
              "      <td>1</td>\n",
              "      <td>0</td>\n",
              "    </tr>\n",
              "  </tbody>\n",
              "</table>\n",
              "</div>"
            ],
            "text/plain": [
              "                             msgid1  ... isadjacent\n",
              "0  NscUpsJZpkk6F1MZY2CowtiLa6KBk4Ph  ...          0\n",
              "1  DDEB2FC8421646B2A4D4F5093BDA7A8B  ...          0\n",
              "2  zFlq9VMK4HIi0kqdtTqxIocOvZYHDTKM  ...          0\n",
              "3  MvPaIE1nCJaZdTKPR0VFsHLKooGpX41W  ...          0\n",
              "4  ZeudWF5NBXjP7n7smkYpAmbNzF75xmTe  ...          0\n",
              "\n",
              "[5 rows x 23 columns]"
            ]
          },
          "metadata": {
            "tags": []
          },
          "execution_count": 32
        }
      ]
    },
    {
      "cell_type": "code",
      "metadata": {
        "id": "aW7gff8utf0F",
        "colab_type": "code",
        "colab": {
          "base_uri": "https://localhost:8080/",
          "height": 515
        },
        "outputId": "4593d48d-7fcb-4a8c-c60c-d4e908919f55"
      },
      "source": [
        "corpus = corpus.sample(frac=1).reset_index(drop=True)\n",
        "corpus.head()"
      ],
      "execution_count": null,
      "outputs": [
        {
          "output_type": "execute_result",
          "data": {
            "text/html": [
              "<div>\n",
              "<style scoped>\n",
              "    .dataframe tbody tr th:only-of-type {\n",
              "        vertical-align: middle;\n",
              "    }\n",
              "\n",
              "    .dataframe tbody tr th {\n",
              "        vertical-align: top;\n",
              "    }\n",
              "\n",
              "    .dataframe thead th {\n",
              "        text-align: right;\n",
              "    }\n",
              "</style>\n",
              "<table border=\"1\" class=\"dataframe\">\n",
              "  <thead>\n",
              "    <tr style=\"text-align: right;\">\n",
              "      <th></th>\n",
              "      <th>msgid1</th>\n",
              "      <th>sender1</th>\n",
              "      <th>receiver1</th>\n",
              "      <th>createdtime1</th>\n",
              "      <th>content1</th>\n",
              "      <th>chatsession1</th>\n",
              "      <th>cutcontent1</th>\n",
              "      <th>cutlist1</th>\n",
              "      <th>before_msg_id1</th>\n",
              "      <th>after_msg_id1</th>\n",
              "      <th>msgid2</th>\n",
              "      <th>sender2</th>\n",
              "      <th>receiver2</th>\n",
              "      <th>createdtime2</th>\n",
              "      <th>content2</th>\n",
              "      <th>chatsession2</th>\n",
              "      <th>cutcontent2</th>\n",
              "      <th>cutlist2</th>\n",
              "      <th>before_msg_id2</th>\n",
              "      <th>after_msg_id2</th>\n",
              "      <th>timedifference</th>\n",
              "      <th>samesession</th>\n",
              "      <th>isadjacent</th>\n",
              "    </tr>\n",
              "  </thead>\n",
              "  <tbody>\n",
              "    <tr>\n",
              "      <th>0</th>\n",
              "      <td>d1UlB7Qf0FRNowRVlsX4aYHzl6LeqwuT</td>\n",
              "      <td>d0f1f892e984d9039eb991818c2b0df8</td>\n",
              "      <td>abf31d555c6e19d605097621b9ebe350</td>\n",
              "      <td>2019-05-09 10:07:03</td>\n",
              "      <td>什么接口 修复什么东西</td>\n",
              "      <td>ad35</td>\n",
              "      <td>[什么, 接口, 修复, 什么, 东西]</td>\n",
              "      <td>[什么, 接口, 修复, 什么, 东西]</td>\n",
              "      <td>0VitS6hMkBSus9mPxlUWifJL9b9ug2jM</td>\n",
              "      <td>RhbORwAU85t3B3uAOvAKMoRsOPRQyPSh</td>\n",
              "      <td>YTcgBq7eHcVnQCfslXbvGbGFIRPC33DX</td>\n",
              "      <td>abf31d555c6e19d605097621b9ebe350</td>\n",
              "      <td>d0f1f892e984d9039eb991818c2b0df8</td>\n",
              "      <td>2019-05-09 10:07:40</td>\n",
              "      <td>明天他们要上线？</td>\n",
              "      <td>ad35</td>\n",
              "      <td>[明天, 他们, 要, 上线]</td>\n",
              "      <td>[明天, 他们, 要, 上线]</td>\n",
              "      <td>TsGRSV55uiJQPikc8z9pe5uuBWxuGTDG</td>\n",
              "      <td>PguVJnmOZ0AQtCd7d7O8WTdm8WyoPFfO</td>\n",
              "      <td>37</td>\n",
              "      <td>1</td>\n",
              "      <td>0</td>\n",
              "    </tr>\n",
              "    <tr>\n",
              "      <th>1</th>\n",
              "      <td>ad893432750b4471a2e4d248d2787a05</td>\n",
              "      <td>d0f1f892e984d9039eb991818c2b0df8</td>\n",
              "      <td>abf31d555c6e19d605097621b9ebe350</td>\n",
              "      <td>2019-04-15 13:18:13</td>\n",
              "      <td>嗯嗯  再吃饭。</td>\n",
              "      <td>ad03</td>\n",
              "      <td>[嗯, 嗯, 再, 吃饭]</td>\n",
              "      <td>[嗯, 嗯, 再, 吃饭]</td>\n",
              "      <td>imAmZ1VyPFyU2B0oYPwL2KviTbsrEE41</td>\n",
              "      <td>ad2bf8625bfe4c9586e282b0825a7f10</td>\n",
              "      <td>ZKGcpKTmHFHzP5bMsOVt2ld85CKLIagq</td>\n",
              "      <td>d0f1f892e984d9039eb991818c2b0df8</td>\n",
              "      <td>abf31d555c6e19d605097621b9ebe350</td>\n",
              "      <td>2019-05-17 18:18:26</td>\n",
              "      <td>确认下</td>\n",
              "      <td>ad56</td>\n",
              "      <td>[确认, 下]</td>\n",
              "      <td>[确认, 下]</td>\n",
              "      <td>rc8oXg8ZcOL646fBkr13GKn4klNBqWlY</td>\n",
              "      <td>FPYGSlJNRgyR6NWqqELgbguT6Ei2mED5</td>\n",
              "      <td>18013</td>\n",
              "      <td>0</td>\n",
              "      <td>0</td>\n",
              "    </tr>\n",
              "    <tr>\n",
              "      <th>2</th>\n",
              "      <td>4yHv5EBHvLwW7SGY0cWVuozPvFXvglPh</td>\n",
              "      <td>abf31d555c6e19d605097621b9ebe350</td>\n",
              "      <td>d0f1f892e984d9039eb991818c2b0df8</td>\n",
              "      <td>2019-05-23 09:32:00</td>\n",
              "      <td>我对比一下</td>\n",
              "      <td>ad61</td>\n",
              "      <td>[我, 对比, 一下]</td>\n",
              "      <td>[我, 对比, 一下]</td>\n",
              "      <td>CzGpzsEOBGVFRDXYtjbBnfoRk8Qjbbge</td>\n",
              "      <td>8wjAthir1q0wf6jqSVUvLNGuyHSzKWMN</td>\n",
              "      <td>HfGCpqtmHBGrbR9G9mPMlolDwfgAkQkm</td>\n",
              "      <td>abf31d555c6e19d605097621b9ebe350</td>\n",
              "      <td>d0f1f892e984d9039eb991818c2b0df8</td>\n",
              "      <td>2019-04-13 17:40:28</td>\n",
              "      <td>我把域名改成ip了</td>\n",
              "      <td>ad01</td>\n",
              "      <td>[我, 把, 域名, 改成, ip, 了]</td>\n",
              "      <td>[我, 把, 域名, 改成, ip, 了]</td>\n",
              "      <td>Ww0ZbhPK6vh6tHWPLddQjjkzYovWksQt</td>\n",
              "      <td>7sJ52dvvVM48yZEvBhNdJ6CNhGU8EqVj</td>\n",
              "      <td>29308</td>\n",
              "      <td>0</td>\n",
              "      <td>0</td>\n",
              "    </tr>\n",
              "    <tr>\n",
              "      <th>3</th>\n",
              "      <td>OMKPuEpVq3zfkJrRRkhYDyp02Y6W3ZlL</td>\n",
              "      <td>abf31d555c6e19d605097621b9ebe350</td>\n",
              "      <td>d0f1f892e984d9039eb991818c2b0df8</td>\n",
              "      <td>2019-05-29 10:48:30</td>\n",
              "      <td>我等会得给老王那边提供接口</td>\n",
              "      <td>ad72</td>\n",
              "      <td>[我, 等, 会, 得, 给, 老王, 那边, 提供, 接口]</td>\n",
              "      <td>[我, 等, 会, 得, 给, 老王, 那边, 提供, 接口]</td>\n",
              "      <td>0IYutKGpIFPm3AN1lkSCGj4EctqpeNeJ</td>\n",
              "      <td>PAtCCbvDINmgSynXEqIytWnDpVmqB4TO</td>\n",
              "      <td>5V9tfsA1cxzX2XtjJR00oj9QEUSa0zcy</td>\n",
              "      <td>abf31d555c6e19d605097621b9ebe350</td>\n",
              "      <td>d0f1f892e984d9039eb991818c2b0df8</td>\n",
              "      <td>2019-05-16 18:39:23</td>\n",
              "      <td>好滴</td>\n",
              "      <td>ad54</td>\n",
              "      <td>[好滴]</td>\n",
              "      <td>[好滴]</td>\n",
              "      <td>oOZDwh9qaCUunjPngjFfLJgiC2FOcrmG</td>\n",
              "      <td>46hdKQAhiuddmKywThReEhLurJEKTid8</td>\n",
              "      <td>28253</td>\n",
              "      <td>0</td>\n",
              "      <td>0</td>\n",
              "    </tr>\n",
              "    <tr>\n",
              "      <th>4</th>\n",
              "      <td>XkaWQJRkYKywhvcMFpzYnF48dcZNjtKC</td>\n",
              "      <td>abf31d555c6e19d605097621b9ebe350</td>\n",
              "      <td>d0f1f892e984d9039eb991818c2b0df8</td>\n",
              "      <td>2019-04-29 10:04:26</td>\n",
              "      <td>那这个问题是</td>\n",
              "      <td>ad21</td>\n",
              "      <td>[那, 这个, 问题, 是]</td>\n",
              "      <td>[那, 这个, 问题, 是]</td>\n",
              "      <td>yRCVWH1eVHCR1fkUJQ1bIQKnx4hZnsD4</td>\n",
              "      <td>r4ZwBHdeutnPKDwEsVOTBvHJ5xacCIt9</td>\n",
              "      <td>BBZIn96hJu90j5MAFFt5L1ubRORq0P9z</td>\n",
              "      <td>abf31d555c6e19d605097621b9ebe350</td>\n",
              "      <td>d0f1f892e984d9039eb991818c2b0df8</td>\n",
              "      <td>2019-04-13 17:59:20</td>\n",
              "      <td>我见web端是打到这个服务器就能预览</td>\n",
              "      <td>ad01</td>\n",
              "      <td>[我见, web, 端, 是, 打, 到, 这个, 服务器, 就, 能, 预览]</td>\n",
              "      <td>[我见, web, 端, 是, 打, 到, 这个, 服务器, 就, 能, 预览]</td>\n",
              "      <td>AvaR9GboQpdHNNxnmvdmOBuwLWuhYHeY</td>\n",
              "      <td>Z9GJolmzwNMjW7K0pagqSXS4huKcntJ4</td>\n",
              "      <td>28494</td>\n",
              "      <td>0</td>\n",
              "      <td>0</td>\n",
              "    </tr>\n",
              "  </tbody>\n",
              "</table>\n",
              "</div>"
            ],
            "text/plain": [
              "                             msgid1  ... isadjacent\n",
              "0  d1UlB7Qf0FRNowRVlsX4aYHzl6LeqwuT  ...          0\n",
              "1  ad893432750b4471a2e4d248d2787a05  ...          0\n",
              "2  4yHv5EBHvLwW7SGY0cWVuozPvFXvglPh  ...          0\n",
              "3  OMKPuEpVq3zfkJrRRkhYDyp02Y6W3ZlL  ...          0\n",
              "4  XkaWQJRkYKywhvcMFpzYnF48dcZNjtKC  ...          0\n",
              "\n",
              "[5 rows x 23 columns]"
            ]
          },
          "metadata": {
            "tags": []
          },
          "execution_count": 33
        }
      ]
    },
    {
      "cell_type": "code",
      "metadata": {
        "id": "7WJ18fLugdoS",
        "colab_type": "code",
        "colab": {
          "base_uri": "https://localhost:8080/",
          "height": 70
        },
        "outputId": "2bf5a696-d387-40a6-b938-a911151785cc"
      },
      "source": [
        "corpus['samesession'].value_counts()"
      ],
      "execution_count": null,
      "outputs": [
        {
          "output_type": "execute_result",
          "data": {
            "text/plain": [
              "1    7000\n",
              "0    7000\n",
              "Name: samesession, dtype: int64"
            ]
          },
          "metadata": {
            "tags": []
          },
          "execution_count": 34
        }
      ]
    },
    {
      "cell_type": "code",
      "metadata": {
        "id": "4gFZVz_M4pHn",
        "colab_type": "code",
        "colab": {}
      },
      "source": [
        "corpus.to_csv(path + \"/chatdata/3-two sentences-chatcorpus-trainset.txt\", sep='\\t', index = False)"
      ],
      "execution_count": null,
      "outputs": []
    },
    {
      "cell_type": "markdown",
      "metadata": {
        "id": "2MLH_UlIFVY7",
        "colab_type": "text"
      },
      "source": [
        "## 句子相似度计算\n",
        "(https://blog.csdn.net/android_ruben/article/details/78427068)"
      ]
    },
    {
      "cell_type": "markdown",
      "metadata": {
        "id": "t70Vi0qS-RQ_",
        "colab_type": "text"
      },
      "source": [
        "输入数据准备"
      ]
    },
    {
      "cell_type": "code",
      "metadata": {
        "id": "_MXp73hXVRxT",
        "colab_type": "code",
        "colab": {}
      },
      "source": [
        "import pandas as pd\n",
        "import os\n",
        "import numpy as np\n",
        "import jieba\n",
        "#import random\n",
        "\n",
        "%tensorflow_version 1.x \n",
        "import tensorflow as tf\n",
        "import keras\n",
        "import gensim\n",
        "\n",
        "from keras.preprocessing.sequence import pad_sequences\n",
        "from keras.models import Model\n",
        "from keras.layers import Input, Embedding, LSTM, Lambda, Dense, multiply, GRU, SimpleRNN, Bidirectional, BatchNormalization, Dropout\n",
        "import keras.backend as K\n",
        "from keras.optimizers import Adadelta,SGD,RMSprop,Adagrad\n",
        "from keras.callbacks import ModelCheckpoint\n",
        "from keras.models import load_model\n",
        "from keras.layers.noise import GaussianNoise"
      ],
      "execution_count": null,
      "outputs": []
    },
    {
      "cell_type": "code",
      "metadata": {
        "id": "ZTFI0uXDB-St",
        "colab_type": "code",
        "colab": {
          "base_uri": "https://localhost:8080/",
          "height": 584
        },
        "outputId": "8eaa4bb0-191b-4b4c-e4f9-d378231f98d4"
      },
      "source": [
        "corpus = pd.read_csv(path + \"/chatdata/3-two sentences-chatcorpus-trainset.txt\", sep='\\t')\n",
        "corpus.head()"
      ],
      "execution_count": null,
      "outputs": [
        {
          "output_type": "execute_result",
          "data": {
            "text/html": [
              "<div>\n",
              "<style scoped>\n",
              "    .dataframe tbody tr th:only-of-type {\n",
              "        vertical-align: middle;\n",
              "    }\n",
              "\n",
              "    .dataframe tbody tr th {\n",
              "        vertical-align: top;\n",
              "    }\n",
              "\n",
              "    .dataframe thead th {\n",
              "        text-align: right;\n",
              "    }\n",
              "</style>\n",
              "<table border=\"1\" class=\"dataframe\">\n",
              "  <thead>\n",
              "    <tr style=\"text-align: right;\">\n",
              "      <th></th>\n",
              "      <th>msgid1</th>\n",
              "      <th>sender1</th>\n",
              "      <th>receiver1</th>\n",
              "      <th>createdtime1</th>\n",
              "      <th>content1</th>\n",
              "      <th>chatsession1</th>\n",
              "      <th>cutcontent1</th>\n",
              "      <th>cutlist1</th>\n",
              "      <th>before_msg_id1</th>\n",
              "      <th>after_msg_id1</th>\n",
              "      <th>msgid2</th>\n",
              "      <th>sender2</th>\n",
              "      <th>receiver2</th>\n",
              "      <th>createdtime2</th>\n",
              "      <th>content2</th>\n",
              "      <th>chatsession2</th>\n",
              "      <th>cutcontent2</th>\n",
              "      <th>cutlist2</th>\n",
              "      <th>before_msg_id2</th>\n",
              "      <th>after_msg_id2</th>\n",
              "      <th>timedifference</th>\n",
              "      <th>samesession</th>\n",
              "      <th>isadjacent</th>\n",
              "    </tr>\n",
              "  </thead>\n",
              "  <tbody>\n",
              "    <tr>\n",
              "      <th>0</th>\n",
              "      <td>d1UlB7Qf0FRNowRVlsX4aYHzl6LeqwuT</td>\n",
              "      <td>d0f1f892e984d9039eb991818c2b0df8</td>\n",
              "      <td>abf31d555c6e19d605097621b9ebe350</td>\n",
              "      <td>2019-05-09 10:07:03</td>\n",
              "      <td>什么接口 修复什么东西</td>\n",
              "      <td>ad35</td>\n",
              "      <td>['什么', '接口', '修复', '什么', '东西']</td>\n",
              "      <td>['什么', '接口', '修复', '什么', '东西']</td>\n",
              "      <td>0VitS6hMkBSus9mPxlUWifJL9b9ug2jM</td>\n",
              "      <td>RhbORwAU85t3B3uAOvAKMoRsOPRQyPSh</td>\n",
              "      <td>YTcgBq7eHcVnQCfslXbvGbGFIRPC33DX</td>\n",
              "      <td>abf31d555c6e19d605097621b9ebe350</td>\n",
              "      <td>d0f1f892e984d9039eb991818c2b0df8</td>\n",
              "      <td>2019-05-09 10:07:40</td>\n",
              "      <td>明天他们要上线？</td>\n",
              "      <td>ad35</td>\n",
              "      <td>['明天', '他们', '要', '上线']</td>\n",
              "      <td>['明天', '他们', '要', '上线']</td>\n",
              "      <td>TsGRSV55uiJQPikc8z9pe5uuBWxuGTDG</td>\n",
              "      <td>PguVJnmOZ0AQtCd7d7O8WTdm8WyoPFfO</td>\n",
              "      <td>37</td>\n",
              "      <td>1</td>\n",
              "      <td>0</td>\n",
              "    </tr>\n",
              "    <tr>\n",
              "      <th>1</th>\n",
              "      <td>ad893432750b4471a2e4d248d2787a05</td>\n",
              "      <td>d0f1f892e984d9039eb991818c2b0df8</td>\n",
              "      <td>abf31d555c6e19d605097621b9ebe350</td>\n",
              "      <td>2019-04-15 13:18:13</td>\n",
              "      <td>嗯嗯  再吃饭。</td>\n",
              "      <td>ad03</td>\n",
              "      <td>['嗯', '嗯', '再', '吃饭']</td>\n",
              "      <td>['嗯', '嗯', '再', '吃饭']</td>\n",
              "      <td>imAmZ1VyPFyU2B0oYPwL2KviTbsrEE41</td>\n",
              "      <td>ad2bf8625bfe4c9586e282b0825a7f10</td>\n",
              "      <td>ZKGcpKTmHFHzP5bMsOVt2ld85CKLIagq</td>\n",
              "      <td>d0f1f892e984d9039eb991818c2b0df8</td>\n",
              "      <td>abf31d555c6e19d605097621b9ebe350</td>\n",
              "      <td>2019-05-17 18:18:26</td>\n",
              "      <td>确认下</td>\n",
              "      <td>ad56</td>\n",
              "      <td>['确认', '下']</td>\n",
              "      <td>['确认', '下']</td>\n",
              "      <td>rc8oXg8ZcOL646fBkr13GKn4klNBqWlY</td>\n",
              "      <td>FPYGSlJNRgyR6NWqqELgbguT6Ei2mED5</td>\n",
              "      <td>18013</td>\n",
              "      <td>0</td>\n",
              "      <td>0</td>\n",
              "    </tr>\n",
              "    <tr>\n",
              "      <th>2</th>\n",
              "      <td>4yHv5EBHvLwW7SGY0cWVuozPvFXvglPh</td>\n",
              "      <td>abf31d555c6e19d605097621b9ebe350</td>\n",
              "      <td>d0f1f892e984d9039eb991818c2b0df8</td>\n",
              "      <td>2019-05-23 09:32:00</td>\n",
              "      <td>我对比一下</td>\n",
              "      <td>ad61</td>\n",
              "      <td>['我', '对比', '一下']</td>\n",
              "      <td>['我', '对比', '一下']</td>\n",
              "      <td>CzGpzsEOBGVFRDXYtjbBnfoRk8Qjbbge</td>\n",
              "      <td>8wjAthir1q0wf6jqSVUvLNGuyHSzKWMN</td>\n",
              "      <td>HfGCpqtmHBGrbR9G9mPMlolDwfgAkQkm</td>\n",
              "      <td>abf31d555c6e19d605097621b9ebe350</td>\n",
              "      <td>d0f1f892e984d9039eb991818c2b0df8</td>\n",
              "      <td>2019-04-13 17:40:28</td>\n",
              "      <td>我把域名改成ip了</td>\n",
              "      <td>ad01</td>\n",
              "      <td>['我', '把', '域名', '改成', 'ip', '了']</td>\n",
              "      <td>['我', '把', '域名', '改成', 'ip', '了']</td>\n",
              "      <td>Ww0ZbhPK6vh6tHWPLddQjjkzYovWksQt</td>\n",
              "      <td>7sJ52dvvVM48yZEvBhNdJ6CNhGU8EqVj</td>\n",
              "      <td>29308</td>\n",
              "      <td>0</td>\n",
              "      <td>0</td>\n",
              "    </tr>\n",
              "    <tr>\n",
              "      <th>3</th>\n",
              "      <td>OMKPuEpVq3zfkJrRRkhYDyp02Y6W3ZlL</td>\n",
              "      <td>abf31d555c6e19d605097621b9ebe350</td>\n",
              "      <td>d0f1f892e984d9039eb991818c2b0df8</td>\n",
              "      <td>2019-05-29 10:48:30</td>\n",
              "      <td>我等会得给老王那边提供接口</td>\n",
              "      <td>ad72</td>\n",
              "      <td>['我', '等', '会', '得', '给', '老王', '那边', '提供', '接口']</td>\n",
              "      <td>['我', '等', '会', '得', '给', '老王', '那边', '提供', '接口']</td>\n",
              "      <td>0IYutKGpIFPm3AN1lkSCGj4EctqpeNeJ</td>\n",
              "      <td>PAtCCbvDINmgSynXEqIytWnDpVmqB4TO</td>\n",
              "      <td>5V9tfsA1cxzX2XtjJR00oj9QEUSa0zcy</td>\n",
              "      <td>abf31d555c6e19d605097621b9ebe350</td>\n",
              "      <td>d0f1f892e984d9039eb991818c2b0df8</td>\n",
              "      <td>2019-05-16 18:39:23</td>\n",
              "      <td>好滴</td>\n",
              "      <td>ad54</td>\n",
              "      <td>['好滴']</td>\n",
              "      <td>['好滴']</td>\n",
              "      <td>oOZDwh9qaCUunjPngjFfLJgiC2FOcrmG</td>\n",
              "      <td>46hdKQAhiuddmKywThReEhLurJEKTid8</td>\n",
              "      <td>28253</td>\n",
              "      <td>0</td>\n",
              "      <td>0</td>\n",
              "    </tr>\n",
              "    <tr>\n",
              "      <th>4</th>\n",
              "      <td>XkaWQJRkYKywhvcMFpzYnF48dcZNjtKC</td>\n",
              "      <td>abf31d555c6e19d605097621b9ebe350</td>\n",
              "      <td>d0f1f892e984d9039eb991818c2b0df8</td>\n",
              "      <td>2019-04-29 10:04:26</td>\n",
              "      <td>那这个问题是</td>\n",
              "      <td>ad21</td>\n",
              "      <td>['那', '这个', '问题', '是']</td>\n",
              "      <td>['那', '这个', '问题', '是']</td>\n",
              "      <td>yRCVWH1eVHCR1fkUJQ1bIQKnx4hZnsD4</td>\n",
              "      <td>r4ZwBHdeutnPKDwEsVOTBvHJ5xacCIt9</td>\n",
              "      <td>BBZIn96hJu90j5MAFFt5L1ubRORq0P9z</td>\n",
              "      <td>abf31d555c6e19d605097621b9ebe350</td>\n",
              "      <td>d0f1f892e984d9039eb991818c2b0df8</td>\n",
              "      <td>2019-04-13 17:59:20</td>\n",
              "      <td>我见web端是打到这个服务器就能预览</td>\n",
              "      <td>ad01</td>\n",
              "      <td>['我见', 'web', '端', '是', '打', '到', '这个', '服务器',...</td>\n",
              "      <td>['我见', 'web', '端', '是', '打', '到', '这个', '服务器',...</td>\n",
              "      <td>AvaR9GboQpdHNNxnmvdmOBuwLWuhYHeY</td>\n",
              "      <td>Z9GJolmzwNMjW7K0pagqSXS4huKcntJ4</td>\n",
              "      <td>28494</td>\n",
              "      <td>0</td>\n",
              "      <td>0</td>\n",
              "    </tr>\n",
              "  </tbody>\n",
              "</table>\n",
              "</div>"
            ],
            "text/plain": [
              "                             msgid1  ... isadjacent\n",
              "0  d1UlB7Qf0FRNowRVlsX4aYHzl6LeqwuT  ...          0\n",
              "1  ad893432750b4471a2e4d248d2787a05  ...          0\n",
              "2  4yHv5EBHvLwW7SGY0cWVuozPvFXvglPh  ...          0\n",
              "3  OMKPuEpVq3zfkJrRRkhYDyp02Y6W3ZlL  ...          0\n",
              "4  XkaWQJRkYKywhvcMFpzYnF48dcZNjtKC  ...          0\n",
              "\n",
              "[5 rows x 23 columns]"
            ]
          },
          "metadata": {
            "tags": []
          },
          "execution_count": 88
        }
      ]
    },
    {
      "cell_type": "code",
      "metadata": {
        "id": "mRwWns5Fwi4i",
        "colab_type": "code",
        "colab": {}
      },
      "source": [
        "corpus = corpus.reindex(np.random.permutation(corpus.index))"
      ],
      "execution_count": null,
      "outputs": []
    },
    {
      "cell_type": "code",
      "metadata": {
        "id": "E4Yj78fi2f-v",
        "colab_type": "code",
        "colab": {
          "base_uri": "https://localhost:8080/",
          "height": 532
        },
        "outputId": "39b229df-a23c-493f-e453-160d1110c527"
      },
      "source": [
        "corpus.head()"
      ],
      "execution_count": null,
      "outputs": [
        {
          "output_type": "execute_result",
          "data": {
            "text/html": [
              "<div>\n",
              "<style scoped>\n",
              "    .dataframe tbody tr th:only-of-type {\n",
              "        vertical-align: middle;\n",
              "    }\n",
              "\n",
              "    .dataframe tbody tr th {\n",
              "        vertical-align: top;\n",
              "    }\n",
              "\n",
              "    .dataframe thead th {\n",
              "        text-align: right;\n",
              "    }\n",
              "</style>\n",
              "<table border=\"1\" class=\"dataframe\">\n",
              "  <thead>\n",
              "    <tr style=\"text-align: right;\">\n",
              "      <th></th>\n",
              "      <th>msgid1</th>\n",
              "      <th>sender1</th>\n",
              "      <th>receiver1</th>\n",
              "      <th>createdtime1</th>\n",
              "      <th>content1</th>\n",
              "      <th>chatsession1</th>\n",
              "      <th>cutcontent1</th>\n",
              "      <th>cutlist1</th>\n",
              "      <th>before_msg_id1</th>\n",
              "      <th>after_msg_id1</th>\n",
              "      <th>msgid2</th>\n",
              "      <th>sender2</th>\n",
              "      <th>receiver2</th>\n",
              "      <th>createdtime2</th>\n",
              "      <th>content2</th>\n",
              "      <th>chatsession2</th>\n",
              "      <th>cutcontent2</th>\n",
              "      <th>cutlist2</th>\n",
              "      <th>before_msg_id2</th>\n",
              "      <th>after_msg_id2</th>\n",
              "      <th>timedifference</th>\n",
              "      <th>samesession</th>\n",
              "      <th>isadjacent</th>\n",
              "    </tr>\n",
              "  </thead>\n",
              "  <tbody>\n",
              "    <tr>\n",
              "      <th>7149</th>\n",
              "      <td>c313lfrrKpVJ6WQnpTCKHCcpCFGZAKXl</td>\n",
              "      <td>3edca340cb066d38389e56ad2336249e</td>\n",
              "      <td>042e2809e45c3cf5d85d05e9459d78dc</td>\n",
              "      <td>2019-04-17 20:54:20</td>\n",
              "      <td>这个我不知道</td>\n",
              "      <td>307</td>\n",
              "      <td>['这个', '我', '不', '知道']</td>\n",
              "      <td>['这个', '我', '不', '知道']</td>\n",
              "      <td>Ec1CgfWS4q1vDZWZiUHf7DjgtRrmk18S</td>\n",
              "      <td>0UZBLrwLebQtVBKJ8Pz55oZzNdxQJ2iW</td>\n",
              "      <td>0UZBLrwLebQtVBKJ8Pz55oZzNdxQJ2iW</td>\n",
              "      <td>3edca340cb066d38389e56ad2336249e</td>\n",
              "      <td>042e2809e45c3cf5d85d05e9459d78dc</td>\n",
              "      <td>2019-04-17 20:54:35</td>\n",
              "      <td>你描述完整一下</td>\n",
              "      <td>307</td>\n",
              "      <td>['你', '描述', '完整', '一下']</td>\n",
              "      <td>['你', '描述', '完整', '一下']</td>\n",
              "      <td>c313lfrrKpVJ6WQnpTCKHCcpCFGZAKXl</td>\n",
              "      <td>gH18I2eCAb7xrx0UsuuIuNEGxB8AutHw</td>\n",
              "      <td>15</td>\n",
              "      <td>1</td>\n",
              "      <td>1</td>\n",
              "    </tr>\n",
              "    <tr>\n",
              "      <th>13235</th>\n",
              "      <td>7yfz4tYrOySKUfa3WQU9VB3PytQU2YJD</td>\n",
              "      <td>abf31d555c6e19d605097621b9ebe350</td>\n",
              "      <td>d0f1f892e984d9039eb991818c2b0df8</td>\n",
              "      <td>2019-05-15 14:48:47</td>\n",
              "      <td>好我联下</td>\n",
              "      <td>ad49</td>\n",
              "      <td>['好', '我', '联下']</td>\n",
              "      <td>['好', '我', '联下']</td>\n",
              "      <td>ad28b97851df4e568c8c72d50a9eb765</td>\n",
              "      <td>adfc6640b4b647fcbb9c9c84d857e7f8</td>\n",
              "      <td>WdAVe4NjqOKRTHXVIogqYNgMuzVRmvQA</td>\n",
              "      <td>abf31d555c6e19d605097621b9ebe350</td>\n",
              "      <td>d0f1f892e984d9039eb991818c2b0df8</td>\n",
              "      <td>2019-05-15 14:49:42</td>\n",
              "      <td>有</td>\n",
              "      <td>ad49</td>\n",
              "      <td>['有']</td>\n",
              "      <td>['有']</td>\n",
              "      <td>adfc6640b4b647fcbb9c9c84d857e7f8</td>\n",
              "      <td>2opGEJa9WuAVvGHacQLktZwoEolBAu8b</td>\n",
              "      <td>55</td>\n",
              "      <td>1</td>\n",
              "      <td>0</td>\n",
              "    </tr>\n",
              "    <tr>\n",
              "      <th>5965</th>\n",
              "      <td>xoZXo8qFHcNazMZJW7glispcvsiW4ODL</td>\n",
              "      <td>abf31d555c6e19d605097621b9ebe350</td>\n",
              "      <td>d0f1f892e984d9039eb991818c2b0df8</td>\n",
              "      <td>2019-04-29 12:27:23</td>\n",
              "      <td>匡哥怎么说的</td>\n",
              "      <td>ad23</td>\n",
              "      <td>['匡哥', '怎么', '说', '的']</td>\n",
              "      <td>['匡哥', '怎么', '说', '的']</td>\n",
              "      <td>adb03a09ca2548468939a2330f0b7870</td>\n",
              "      <td>5XBrfkOdJyLC1L9koBbrrLCfDwRcpkCc</td>\n",
              "      <td>F0jEAcshDY9iLUTjlB5juq1EsCgl4gKe</td>\n",
              "      <td>d0f1f892e984d9039eb991818c2b0df8</td>\n",
              "      <td>abf31d555c6e19d605097621b9ebe350</td>\n",
              "      <td>2019-04-29 16:34:28</td>\n",
              "      <td>是生成还是测试</td>\n",
              "      <td>ad26</td>\n",
              "      <td>['是', '生成', '还是', '测试']</td>\n",
              "      <td>['是', '生成', '还是', '测试']</td>\n",
              "      <td>gTYvI0rsdlTi75qzi8OsUpoFUygonxiB</td>\n",
              "      <td>B8DU9HJyvJ7t89fSLOzm6zA4qDQF6ZL4</td>\n",
              "      <td>14825</td>\n",
              "      <td>0</td>\n",
              "      <td>0</td>\n",
              "    </tr>\n",
              "    <tr>\n",
              "      <th>2679</th>\n",
              "      <td>XkiVQsf8oT7uFqSzN8aJHZ328jCudBzf</td>\n",
              "      <td>abf31d555c6e19d605097621b9ebe350</td>\n",
              "      <td>d0f1f892e984d9039eb991818c2b0df8</td>\n",
              "      <td>2019-04-29 09:27:24</td>\n",
              "      <td>采购应用</td>\n",
              "      <td>ad21</td>\n",
              "      <td>['采购', '应用']</td>\n",
              "      <td>['采购', '应用']</td>\n",
              "      <td>2ptaHVWBzo8Zw2us4hQOOsGGaqFQwMvj</td>\n",
              "      <td>I5d2GaOFnhb1tJ2AZWEfUeu8ogL2khp7</td>\n",
              "      <td>ad758e5f544c40819bbbfcc84433633e</td>\n",
              "      <td>d0f1f892e984d9039eb991818c2b0df8</td>\n",
              "      <td>abf31d555c6e19d605097621b9ebe350</td>\n",
              "      <td>2019-05-10 16:59:38</td>\n",
              "      <td>好的，你把代码给我，文件给我。我晚上改掉</td>\n",
              "      <td>ad37</td>\n",
              "      <td>['好', '的', '你', '把', '代码', '给', '我', '文件', '给'...</td>\n",
              "      <td>['好', '的', '你', '把', '代码', '给', '我', '文件', '给'...</td>\n",
              "      <td>YPtmY8hoajJi0fL53GVJYRF8uEsaiUJe</td>\n",
              "      <td>ObubrLmAWTzbax1KP3t9cXClaeK7aAsK</td>\n",
              "      <td>27134</td>\n",
              "      <td>0</td>\n",
              "      <td>0</td>\n",
              "    </tr>\n",
              "    <tr>\n",
              "      <th>8150</th>\n",
              "      <td>pXdHaCe1p6MnTHEZIgiZJRkBWoRtiPj7</td>\n",
              "      <td>042e2809e45c3cf5d85d05e9459d78dc</td>\n",
              "      <td>3edca340cb066d38389e56ad2336249e</td>\n",
              "      <td>2019-05-23 14:26:30</td>\n",
              "      <td>我得等腾讯那边的答复</td>\n",
              "      <td>3030</td>\n",
              "      <td>['我', '得', '等', '腾讯', '那边', '的', '答复']</td>\n",
              "      <td>['我', '得', '等', '腾讯', '那边', '的', '答复']</td>\n",
              "      <td>iBqTg4etDPJuRelLNSU2uVK8PbIgptoN</td>\n",
              "      <td>yFh3tZuxHo21kJCWXCP13ypdBjfOhUrC</td>\n",
              "      <td>jpEgx9BqJhEIFDH3on9TM8NP01tr8U35</td>\n",
              "      <td>3edca340cb066d38389e56ad2336249e</td>\n",
              "      <td>042e2809e45c3cf5d85d05e9459d78dc</td>\n",
              "      <td>2019-04-17 18:22:12</td>\n",
              "      <td>只要是移动端发的，web端或者桌面端都可以看到</td>\n",
              "      <td>307</td>\n",
              "      <td>['只要', '是', '移动', '端发', '的', 'web', '端', '或者',...</td>\n",
              "      <td>['只要', '是', '移动', '端发', '的', 'web', '端', '或者',...</td>\n",
              "      <td>yvRAxcSTrvxeyGwwWlv0yaZ6Y6BoqDgl</td>\n",
              "      <td>I9j92qJxrDXtp9k4j6R0K7Dfy1iFvxCi</td>\n",
              "      <td>14142</td>\n",
              "      <td>0</td>\n",
              "      <td>0</td>\n",
              "    </tr>\n",
              "  </tbody>\n",
              "</table>\n",
              "</div>"
            ],
            "text/plain": [
              "                                 msgid1  ... isadjacent\n",
              "7149   c313lfrrKpVJ6WQnpTCKHCcpCFGZAKXl  ...          1\n",
              "13235  7yfz4tYrOySKUfa3WQU9VB3PytQU2YJD  ...          0\n",
              "5965   xoZXo8qFHcNazMZJW7glispcvsiW4ODL  ...          0\n",
              "2679   XkiVQsf8oT7uFqSzN8aJHZ328jCudBzf  ...          0\n",
              "8150   pXdHaCe1p6MnTHEZIgiZJRkBWoRtiPj7  ...          0\n",
              "\n",
              "[5 rows x 23 columns]"
            ]
          },
          "metadata": {
            "tags": []
          },
          "execution_count": 90
        }
      ]
    },
    {
      "cell_type": "code",
      "metadata": {
        "id": "e2ip0tdnuZPZ",
        "colab_type": "code",
        "colab": {
          "base_uri": "https://localhost:8080/",
          "height": 123
        },
        "outputId": "199b0520-0cb5-47f9-9f40-79648cd5f52e"
      },
      "source": [
        "corpus.columns"
      ],
      "execution_count": null,
      "outputs": [
        {
          "output_type": "execute_result",
          "data": {
            "text/plain": [
              "Index(['msgid1', 'sender1', 'receiver1', 'createdtime1', 'content1',\n",
              "       'chatsession1', 'cutcontent1', 'cutlist1', 'before_msg_id1',\n",
              "       'after_msg_id1', 'msgid2', 'sender2', 'receiver2', 'createdtime2',\n",
              "       'content2', 'chatsession2', 'cutcontent2', 'cutlist2', 'before_msg_id2',\n",
              "       'after_msg_id2', 'timedifference', 'samesession', 'isadjacent'],\n",
              "      dtype='object')"
            ]
          },
          "metadata": {
            "tags": []
          },
          "execution_count": 91
        }
      ]
    },
    {
      "cell_type": "code",
      "metadata": {
        "id": "b0XN26xOAAyt",
        "colab_type": "code",
        "colab": {
          "base_uri": "https://localhost:8080/",
          "height": 70
        },
        "outputId": "a7448d04-ba06-4bdc-cc82-438b1a96d33b"
      },
      "source": [
        "traincorpus = pd.DataFrame(columns = corpus.columns)\n",
        "traincorpus = traincorpus.append(corpus.iloc[:11200,:], ignore_index=True)\n",
        "#traincorpus = traincorpus.append(corpus.iloc[:16000,:], ignore_index=True)\n",
        "testcorpus = pd.DataFrame(columns = corpus.columns)\n",
        "testcorpus = testcorpus.append(corpus.iloc[11200:,:], ignore_index=True)\n",
        "#testcorpus = testcorpus.append(corpus.iloc[16000:,:], ignore_index=True)\n",
        "traincorpus['samesession'].value_counts()"
      ],
      "execution_count": null,
      "outputs": [
        {
          "output_type": "execute_result",
          "data": {
            "text/plain": [
              "1    5617\n",
              "0    5583\n",
              "Name: samesession, dtype: int64"
            ]
          },
          "metadata": {
            "tags": []
          },
          "execution_count": 92
        }
      ]
    },
    {
      "cell_type": "code",
      "metadata": {
        "id": "kJiHDOUL3xvY",
        "colab_type": "code",
        "colab": {
          "base_uri": "https://localhost:8080/",
          "height": 35
        },
        "outputId": "f199b01d-6a4d-4d89-9049-0460a9d64910"
      },
      "source": [
        "# 句子的平均长度\n",
        "sentencelen = 0\n",
        "for line in traincorpus.iloc[:,7]:\n",
        "  sentencelen += len(line)\n",
        "print(sentencelen/traincorpus.shape[0])"
      ],
      "execution_count": null,
      "outputs": [
        {
          "output_type": "stream",
          "text": [
            "35.19633928571429\n"
          ],
          "name": "stdout"
        }
      ]
    },
    {
      "cell_type": "code",
      "metadata": {
        "id": "kIdypTom2ZsC",
        "colab_type": "code",
        "colab": {
          "base_uri": "https://localhost:8080/",
          "height": 35
        },
        "outputId": "f7daa7b0-3e9e-4fdc-ea8d-d690f8a3bca8"
      },
      "source": [
        "list_word = ['UNK']\n",
        "dict_word = {}\n",
        "print(dict_word)"
      ],
      "execution_count": null,
      "outputs": [
        {
          "output_type": "stream",
          "text": [
            "{}\n"
          ],
          "name": "stdout"
        }
      ]
    },
    {
      "cell_type": "code",
      "metadata": {
        "id": "YS5rFSV74MH0",
        "colab_type": "code",
        "colab": {
          "base_uri": "https://localhost:8080/",
          "height": 55
        },
        "outputId": "8caefef0-7b53-46cf-989c-6670d9f1dffd"
      },
      "source": [
        "for data in [traincorpus.iloc[:,7],traincorpus.iloc[:,17]]:\n",
        "  for words in data:\n",
        "    for i,word in enumerate(words):\n",
        "      if word not in dict_word:\n",
        "        dict_word[word]=len(dict_word)\n",
        "print(dict_word)   #字典构造完毕"
      ],
      "execution_count": null,
      "outputs": [
        {
          "output_type": "stream",
          "text": [
            "{'[': 0, \"'\": 1, '这': 2, '个': 3, ',': 4, ' ': 5, '我': 6, '不': 7, '知': 8, '道': 9, ']': 10, '好': 11, '联': 12, '下': 13, '匡': 14, '哥': 15, '怎': 16, '么': 17, '说': 18, '的': 19, '采': 20, '购': 21, '应': 22, '用': 23, '得': 24, '等': 25, '腾': 26, '讯': 27, '那': 28, '边': 29, '答': 30, '复': 31, '没': 32, '办': 33, '法': 34, '今': 35, '天': 36, '空': 37, '一': 38, '点': 39, '都': 40, '有': 41, '6': 42, '4': 43, '还': 44, '是': 45, '5': 46, '嗯': 47, '正': 48, '常': 49, '打': 50, '域': 51, '名': 52, '了': 53, '对': 54, '跟': 55, '他': 56, '需': 57, '要': 58, '会': 59, '先': 60, '别': 61, '跑': 62, '测': 63, '试': 64, '待': 65, '符': 66, '号': 67, '问': 68, '题': 69, '录': 70, '播': 71, '和': 72, '该': 73, 'n': 74, 'g': 75, 'i': 76, 'x': 77, '配': 78, '置': 79, '就': 80, '行': 81, '代': 82, '码': 83, '老': 84, '毕': 85, '童': 86, '斌': 87, '又': 88, '在': 89, '你': 90, '保': 91, '时': 92, '捷': 93, '单': 94, '吗': 95, '阳': 96, '光': 97, '远': 98, '程': 99, '能': 100, '找': 101, '谁': 102, '提': 103, '供': 104, '刚': 105, '才': 106, '咱': 107, '们': 108, '看': 109, '到': 110, '间': 111, '吃': 112, '完': 113, '饭': 114, '回': 115, '来': 116, '可': 117, '以': 118, '推': 119, '假': 120, '数': 121, '据': 122, '进': 123, '去': 124, '通': 125, '重': 126, 's': 127, 'z': 128, '之': 129, '后': 130, '文': 131, '件': 132, '放': 133, '桌': 134, '面': 135, '现': 136, '把': 137, '环': 138, '境': 139, '生': 140, '产': 141, '目': 142, 'a': 143, 'p': 144, 'r': 145, 'e': 146, 'd': 147, '普': 148, '验': 149, '证': 150, '任': 151, '务': 152, '吧': 153, '0': 154, '1': 155, '也': 156, '解': 157, '析': 158, '发': 159, '给': 160, '哪': 161, '着': 162, '获': 163, '取': 164, '列': 165, '表': 166, '慢': 167, '所': 168, '您': 169, '3': 170, '月': 171, '条': 172, '比': 173, '里': 174, '算': 175, '肯': 176, '定': 177, '啊': 178, '哦': 179, 'h': 180, 't': 181, '调': 182, '曦': 183, '大': 184, '地': 185, '开': 186, '系': 187, '统': 188, '管': 189, '理': 190, '为': 191, '什': 192, '报': 193, '2': 194, '人': 195, '力': 196, '资': 197, '源': 198, '始': 199, '按': 200, '成': 201, '样': 202, 'u': 203, '式': 204, '过': 205, '预': 206, '览': 207, '连': 208, '台': 209, '校': 210, 'o': 211, 'k': 212, '失': 213, '败': 214, '赶': 215, '紧': 216, '客': 217, '户': 218, '炸': 219, '字': 220, '帮': 221, '队': 222, '停': 223, '貌': 224, '似': 225, '外': 226, '网': 227, '访': 228, '关': 229, '于': 230, '乘': 231, '车': 232, '售': 233, '云': 234, '项': 235, '使': 236, '员': 237, '维': 238, '修': 239, '站': 240, '部': 241, '分': 242, '合': 243, '作': 244, '伙': 245, '伴': 246, '约': 247, 'w': 248, '营': 249, '销': 250, '全': 251, '希': 252, '望': 253, 'A': 254, 'b': 255, '端': 256, '优': 257, 'S': 258, '方': 259, '案': 260, '建': 261, '含': 262, '移': 263, '动': 264, 'P': 265, 'C': 266, '第': 267, '期': 268, '屡': 269, '加': 270, '批': 271, '脚': 272, '本': 273, '直': 274, '接': 275, '家': 276, '制': 277, '候': 278, '做': 279, 'H': 280, 'R': 281, '口': 282, 'O': 283, '服': 284, '器': 285, '退': 286, '少': 287, '康': 288, '心': 289, '思': 290, '求': 291, '档': 292, '多': 293, 'l': 294, '导': 295, '致': 296, '查': 297, '出': 298, '晚': 299, '上': 300, '起': 301, '改': 302, '拿': 303, '几': 304, '东': 305, '西': 306, 'T': 307, 'M': 308, 'm': 309, 'y': 310, 'v': 311, '8': 312, 'B': 313, 'L': 314, 'E': 315, 'U': 316, 'F': 317, 'I': 318, 'D': 319, '闭': 320, '升': 321, '级': 322, '启': 323, 'c': 324, '向': 325, '准': 326, '备': 327, '信': 328, '息': 329, '流': 330, '评': 331, '论': 332, '址': 333, '如': 334, '果': 335, '换': 336, '库': 337, '些': 338, '周': 339, '五': 340, 'q': 341, '意': 342, '错': 343, '话': 344, '新': 345, '前': 346, '另': 347, '付': 348, '浩': 349, '然': 350, '当': 351, '初': 352, '留': 353, '账': 354, '公': 355, '司': 356, 'Q': 357, '呢': 358, '翻': 359, '译': 360, '登': 361, '工': 362, '7': 363, '死': 364, '啥': 365, '组': 366, '织': 367, '其': 368, '三': 369, '帆': 370, '限': 371, '返': 372, '误': 373, '享': 374, '邮': 375, '图': 376, '标': 377, '整': 378, '忙': 379, '陆': 380, '9': 381, '四': 382, '克': 383, '隆': 384, '徐': 385, '继': 386, '乱': 387, '但': 388, '日': 389, '志': 390, '估': 391, '计': 392, '最': 393, '张': 394, '荣': 395, '手': 396, '传': 397, '参': 398, '弄': 399, '决': 400, '写': 401, '确': 402, '认': 403, '支': 404, '持': 405, '语': 406, '句': 407, '觉': 408, '乐': 409, '孟': 410, '姐': 411, '询': 412, '想': 413, '存': 414, '储': 415, '离': 416, '职': 417, '功': 418, '原': 419, '因': 420, '特': 421, '情': 422, '况': 423, '种': 424, '摸': 425, '审': 426, '般': 427, '头': 428, '搞': 429, '非': 430, '感': 431, '谢': 432, '悦': 433, '聊': 434, '再': 435, '内': 436, '容': 437, '被': 438, '顶': 439, '相': 440, '逻': 441, '辑': 442, '明': 443, '从': 444, 'f': 445, '中': 446, '值': 447, '星': 448, '巴': 449, '送': 450, '申': 451, '请': 452, '小': 453, '米': 454, '干': 455, '嘛': 456, '每': 457, '次': 458, '拼': 459, '额': 460, '华': 461, '渠': 462, '续': 463, '费': 464, '票': 465, '集': 466, '北': 467, '京': 468, '企': 469, '划': 470, '章': 471, '印': 472, '经': 473, '丁': 474, '彬': 475, '消': 476, '学': 477, '块': 478, '萌': 479, '事': 480, '两': 481, '豪': 482, '让': 483, '业': 484, '快': 485, '速': 486, '框': 487, '架': 488, '机': 489, '观': 490, '众': 491, '顺': 492, '序': 493, '处': 494, '滴': 495, '更': 496, '删': 497, '很': 498, '装': 499, '简': 500, '肖': 501, '峰': 502, '延': 503, '锋': 504, '彼': 505, '欧': 506, '而': 507, '市': 508, '科': 509, '技': 510, '双': 511, '臂': 512, '栋': 513, '摩': 514, '楼': 515, '即': 516, '将': 517, '拔': 518, '除': 519, '亚': 520, '马': 521, '逊': 522, '谷': 523, '歌': 524, '脸': 525, '书': 526, '扩': 527, '雅': 528, '政': 529, '变': 530, '社': 531, '主': 532, '义': 533, '念': 534, '忘': 535, '税': 536, '恐': 537, '怕': 538, '年': 539, '只': 540, '高': 541, '城': 542, '浪': 543, '汉': 544, '遍': 545, '毒': 546, '品': 547, '满': 548, '街': 549, '怖': 550, '走': 551, '击': 552, '见': 553, '够': 554, '太': 555, '矬': 556, '扑': 557, '杨': 558, '否': 559, '安': 560, '排': 561, '转': 562, '入': 563, '绑': 564, '声': 565, '线': 566, '挤': 567, '历': 568, '史': 569, '记': 570, '昨': 571, '载': 572, '习': 573, '踪': 574, '专': 575, '密': 576, '二': 577, '介': 578, '绍': 579, 'J': 580, 'W': 581, '构': 582, '性': 583, '充': 584, '稳': 585, '及': 586, '运': 587, '气': 588, '汤': 589, '江': 590, '涛': 591, '跳': 592, '独': 593, '随': 594, '便': 595, 'j': 596, '格': 597, '刘': 598, '磊': 599, '迁': 600, '权': 601, '显': 602, '示': 603, '屏': 604, '蔽': 605, '或': 606, '者': 607, '追': 608, '忽': 609, '略': 610, '状': 611, '态': 612, '王': 613, '群': 614, '结': 615, '束': 616, '拷': 617, '贝': 618, '积': 619, '压': 620, '识': 621, '朱': 622, '烦': 623, '模': 624, '早': 625, '宜': 626, '百': 627, '威': 628, '英': 629, '博': 630, '像': 631, '班': 632, '麦': 633, '劳': 634, '疑': 635, '咋': 636, '未': 637, '难': 638, '急': 639, '带': 640, '殊': 641, '展': 642, '象': 643, '共': 644, '餐': 645, '补': 646, '金': 647, '实': 648, '际': 649, '育': 650, '津': 651, '贴': 652, '门': 653, '诊': 654, '终': 655, '奖': 656, '络': 657, '设': 658, '听': 659, '熬': 660, '夜': 661, '汽': 662, '基': 663, '宽': 664, '度': 665, '类': 666, '型': 667, '领': 668, '座': 669, '位': 670, '昂': 671, '睡': 672, '替': 673, '包': 674, '添': 675, '呀': 676, '稍': 677, 'N': 678, '弯': 679, '筛': 680, '选': 681, '截': 682, 'X': 683, '李': 684, '国': 685, '梁': 686, '休': 687, '拟': 688, '球': 689, '董': 690, '至': 691, '层': 692, '团': 693, '受': 694, '何': 695, '议': 696, '钱': 697, '雪': 698, '彤': 699, '洪': 700, '清': 701, '楚': 702, '区': 703, '操': 704, '版': 705, '遗': 706, '角': 707, '色': 708, '增': 709, '同': 710, '步': 711, '拒': 712, '绝': 713, '姜': 714, '堰': 715, '量': 716, '割': 717, '暂': 718, '缺': 719, '场': 720, '频': 721, '繁': 722, '顾': 723, '虑': 724, '反': 725, '馈': 726, '自': 727, '警': 728, '激': 729, 'K': 730, '坑': 731, '片': 732, '断': 733, '搁': 734, '突': 735, '首': 736, '页': 737, '惠': 738, '丞': 739, '催': 740, '勾': 741, '掉': 742, '已': 743, '丢': 744, '港': 745, '活': 746, '钟': 747, '奇': 748, '怪': 749, '交': 750, '剩': 751, '余': 752, '矛': 753, '盾': 754, '胡': 755, '俊': 756, '势': 757, '适': 758, '叫': 759, '卡': 760, '各': 761, '玲': 762, '九': 763, '价': 764, '午': 765, 'V': 766, 'G': 767, '讨': 768, '害': 769, '俩': 770, '电': 771, '她': 772, '吓': 773, '练': 774, '歇': 775, '索': 776, '引': 777, '无': 778, '局': 779, '注': 780, '久': 781, '化': 782, '梳': 783, '芳': 784, '珈': 785, '己': 786, '根': 787, '长': 788, '敢': 789, '➕': 790, '与': 791, '抓': 792, 'Z': 793, '释': 794, '哈': 795, '杀': 796, '真': 797, '蛋': 798, '疼': 799, '白': 800, '附': 801, '细': 802, '半': 803, '垂': 804, '较': 805, '挺': 806, '术': 807, '绿': 808, '范': 809, '围': 810, '赵': 811, '浏': 812, '协': 813, '刷': 814, '严': 815, '秦': 816, '总': 817, '辉': 818, '固': 819, '硬': 820, '盘': 821, '拍': 822, '照': 823, '伟': 824, '垫': 825, '麻': 826, '佳': 827, '创': 828, '链': 829, '银': 830, '策': 831, '红': 832, '哎': 833, '影': 834, '响': 835, '份': 836, '尽': 837, '核': 838, '陈': 839, '沭': 840, '覆': 841, '盖': 842, '缓': 843, '检': 844, '雇': 845, '超': 846, '立': 847, '研': 848, '微': 849, '软': 850, '蓝': 851, '波': 852, '音': 853, '世': 854, '纪': 855, '埃': 856, '森': 857, '哲': 858, '苹': 859, '尔': 860, '甲': 861, '骨': 862, '岗': 863, '爱': 864, '迎': 865, '航': 866, '海': 867, '鲸': 868, '著': 869, '归': 870, '形': 871, '授': 872, '并': 873, '底': 874, '告': 875, '诉': 876, '收': 877, '负': 878, '责': 879, '院': 880, '病': 881, '且': 882, '扣': 883, '减': 884, '免': 885, '差': 886, '乎': 887, '熙': 888, '万': 889, '编': 890, '钮': 891, '醒': 892, '熟': 893, '悉': 894, '混': 895, '则': 896, '挑': 897, '↑': 898, '此': 899, '买': 900, '房': 901, '子': 902, '平': 903, '均': 904, '毫': 905, '秒': 906, '左': 907, '右': 908, '署': 909, '玩': 910, '欠': 911, '鸿': 912, '堡': 913, '垒': 914, '蓓': 915, '投': 916, '卷': 917, '例': 918, '亲': 919, '伐': 920, '卓': 921, '撤': 922, '薛': 923, '冲': 924, '贵': 925, '倍': 926, '强': 927, '盛': 928, '姓': 929, '摆': 930, '豆': 931, '仅': 932, '洋': 933, '券': 934, '勤': 935, '效': 936, '读': 937, '搜': 938, '珊': 939, '兼': 940, '括': 941, '喜': 942, '欢': 943, '键': 944, '布': 945, '給': 946, '背': 947, '静': 948, '封': 949, '窗': 950, '具': 951, '岳': 952, '彪': 953, '辛': 954, '苦': 955, '靠': 956, '秀': 957, '男': 958, '酸': 959, '爽': 960, '输': 961, '隐': 962, '藏': 963, '商': 964, '造': 965, '判': 966, '规': 967, '晓': 968, '宁': 969, '必': 970, '须': 971, '笔': 972, '雷': 973, '燕': 974, '军': 975, '详': 976, '沟': 977, '段': 978, '苏': 979, '泊': 980, '监': 981, '郑': 982, '善': 983, '节': 984, '聪': 985, '尴': 986, '尬': 987, '概': 988, '体': 989, '填': 990, '阔': 991, '脑': 992, '末': 993, '板': 994, '益': 995, '累': 996, '谈': 997, '黑': 998, '礼': 999, '物': 1000, '嵌': 1001, '套': 1002, '毛': 1003, '箱': 1004, '梦': 1005, '杰': 1006, '描': 1007, '述': 1008, '达': 1009, '命': 1010, '率': 1011, '庵': 1012, '属': 1013, '涨': 1014, '令': 1015, '切': 1016, '广': 1017, '利': 1018, '涉': 1019, '界': 1020, '虫': 1021, '咬': 1022, '呼': 1023, '巧': 1024, '弹': 1025, '菜': 1026, '眼': 1027, '抽': 1028, '某': 1029, '住': 1030, '施': 1031, '涌': 1032, '硅': 1033, '景': 1034, '越': 1035, '智': 1036, '称': 1037, '夏': 1038, '迈': 1039, '视': 1040, '虽': 1041, '短': 1042, '崭': 1043, '露': 1044, '佼': 1045, '美': 1046, '儿': 1047, '瞒': 1048, '质': 1049, '聘': 1050, '择': 1051, '低': 1052, '闪': 1053, '灯': 1054, '尝': 1055, '磁': 1056, '落': 1057, '崩': 1058, '钉': 1059, '坏': 1060, '夹': 1061, '它': 1062, '卫': 1063, '招': 1064, '募': 1065, '泛': 1066, '凌': 1067, '若': 1068, '往': 1069, '啦': 1070, '朗': 1071, '民': 1072, '讲': 1073, '堂': 1074, '趟': 1075, '厕': 1076, '店': 1077, '依': 1078, '础': 1079, '缴': 1080, '纳': 1081, '魂': 1082, '晶': 1083, '寄': 1084, '饿': 1085, '邀': 1086, '签': 1087, '搓': 1088, '占': 1089, '册': 1090, '噢': 1091, '演': 1092, '睛': 1093, '轻': 1094, '婚': 1095, '由': 1096, '龙': 1097, '足': 1098, '柱': 1099, '闻': 1100, '画': 1101, '遮': 1102, '挡': 1103, '风': 1104, '嘴': 1105, '堆': 1106, '搭': 1107, '默': 1108, '陷': 1109, '蒙': 1110, '璐': 1111, '俺': 1112, '颗': 1113, '偏': 1114, '铁': 1115, '纯': 1116, '近': 1117, '词': 1118, '滑': 1119, '咯': 1120, '路': 1121, '径': 1122, '㛑': 1123, '订': 1124, '阅': 1125, '水': 1126, '仁': 1127, '拉': 1128, '哇': 1129, '抄': 1130, '嘉': 1131, '斯': 1132, '谨': 1133, '钢': 1134, '侠': 1135, '刺': 1136, '精': 1137, '济': 1138, '担': 1139, '撇': 1140, '缠': 1141, '挂': 1142, '奚': 1143, '竟': 1144, '\\\\': 1145, '险': 1146, '恩': 1147, '教': 1148, '晴': 1149, '护': 1150, '培': 1151, '训': 1152, '肃': 1153, '互': 1154, '深': 1155, '偶': 1156, '荐': 1157, '旦': 1158, '究': 1159, '鹏': 1160, '料': 1161, '吸': 1162, 'Y': 1163, '杂': 1164, '土': 1165, '朝': 1166, '酒': 1167, '仙': 1168, '桥': 1169, '恒': 1170, '园': 1171, '室': 1172, '女': 1173, '孩': 1174, '懂': 1175}\n"
          ],
          "name": "stdout"
        }
      ]
    },
    {
      "cell_type": "code",
      "metadata": {
        "id": "HGlf88SM5dv3",
        "colab_type": "code",
        "colab": {
          "base_uri": "https://localhost:8080/",
          "height": 160
        },
        "outputId": "64ea59b3-7459-4b13-e663-a0444e400032"
      },
      "source": [
        "id2w={dict_word[w]:w for w in dict_word}   #word的索引\n",
        "embedding_size=300 #前面自己训练word2vec的时候选择词向量维度为300，此处保持一致（网上下载的预训练词向量如果维度不同，需要修改这里的数字）\n",
        "embedding_arry=np.random.randn(len(dict_word)+1,embedding_size)   #句子embedding矩阵\n",
        "embedding_arry[0]=0\n",
        "#word2vector=gensim.models.Word2Vec.load(path+\"/data/word2vec-vector.w2v\")\n",
        "#word2vector=gensim.models.KeyedVectors.load_word2vec_format(path+'/data/sgns.zhihu.bigram')\n",
        "word2vector=gensim.models.KeyedVectors.load_word2vec_format(path+'/data/sgns.merge.bigram')\n",
        "for index,word in enumerate(dict_word):\n",
        "  if word in word2vector.wv.vocab:\n",
        "    embedding_arry[index]=word2vector.wv.word_vec(word)\n",
        "print('embedding_arry shape:',embedding_arry.shape)"
      ],
      "execution_count": null,
      "outputs": [
        {
          "output_type": "stream",
          "text": [
            "/usr/local/lib/python3.6/dist-packages/smart_open/smart_open_lib.py:253: UserWarning: This function is deprecated, use smart_open.open instead. See the migration notes for details: https://github.com/RaRe-Technologies/smart_open/blob/master/README.rst#migrating-to-the-new-open-function\n",
            "  'See the migration notes for details: %s' % _MIGRATION_NOTES_URL\n"
          ],
          "name": "stderr"
        },
        {
          "output_type": "stream",
          "text": [
            "embedding_arry shape: (1177, 300)\n"
          ],
          "name": "stdout"
        },
        {
          "output_type": "stream",
          "text": [
            "/usr/local/lib/python3.6/dist-packages/ipykernel_launcher.py:9: DeprecationWarning: Call to deprecated `wv` (Attribute will be removed in 4.0.0, use self instead).\n",
            "  if __name__ == '__main__':\n",
            "/usr/local/lib/python3.6/dist-packages/ipykernel_launcher.py:10: DeprecationWarning: Call to deprecated `wv` (Attribute will be removed in 4.0.0, use self instead).\n",
            "  # Remove the CWD from sys.path while we load stuff.\n"
          ],
          "name": "stderr"
        }
      ]
    },
    {
      "cell_type": "code",
      "metadata": {
        "id": "8LsvDnqyvo1a",
        "colab_type": "code",
        "colab": {
          "base_uri": "https://localhost:8080/",
          "height": 123
        },
        "outputId": "6d64d6b8-c385-407a-fa75-79417b1340b2"
      },
      "source": [
        "traincorpus.columns"
      ],
      "execution_count": null,
      "outputs": [
        {
          "output_type": "execute_result",
          "data": {
            "text/plain": [
              "Index(['msgid1', 'sender1', 'receiver1', 'createdtime1', 'content1',\n",
              "       'chatsession1', 'cutcontent1', 'cutlist1', 'before_msg_id1',\n",
              "       'after_msg_id1', 'msgid2', 'sender2', 'receiver2', 'createdtime2',\n",
              "       'content2', 'chatsession2', 'cutcontent2', 'cutlist2', 'before_msg_id2',\n",
              "       'after_msg_id2', 'timedifference', 'samesession', 'isadjacent'],\n",
              "      dtype='object')"
            ]
          },
          "metadata": {
            "tags": []
          },
          "execution_count": 97
        }
      ]
    },
    {
      "cell_type": "code",
      "metadata": {
        "id": "3IA8wXwn5395",
        "colab_type": "code",
        "colab": {
          "base_uri": "https://localhost:8080/",
          "height": 52
        },
        "outputId": "5262a803-e09f-424f-e14c-a61548e2ea7a"
      },
      "source": [
        "#将词组替换为索引\n",
        "train_data_l_n=[]   #左边LSTM的输入\n",
        "train_data_r_n=[]   #右边LSTM的输入\n",
        "\n",
        "for words in traincorpus.iloc[:,7]:\n",
        "  words = list(words)\n",
        "  for i,word in enumerate(words):\n",
        "    words[i]=dict_word[word]\n",
        "  train_data_l_n.append(words)\n",
        "print('train_data_l_n length:',len(train_data_l_n))\n",
        "for words in traincorpus.iloc[:,17]:\n",
        "  words = list(words)\n",
        "  for i,word in enumerate(words):\n",
        "    words[i]=dict_word[word]\n",
        "  train_data_r_n.append(words)\n",
        "print('train_data_r_n length:',len(train_data_r_n))"
      ],
      "execution_count": null,
      "outputs": [
        {
          "output_type": "stream",
          "text": [
            "train_data_l_n length: 11200\n",
            "train_data_r_n length: 11200\n"
          ],
          "name": "stdout"
        }
      ]
    },
    {
      "cell_type": "code",
      "metadata": {
        "id": "ZHRuWkAY9BZ2",
        "colab_type": "code",
        "colab": {}
      },
      "source": [
        "#得到语料中句子的最大长度\n",
        "'''\n",
        "max_length = 0\n",
        "max_length_l = 0\n",
        "max_length_r = 0\n",
        "for line in train_data_l_n:\n",
        "  if max_length_l<len(line):\n",
        "    max_length_l=len(line)\n",
        "print('max length (left):',max_length_l)\n",
        "for line in train_data_r_n:\n",
        "  if max_length_r<len(line):\n",
        "    max_length_r=len(line)\n",
        "print('max length (right):',max_length_r)\n",
        "if max_length_l < max_length_r:\n",
        "  max_length = max_length_r\n",
        "elif max_length_l > max_length_r:\n",
        "  max_length = max_length_l\n",
        "else:\n",
        "  max_length = max_length_l\n",
        "print(\"max length:\", max_length)\n",
        "'''\n",
        "max_length = 50"
      ],
      "execution_count": null,
      "outputs": []
    },
    {
      "cell_type": "code",
      "metadata": {
        "id": "_hHqwcpq981M",
        "colab_type": "code",
        "colab": {}
      },
      "source": [
        "# 对齐语料中句子的长度\n",
        "train_data_l_n = pad_sequences(train_data_l_n, maxlen=max_length, padding = 'post',truncating='post')\n",
        "train_data_r_n = pad_sequences(train_data_r_n, maxlen=max_length, padding = 'post',truncating='post')"
      ],
      "execution_count": null,
      "outputs": []
    },
    {
      "cell_type": "code",
      "metadata": {
        "id": "kuifXNay-CL3",
        "colab_type": "code",
        "colab": {
          "base_uri": "https://localhost:8080/",
          "height": 140
        },
        "outputId": "9856c2c6-f009-4838-fc02-f461e0f4d8bb"
      },
      "source": [
        "train_data_l_n"
      ],
      "execution_count": null,
      "outputs": [
        {
          "output_type": "execute_result",
          "data": {
            "text/plain": [
              "array([[  0,   1,   2, ...,   0,   0,   0],\n",
              "       [  0,   1,  11, ...,   0,   0,   0],\n",
              "       [  0,   1,  14, ...,   0,   0,   0],\n",
              "       ...,\n",
              "       [  0,   1, 589, ...,   0,   0,   0],\n",
              "       [  0,   1,   6, ...,   0,   0,   0],\n",
              "       [  0,   1, 229, ...,   5,   1, 328]], dtype=int32)"
            ]
          },
          "metadata": {
            "tags": []
          },
          "execution_count": 101
        }
      ]
    },
    {
      "cell_type": "code",
      "metadata": {
        "id": "rdqgG0Ej-EiX",
        "colab_type": "code",
        "colab": {
          "base_uri": "https://localhost:8080/",
          "height": 140
        },
        "outputId": "be4c94b0-e0eb-45a8-dfc4-295ca45e7681"
      },
      "source": [
        "train_data_r_n"
      ],
      "execution_count": null,
      "outputs": [
        {
          "output_type": "execute_result",
          "data": {
            "text/plain": [
              "array([[  0,   1,  90, ...,   0,   0,   0],\n",
              "       [  0,   1,  41, ...,   0,   0,   0],\n",
              "       [  0,   1,  45, ...,   0,   0,   0],\n",
              "       ...,\n",
              "       [  0,   1, 388, ...,   0,   0,   0],\n",
              "       [  0,   1,  18, ...,   0,   0,   0],\n",
              "       [  0,   1,  65, ...,   0,   0,   0]], dtype=int32)"
            ]
          },
          "metadata": {
            "tags": []
          },
          "execution_count": 102
        }
      ]
    },
    {
      "cell_type": "code",
      "metadata": {
        "id": "fIjIEvs87A2P",
        "colab_type": "code",
        "colab": {}
      },
      "source": [
        "# 需要预测的label\n",
        "y_train = traincorpus.iloc[:,21]"
      ],
      "execution_count": null,
      "outputs": []
    },
    {
      "cell_type": "markdown",
      "metadata": {
        "id": "lmFc3Yfa-Usn",
        "colab_type": "text"
      },
      "source": [
        "模型构建"
      ]
    },
    {
      "cell_type": "code",
      "metadata": {
        "id": "jmQko26g8762",
        "colab_type": "code",
        "colab": {}
      },
      "source": [
        "#模型参数\n",
        "n_hidden = 50\n",
        "gradient_clipping_norm = 1.25\n",
        "batch_size = 64\n",
        "n_epoch = 30\n"
      ],
      "execution_count": null,
      "outputs": []
    },
    {
      "cell_type": "code",
      "metadata": {
        "id": "5JoUqopG-btu",
        "colab_type": "code",
        "colab": {}
      },
      "source": [
        "#相似度计算\n",
        "def exponent_neg_manhattan_distance(left, right):\n",
        "  return K.exp(-K.sum(K.abs(left - right), axis=1, keepdims=True))\n",
        "def abs_diff(tensors):\n",
        "  # element wise absolute difference of left_output and right_output\n",
        "  return K.abs(tensors[0]-tensors[1])\n",
        "def gelu(x):\n",
        "    \"\"\"Gaussian Error Linear Unit.\n",
        "    This is a smoother version of the RELU.\n",
        "    Original paper: https://arxiv.org/abs/1606.08415\n",
        "    Args:\n",
        "        x: float Tensor to perform activation.\n",
        "    Returns:\n",
        "        `x` with the GELU activation applied.\n",
        "    \"\"\"\n",
        "    cdf = 0.5 * (1.0 + tf.tanh(\n",
        "        (np.sqrt(2 / np.pi) * (x + 0.044715 * tf.pow(x, 3)))))\n",
        "    return x * cdf"
      ],
      "execution_count": null,
      "outputs": []
    },
    {
      "cell_type": "code",
      "metadata": {
        "id": "0zBtms_2-zP0",
        "colab_type": "code",
        "colab": {}
      },
      "source": [
        "#输入层\n",
        "left_input = Input(shape=(max_length,), dtype='int32')\n",
        "right_input = Input(shape=(max_length,), dtype='int32')\n",
        "\n",
        "# embedding\n",
        "embedding_layer = Embedding(len(embedding_arry), embedding_size, weights=[embedding_arry], input_length=max_length, trainable=True)\n",
        "#对句子embedding\n",
        "encoded_left = embedding_layer(left_input)\n",
        "encoded_right = embedding_layer(right_input)\n",
        "\n",
        "#两个LSTM共享参数\n",
        "shared_lstm = LSTM(n_hidden)\n",
        "#shared_lstm = Bidirectional(LSTM(n_hidden), merge_mode='ave')\n",
        "#shared_lstm = SimpleRNN(n_hidden)\n",
        "left_output = shared_lstm(encoded_left)\n",
        "right_output = shared_lstm(encoded_right)"
      ],
      "execution_count": null,
      "outputs": []
    },
    {
      "cell_type": "code",
      "metadata": {
        "id": "Xtv63mW__MNx",
        "colab_type": "code",
        "colab": {}
      },
      "source": [
        "#lstm_distance = Lambda(lambda x: exponent_neg_manhattan_distance(x[0], x[1]),output_shape=lambda x: (x[0][0], 1))([left_output, right_output])   #采用曼哈顿距离\n",
        "lstm_distance = Lambda(abs_diff)([left_output, right_output])"
      ],
      "execution_count": null,
      "outputs": []
    },
    {
      "cell_type": "code",
      "metadata": {
        "id": "2fQlKcJ75m_e",
        "colab_type": "code",
        "colab": {
          "base_uri": "https://localhost:8080/",
          "height": 615
        },
        "outputId": "449773b8-ba92-4530-e3e4-021d80b58fa4"
      },
      "source": [
        "#combine context features\n",
        "context_feature_list = ['timedifference','isadjacent']   #除了文字外，想要加入模型中的与对话有关的变量\n",
        "context_feature_input = Input(shape=(len(context_feature_list),), name = 'context_feature_input')\n",
        "x = keras.layers.concatenate([lstm_distance, context_feature_input])\n",
        "\n",
        "#if self.attention_dense:\n",
        "#rnn_units = 64\n",
        "#attention_probs = Dense(rnn_units+len(context_feature_list), activation='softmax', name='attention_vec')(x)\n",
        "#attention_mul = multiply([x, attention_probs],name='attention_mul')\n",
        "#to_output = Dense(64,activation=gelu,name = 'dense_to_output')(attention_mul)\n",
        "#output = Dense(1, activation='sigmoid',name = 'main_output')(to_output)\n",
        "\n",
        "#if not self.attention_dense:\n",
        "x = keras.layers.BatchNormalization()(x)\n",
        "x = Dense(32, activation='sigmoid', name = 'dense_layer1')(x)\n",
        "x = Dropout(0.5)(x)\n",
        "output = Dense(1, activation='sigmoid',name = 'main_output')(x)\n",
        "\n",
        "# model\n",
        "#samechat = Model([left_input, right_input], [lstm_distance])   #不考虑context feature\n",
        "samechat = Model([left_input, right_input, context_feature_input], [output])   #考虑context feature\n",
        "\n",
        "#optimizer = Adadelta(clipnorm=gradient_clipping_norm)\n",
        "#optimizer = SGD(lr=1e-3, decay=0.0, momentum=0.0, nesterov=False)\n",
        "optimizer = RMSprop(lr=1e-3)\n",
        "#optimizer = Adagrad(lr=1e-3)\n",
        "\n",
        "samechat.summary()"
      ],
      "execution_count": null,
      "outputs": [
        {
          "output_type": "stream",
          "text": [
            "Model: \"model_2\"\n",
            "__________________________________________________________________________________________________\n",
            "Layer (type)                    Output Shape         Param #     Connected to                     \n",
            "==================================================================================================\n",
            "input_3 (InputLayer)            (None, 50)           0                                            \n",
            "__________________________________________________________________________________________________\n",
            "input_4 (InputLayer)            (None, 50)           0                                            \n",
            "__________________________________________________________________________________________________\n",
            "embedding_2 (Embedding)         (None, 50, 300)      353100      input_3[0][0]                    \n",
            "                                                                 input_4[0][0]                    \n",
            "__________________________________________________________________________________________________\n",
            "lstm_2 (LSTM)                   (None, 50)           70200       embedding_2[0][0]                \n",
            "                                                                 embedding_2[1][0]                \n",
            "__________________________________________________________________________________________________\n",
            "lambda_2 (Lambda)               (None, 50)           0           lstm_2[0][0]                     \n",
            "                                                                 lstm_2[1][0]                     \n",
            "__________________________________________________________________________________________________\n",
            "context_feature_input (InputLay (None, 2)            0                                            \n",
            "__________________________________________________________________________________________________\n",
            "concatenate_2 (Concatenate)     (None, 52)           0           lambda_2[0][0]                   \n",
            "                                                                 context_feature_input[0][0]      \n",
            "__________________________________________________________________________________________________\n",
            "batch_normalization_2 (BatchNor (None, 52)           208         concatenate_2[0][0]              \n",
            "__________________________________________________________________________________________________\n",
            "dense_layer1 (Dense)            (None, 32)           1696        batch_normalization_2[0][0]      \n",
            "__________________________________________________________________________________________________\n",
            "dropout_2 (Dropout)             (None, 32)           0           dense_layer1[0][0]               \n",
            "__________________________________________________________________________________________________\n",
            "main_output (Dense)             (None, 1)            33          dropout_2[0][0]                  \n",
            "==================================================================================================\n",
            "Total params: 425,237\n",
            "Trainable params: 425,133\n",
            "Non-trainable params: 104\n",
            "__________________________________________________________________________________________________\n"
          ],
          "name": "stdout"
        }
      ]
    },
    {
      "cell_type": "code",
      "metadata": {
        "id": "SEb59tHP_gca",
        "colab_type": "code",
        "colab": {
          "base_uri": "https://localhost:8080/",
          "height": 1000
        },
        "outputId": "b29ce0b7-8de6-4898-f35a-dc3a236da7d4"
      },
      "source": [
        "#samechat.compile(loss='mean_squared_error', optimizer=optimizer, metrics=['accuracy'])\n",
        "samechat.compile(loss='binary_crossentropy', optimizer=optimizer, metrics=['accuracy'])\n",
        "\n",
        "#train\n",
        "samechat.fit(x=[np.asarray(train_data_l_n), np.asarray(train_data_r_n), np.asarray(traincorpus[['timedifference','isadjacent']])], y=y_train, batch_size=batch_size, epochs=n_epoch, validation_split=0.1)"
      ],
      "execution_count": null,
      "outputs": [
        {
          "output_type": "stream",
          "text": [
            "Train on 10080 samples, validate on 1120 samples\n",
            "Epoch 1/30\n",
            "10080/10080 [==============================] - 14s 1ms/step - loss: 0.7201 - accuracy: 0.5500 - val_loss: 0.6376 - val_accuracy: 0.7295\n",
            "Epoch 2/30\n",
            "10080/10080 [==============================] - 14s 1ms/step - loss: 0.6396 - accuracy: 0.6374 - val_loss: 0.6015 - val_accuracy: 0.7402\n",
            "Epoch 3/30\n",
            "10080/10080 [==============================] - 13s 1ms/step - loss: 0.5874 - accuracy: 0.6969 - val_loss: 0.5696 - val_accuracy: 0.7527\n",
            "Epoch 4/30\n",
            "10080/10080 [==============================] - 13s 1ms/step - loss: 0.5614 - accuracy: 0.7259 - val_loss: 0.5533 - val_accuracy: 0.7500\n",
            "Epoch 5/30\n",
            "10080/10080 [==============================] - 14s 1ms/step - loss: 0.5316 - accuracy: 0.7535 - val_loss: 0.5529 - val_accuracy: 0.7312\n",
            "Epoch 6/30\n",
            "10080/10080 [==============================] - 14s 1ms/step - loss: 0.5080 - accuracy: 0.7692 - val_loss: 0.5333 - val_accuracy: 0.7536\n",
            "Epoch 7/30\n",
            "10080/10080 [==============================] - 14s 1ms/step - loss: 0.4933 - accuracy: 0.7835 - val_loss: 0.5170 - val_accuracy: 0.7679\n",
            "Epoch 8/30\n",
            "10080/10080 [==============================] - 14s 1ms/step - loss: 0.4746 - accuracy: 0.7965 - val_loss: 0.5072 - val_accuracy: 0.7848\n",
            "Epoch 9/30\n",
            "10080/10080 [==============================] - 15s 1ms/step - loss: 0.4548 - accuracy: 0.8053 - val_loss: 0.5031 - val_accuracy: 0.7741\n",
            "Epoch 10/30\n",
            "10080/10080 [==============================] - 14s 1ms/step - loss: 0.4416 - accuracy: 0.8138 - val_loss: 0.4894 - val_accuracy: 0.7857\n",
            "Epoch 11/30\n",
            "10080/10080 [==============================] - 14s 1ms/step - loss: 0.4206 - accuracy: 0.8243 - val_loss: 0.4865 - val_accuracy: 0.7866\n",
            "Epoch 12/30\n",
            "10080/10080 [==============================] - 14s 1ms/step - loss: 0.4121 - accuracy: 0.8329 - val_loss: 0.4745 - val_accuracy: 0.7991\n",
            "Epoch 13/30\n",
            "10080/10080 [==============================] - 14s 1ms/step - loss: 0.4001 - accuracy: 0.8398 - val_loss: 0.4794 - val_accuracy: 0.7911\n",
            "Epoch 14/30\n",
            "10080/10080 [==============================] - 14s 1ms/step - loss: 0.3888 - accuracy: 0.8470 - val_loss: 0.4732 - val_accuracy: 0.7911\n",
            "Epoch 15/30\n",
            "10080/10080 [==============================] - 14s 1ms/step - loss: 0.3741 - accuracy: 0.8486 - val_loss: 0.4563 - val_accuracy: 0.7982\n",
            "Epoch 16/30\n",
            "10080/10080 [==============================] - 14s 1ms/step - loss: 0.3658 - accuracy: 0.8514 - val_loss: 0.4705 - val_accuracy: 0.7937\n",
            "Epoch 17/30\n",
            "10080/10080 [==============================] - 14s 1ms/step - loss: 0.3488 - accuracy: 0.8625 - val_loss: 0.4625 - val_accuracy: 0.8000\n",
            "Epoch 18/30\n",
            "10080/10080 [==============================] - 14s 1ms/step - loss: 0.3373 - accuracy: 0.8656 - val_loss: 0.4639 - val_accuracy: 0.7973\n",
            "Epoch 19/30\n",
            "10080/10080 [==============================] - 14s 1ms/step - loss: 0.3247 - accuracy: 0.8676 - val_loss: 0.4597 - val_accuracy: 0.7964\n",
            "Epoch 20/30\n",
            "10080/10080 [==============================] - 14s 1ms/step - loss: 0.3111 - accuracy: 0.8752 - val_loss: 0.4369 - val_accuracy: 0.8045\n",
            "Epoch 21/30\n",
            "10080/10080 [==============================] - 14s 1ms/step - loss: 0.3025 - accuracy: 0.8805 - val_loss: 0.4528 - val_accuracy: 0.7946\n",
            "Epoch 22/30\n",
            "10080/10080 [==============================] - 14s 1ms/step - loss: 0.2928 - accuracy: 0.8808 - val_loss: 0.4433 - val_accuracy: 0.7973\n",
            "Epoch 23/30\n",
            "10080/10080 [==============================] - 13s 1ms/step - loss: 0.2791 - accuracy: 0.8894 - val_loss: 0.4552 - val_accuracy: 0.8009\n",
            "Epoch 24/30\n",
            "10080/10080 [==============================] - 14s 1ms/step - loss: 0.2743 - accuracy: 0.8934 - val_loss: 0.4230 - val_accuracy: 0.8161\n",
            "Epoch 25/30\n",
            "10080/10080 [==============================] - 14s 1ms/step - loss: 0.2637 - accuracy: 0.8954 - val_loss: 0.4371 - val_accuracy: 0.8089\n",
            "Epoch 26/30\n",
            "10080/10080 [==============================] - 14s 1ms/step - loss: 0.2504 - accuracy: 0.9011 - val_loss: 0.4216 - val_accuracy: 0.8196\n",
            "Epoch 27/30\n",
            "10080/10080 [==============================] - 14s 1ms/step - loss: 0.2444 - accuracy: 0.9039 - val_loss: 0.4282 - val_accuracy: 0.8170\n",
            "Epoch 28/30\n",
            "10080/10080 [==============================] - 14s 1ms/step - loss: 0.2363 - accuracy: 0.9058 - val_loss: 0.4193 - val_accuracy: 0.8330\n",
            "Epoch 29/30\n",
            "10080/10080 [==============================] - 14s 1ms/step - loss: 0.2227 - accuracy: 0.9124 - val_loss: 0.4216 - val_accuracy: 0.8241\n",
            "Epoch 30/30\n",
            "10080/10080 [==============================] - 14s 1ms/step - loss: 0.2199 - accuracy: 0.9160 - val_loss: 0.4475 - val_accuracy: 0.8223\n"
          ],
          "name": "stdout"
        },
        {
          "output_type": "execute_result",
          "data": {
            "text/plain": [
              "<keras.callbacks.callbacks.History at 0x7fb82bc848d0>"
            ]
          },
          "metadata": {
            "tags": []
          },
          "execution_count": 109
        }
      ]
    },
    {
      "cell_type": "code",
      "metadata": {
        "id": "07j5xRUb_ql9",
        "colab_type": "code",
        "colab": {}
      },
      "source": [
        "samechat.model.save(path+'/model/samechat_model')"
      ],
      "execution_count": null,
      "outputs": []
    },
    {
      "cell_type": "markdown",
      "metadata": {
        "id": "Tcw70JioLnhu",
        "colab_type": "text"
      },
      "source": [
        "对测试集进行测试"
      ]
    },
    {
      "cell_type": "code",
      "metadata": {
        "id": "siJPJ8tJ2p9w",
        "colab_type": "code",
        "colab": {}
      },
      "source": [
        "\n",
        "testcorpus = testcorpus.reindex(np.random.permutation(testcorpus.index))"
      ],
      "execution_count": null,
      "outputs": []
    },
    {
      "cell_type": "code",
      "metadata": {
        "id": "n9FYD4-BPhG4",
        "colab_type": "code",
        "colab": {
          "base_uri": "https://localhost:8080/",
          "height": 123
        },
        "outputId": "34d19906-ab96-4121-f370-3b5f5b0f3a17"
      },
      "source": [
        "testcorpus.columns"
      ],
      "execution_count": null,
      "outputs": [
        {
          "output_type": "execute_result",
          "data": {
            "text/plain": [
              "Index(['msgid1', 'sender1', 'receiver1', 'createdtime1', 'content1',\n",
              "       'chatsession1', 'cutcontent1', 'cutlist1', 'before_msg_id1',\n",
              "       'after_msg_id1', 'msgid2', 'sender2', 'receiver2', 'createdtime2',\n",
              "       'content2', 'chatsession2', 'cutcontent2', 'cutlist2', 'before_msg_id2',\n",
              "       'after_msg_id2', 'timedifference', 'samesession', 'isadjacent'],\n",
              "      dtype='object')"
            ]
          },
          "metadata": {
            "tags": []
          },
          "execution_count": 111
        }
      ]
    },
    {
      "cell_type": "code",
      "metadata": {
        "id": "rHUJtcHlLmoj",
        "colab_type": "code",
        "colab": {
          "base_uri": "https://localhost:8080/",
          "height": 35
        },
        "outputId": "789d63e3-7e80-4282-99a1-0cbcc34ae548"
      },
      "source": [
        "test_list_word = ['UNK']\n",
        "test_dict_word = {}\n",
        "print(test_dict_word)"
      ],
      "execution_count": null,
      "outputs": [
        {
          "output_type": "stream",
          "text": [
            "{}\n"
          ],
          "name": "stdout"
        }
      ]
    },
    {
      "cell_type": "code",
      "metadata": {
        "id": "YVacVp3JO450",
        "colab_type": "code",
        "colab": {
          "base_uri": "https://localhost:8080/",
          "height": 55
        },
        "outputId": "aae635d4-d85b-46ca-d196-9690fd25c974"
      },
      "source": [
        "for data in [testcorpus.iloc[:,7],testcorpus.iloc[:,17]]:\n",
        "  for words in data:\n",
        "    for i,word in enumerate(words):\n",
        "      if word not in test_dict_word:\n",
        "        test_dict_word[word]=len(test_dict_word)\n",
        "print(test_dict_word)   #字典构造完毕"
      ],
      "execution_count": null,
      "outputs": [
        {
          "output_type": "stream",
          "text": [
            "{'[': 0, \"'\": 1, '阳': 2, '光': 3, ',': 4, ' ': 5, '的': 6, '问': 7, '题': 8, ']': 9, '大': 10, '通': 11, '要': 12, '看': 13, '吗': 14, '没': 15, '错': 16, '有': 17, '得': 18, '搞': 19, '了': 20, 'g': 21, 'o': 22, 'w': 23, 'e': 24, 'c': 25, 'h': 26, 'a': 27, 't': 28, '这': 29, '个': 30, '是': 31, '修': 32, '改': 33, '数': 34, '据': 35, '解': 36, '决': 37, '还': 38, '代': 39, '码': 40, '就': 41, '待': 42, '办': 43, '审': 44, '批': 45, '不': 46, '成': 47, '功': 48, '我': 49, '下': 50, '应': 51, '用': 52, '那': 53, '当': 54, '时': 55, '怎': 56, '么': 57, '弄': 58, '他': 59, '们': 60, '测': 61, '试': 62, '和': 63, '正': 64, '式': 65, '环': 66, '境': 67, '一': 68, '样': 69, '吧': 70, '你': 71, '上': 72, '汽': 73, '边': 74, '天': 75, '都': 76, '在': 77, '推': 78, '哎': 79, '貌': 80, '似': 81, '外': 82, '网': 83, '能': 84, '访': 85, '老': 86, '毕': 87, '地': 88, '返': 89, '回': 90, '空': 91, '建': 92, '军': 93, '咱': 94, '哪': 95, '啊': 96, '远': 97, '程': 98, '行': 99, '汤': 100, '江': 101, '涛': 102, '只': 103, '把': 104, 'n': 105, 'i': 106, '重': 107, '启': 108, '刚': 109, '入': 110, '库': 111, '之': 112, '前': 113, '做': 114, '转': 115, '义': 116, '操': 117, '作': 118, '想': 119, '嗯': 120, '也': 121, '找': 122, '析': 123, '好': 124, '开': 125, '始': 126, '乐': 127, '工': 128, 'N': 129, 'r': 130, 'A': 131, 'm': 132, '分': 133, '部': 134, 'b': 135, '到': 136, 'x': 137, '面': 138, '打': 139, '断': 140, '点': 141, '停': 142, '队': 143, '列': 144, '替': 145, '换': 146, '保': 147, '捷': 148, '真': 149, '蛋': 150, '疼': 151, '后': 152, '台': 153, '校': 154, '验': 155, 'k': 156, '失': 157, '败': 158, '需': 159, 'd': 160, '出': 161, '现': 162, '过': 163, '会': 164, '定': 165, '向': 166, 'p': 167, '压': 168, '根': 169, '先': 170, '听': 171, '包': 172, '次': 173, '发': 174, '版': 175, '域': 176, '名': 177, '啥': 178, '可': 179, '以': 180, '峰': 181, '哥': 182, '人': 183, '知': 184, '道': 185, '更': 186, '删': 187, '查': 188, '进': 189, '来': 190, '3': 191, '2': 192, '获': 193, '取': 194, '密': 195, 'y': 196, 'u': 197, '户': 198, '多': 199, '设': 200, '备': 201, '登': 202, '陆': 203, '或': 204, '者': 205, 'v': 206, '1': 207, '5': 208, 's': 209, '0': 210, '9': 211, '账': 212, '号': 213, '徐': 214, '继': 215, '然': 216, 'q': 217, '例': 218, '如': 219, '种': 220, '报': 221, '接': 222, '受': 223, 'P': 224, '级': 225, '门': 226, '虫': 227, '咬': 228, '哦': 229, '频': 230, '繁': 231, 'l': 232, '帮': 233, '忙': 234, '涉': 235, '及': 236, '公': 237, '头': 238, '流': 239, '早': 240, '两': 241, 'I': 242, 'O': 243, 'S': 244, '手': 245, '机': 246, '4': 247, '给': 248, '资': 249, '电': 250, '话': 251, '说': 252, '自': 253, '己': 254, '月': 255, '份': 256, '收': 257, '万': 258, '抓': 259, '紧': 260, '答': 261, '关': 262, '首': 263, '页': 264, '其': 265, '着': 266, '参': 267, '文': 268, '件': 269, '康': 270, '脚': 271, '本': 272, '导': 273, '识': 274, '别': 275, '去': 276, '昨': 277, '午': 278, '间': 279, '难': 280, '完': 281, '加': 282, '口': 283, '处': 284, '理': 285, '什': 286, '候': 287, '迁': 288, '移': 289, '连': 290, '退': 291, '命': 292, '令': 293, '端': 294, '消': 295, '信': 296, '息': 297, '载': 298, '很': 299, '慢': 300, '系': 301, '截': 302, '图': 303, '该': 304, '致': 305, '像': 306, '几': 307, '准': 308, '评': 309, '论': 310, '今': 311, '离': 312, '职': 313, '模': 314, '拟': 315, '直': 316, '播': 317, '清': 318, '跳': 319, '客': 320, '最': 321, '展': 322, '方': 323, '结': 324, '果': 325, '于': 326, '新': 327, '华': 328, '渠': 329, '续': 330, '费': 331, '确': 332, '认': 333, '表': 334, '票': 335, '采': 336, '集': 337, '北': 338, '京': 339, '司': 340, '企': 341, '划': 342, '章': 343, '印': 344, '申': 345, '请': 346, '经': 347, '丁': 348, '彬': 349, '为': 350, '但': 351, '另': 352, '星': 353, '巴': 354, '克': 355, '跑': 356, '非': 357, '常': 358, '感': 359, '谢': 360, '写': 361, '升': 362, '总': 363, '额': 364, '复': 365, '习': 366, '限': 367, '制': 368, '明': 369, '线': 370, '再': 371, '吃': 372, '饭': 373, '里': 374, '美': 375, '国': 376, 'M': 377, '期': 378, '三': 379, 'D': 380, 'J': 381, 'W': 382, '同': 383, '意': 384, '往': 385, '走': 386, '对': 387, '位': 388, '交': 389, '付': 390, '力': 391, '具': 392, '体': 393, '等': 394, 'L': 395, '内': 396, '协': 397, '调': 398, '死': 399, '容': 400, '随': 401, '便': 402, '已': 403, '桌': 404, '拷': 405, '贝': 406, '脑': 407, '事': 408, '才': 409, '条': 410, '询': 411, '快': 412, '束': 413, '萌': 414, '选': 415, '项': 416, '业': 417, '班': 418, '存': 419, '让': 420, '统': 421, '计': 422, 'F': 423, 'T': 424, 'C': 425, 'Z': 426, '带': 427, '生': 428, '产': 429, '链': 430, '怕': 431, '相': 432, '共': 433, '整': 434, '周': 435, '二': 436, '市': 437, '朝': 438, '区': 439, '酒': 440, '仙': 441, '桥': 442, '街': 443, '恒': 444, '际': 445, '商': 446, '务': 447, '园': 448, 'B': 449, '座': 450, '层': 451, '议': 452, '室': 453, '麻': 454, '烦': 455, '悉': 456, '配': 457, '置': 458, '动': 459, '添': 460, '8': 461, '掉': 462, '算': 463, '觉': 464, '太': 465, '您': 466, '练': 467, '钟': 468, '档': 469, '预': 470, '览': 471, '7': 472, '6': 473, '匡': 474, '熙': 475, '变': 476, '证': 477, 'R': 478, 'f': 479, '速': 480, '框': 481, '架': 482, '记': 483, '购': 484, '筛': 485, '家': 486, '求': 487, '历': 488, '史': 489, '录': 490, '屏': 491, '蔽': 492, '专': 493, '刘': 494, '磊': 495, '麦': 496, '劳': 497, '安': 498, '卓': 499, '急': 500, '支': 501, '持': 502, '领': 503, '少': 504, '龙': 505, '提': 506, '合': 507, '送': 508, '忘': 509, '呢': 510, '装': 511, '扩': 512, '权': 513, '服': 514, '器': 515, '单': 516, '呗': 517, '乱': 518, '否': 519, '描': 520, '述': 521, '楚': 522, '误': 523, '晚': 524, '特': 525, '殊': 526, '符': 527, '赶': 528, '炸': 529, '立': 530, '激': 531, '活': 532, '含': 533, '笔': 534, '细': 535, '放': 536, '管': 537, '干': 538, '嘛': 539, '思': 540, '员': 541, '见': 542, '尴': 543, '尬': 544, '从': 545, '马': 546, '键': 547, '起': 548, '实': 549, '差': 550, '刷': 551, '拿': 552, '原': 553, '因': 554, '谁': 555, '供': 556, '组': 557, '织': 558, '构': 559, '显': 560, '示': 561, '全': 562, '第': 563, '所': 564, '东': 565, '西': 566, '传': 567, '挤': 568, '中': 569, '政': 570, '与': 571, '注': 572, '册': 573, '又': 574, '类': 575, '型': 576, '五': 577, '稍': 578, '日': 579, '张': 580, '荣': 581, '绑': 582, '法': 583, '址': 584, '概': 585, '肖': 586, '学': 587, '肯': 588, '讯': 589, '独': 590, '靠': 591, '维': 592, '志': 593, '估': 594, 'E': 595, '弯': 596, '呀': 597, '奇': 598, '怪': 599, '俩': 600, '字': 601, '基': 602, '闭': 603, '四': 604, '被': 605, '每': 606, '跟': 607, '核': 608, 'j': 609, '格': 610, '击': 611, '她': 612, '年': 613, '风': 614, '小': 615, '源': 616, '钱': 617, '按': 618, '聊': 619, '杀': 620, '曦': 621, '暂': 622, '咋': 623, '络': 624, '扑': 625, '情': 626, '搜': 627, '索': 628, '输': 629, '隐': 630, '藏': 631, '除': 632, '钮': 633, '社': 634, '积': 635, '金': 636, '税': 637, '节': 638, '骨': 639, '眼': 640, '些': 641, '满': 642, '育': 643, '津': 644, '贴': 645, '奖': 646, '岳': 647, '彪': 648, '则': 649, '歇': 650, '性': 651, '而': 652, '且': 653, '售': 654, '般': 655, '销': 656, '遗': 657, '留': 658, '观': 659, '众': 660, '顺': 661, '序': 662, 'K': 663, '署': 664, '突': 665, '够': 666, '何': 667, '雪': 668, '排': 669, '姜': 670, '堰': 671, '勾': 672, '谷': 673, '歌': 674, '浏': 675, '使': 676, '卡': 677, '拍': 678, '照': 679, '片': 680, '块': 681, '运': 682, '覆': 683, '盖': 684, '此': 685, '略': 686, '磁': 687, '盘': 688, '落': 689, '崩': 690, '丢': 691, '球': 692, 'H': 693, 'U': 694, 'V': 695, 'G': 696, '未': 697, '值': 698, '况': 699, '餐': 700, '补': 701, '诊': 702, '终': 703, 'Q': 704, '缓': 705, '告': 706, '诉': 707, '引': 708, '屡': 709, '希': 710, '望': 711, '投': 712, '邮': 713, '半': 714, '语': 715, '句': 716, '魂': 717, '晶': 718, '扣': 719, '介': 720, '绍': 721, '童': 722, '斌': 723, '白': 724, '黑': 725, '长': 726, '气': 727, '假': 728, '坑': 729, '雅': 730, '科': 731, '技': 732, '高': 733, '量': 734, '涌': 735, '硅': 736, '背': 737, '景': 738, '越': 739, '初': 740, '创': 741, '目': 742, '博': 743, '智': 744, '术': 745, '称': 746, '夏': 747, '迈': 748, '步': 749, '海': 750, '云': 751, '无': 752, '视': 753, '虽': 754, '仅': 755, '短': 756, '崭': 757, '露': 758, '角': 759, '佼': 760, '微': 761, '软': 762, '至': 763, '附': 764, '任': 765, '敢': 766, '礼': 767, '物': 768, '享': 769, '标': 770, '银': 771, '翻': 772, '译': 773, '双': 774, '隆': 775, '帆': 776, 'X': 777, '释': 778, '场': 779, '监': 780, '案': 781, '师': 782, '闻': 783, '比': 784, '较': 785, '吓': 786, '雷': 787, '燕': 788, '影': 789, '响': 790, '港': 791, '团': 792, '态': 793, '度': 794, '编': 795, '辑': 796, '储': 797, '熬': 798, '夜': 799, '反': 800, '优': 801, '化': 802, '群': 803, '矬': 804, '顶': 805, '滴': 806, '叫': 807, '联': 808, '严': 809, '割': 810, '昂': 811, '剩': 812, '余': 813, '矛': 814, '盾': 815, '胡': 816, '俊': 817, '势': 818, '适': 819, '蓓': 820, '界': 821, '缺': 822, '秦': 823, '演': 824, '讨': 825, '价': 826, '店': 827, '世': 828, '强': 829, '睡': 830, '醒': 831, '默': 832, '纯': 833, '属': 834, '彤': 835, '拒': 836, '绝': 837, '盛': 838, '红': 839, '色': 840, '箱': 841, '阔': 842, '订': 843, '阅': 844, '防': 845, '住': 846, 'z': 847, '闪': 848, '灯': 849, '窗': 850, '土': 851, '平': 852, '均': 853, '毫': 854, '秒': 855, '左': 856, '右': 857, '尽': 858, '子': 859, '撤': 860, '雇': 861, '超': 862, '研': 863, '亚': 864, '逊': 865, '蓝': 866, '波': 867, '音': 868, '纪': 869, '脸': 870, '书': 871, '埃': 872, '森': 873, '哲': 874, '苹': 875, '英': 876, '尔': 877, '甲': 878, '岗': 879, '爱': 880, '彼': 881, '迎': 882, '航': 883, '鲸': 884, '简': 885, '著': 886, '归': 887, '形': 888, '授': 889, '并': 890, '由': 891, '儿': 892, '給': 893, '王': 894, '主': 895, '忽': 896, '状': 897, '拼': 898, '混': 899, '铁': 900, '站': 901, '板': 902, '检': 903, '鸿': 904, '声': 905, '护': 906, '近': 907, '词': 908, '姐': 909, '策': 910, '谈': 911, '呼': 912, '乘': 913, '车': 914, '伙': 915, '伴': 916, '约': 917, '营': 918, '挺': 919, '段': 920, '念': 921, '普': 922, '择': 923, '范': 924, '围': 925, '造': 926, '梳': 927, '惠': 928, '丞': 929, '催': 930, '施': 931, '撇': 932, '缠': 933, '搁': 934, '芳': 935, '噢': 936, '伟': 937, '判': 938, '规': 939, '水': 940, '将': 941, '夹': 942, '卷': 943, '孟': 944, '聪': 945, '摸': 946, '心': 947, '减': 948, '延': 949, '佳': 950, '济': 951, '仁': 952, '沟': 953, '签': 954, '璐': 955, '刺': 956, '追': 957, '圆': 958, '象': 959, '切': 960, '轻': 961, '婚': 962, '辛': 963, '苦': 964, '负': 965, '贵': 966, '倍': 967, '买': 968, '房': 969, '偏': 970, '休': 971, '悦': 972, '董': 973, '睛': 974, '础': 975, '洪': 976, '洋': 977, '券': 978, '勤': 979, '逻': 980, '效': 981, '杨': 982, '读': 983, '珊': 984, '增': 985, '兼': 986, '梦': 987, '杰': 988, '触': 989, '钉': 990, '路': 991, '径': 992, '堆': 993, '秀': 994, '省': 995, '达': 996, '率': 997, '恩': 998, '教': 999, '李': 1000, '梁': 1001, '画': 1002, '详': 1003, '遮': 1004, '挡': 1005, '哇': 1006, '占': 1007, '赵': 1008, '低': 1009, '谨': 1010, '钢': 1011, '侠': 1012, '抄': 1013, '晓': 1014, '玲': 1015, '㛑': 1016, '抽': 1017, '某': 1018, '蒙': 1019, '挑': 1020, '朗': 1021, '民': 1022, '挂': 1023, '垂': 1024, '堡': 1025, '垒': 1026, '它': 1027, '饿': 1028, '布': 1029, '静': 1030, '➕': 1031, '益': 1032, '累': 1033, '滑': 1034, '玩': 1035, '质': 1036, '疑': 1037, '敦': 1038, '俺': 1039, '林': 1040, '德': 1041, '料': 1042, '底': 1043, '涨': 1044, '巧': 1045, '害': 1046}\n"
          ],
          "name": "stdout"
        }
      ]
    },
    {
      "cell_type": "code",
      "metadata": {
        "id": "xZQeBnUOSBN_",
        "colab_type": "code",
        "colab": {
          "base_uri": "https://localhost:8080/",
          "height": 160
        },
        "outputId": "157a1c2f-63c5-4a83-b04c-99b9a49b6bc8"
      },
      "source": [
        "id2w={test_dict_word[w]:w for w in test_dict_word}   #word的索引\n",
        "test_embedding_size=300 #前面自己训练word2vec的时候选择词向量维度为300，此处保持一致（网上下载的预训练词向量如果维度不同，需要修改这里的数字）\n",
        "test_embedding_arry=np.random.randn(len(test_dict_word)+1,test_embedding_size)   #句子embedding矩阵\n",
        "test_embedding_arry[0]=0\n",
        "#word2vector=gensim.models.Word2Vec.load(path+\"/data/word2vec-vector.w2v\")\n",
        "#word2vector=gensim.models.KeyedVectors.load_word2vec_format(path+'/data/sgns.zhihu.bigram')\n",
        "test_word2vector=gensim.models.KeyedVectors.load_word2vec_format(path+'/data/sgns.merge.bigram')\n",
        "for index,word in enumerate(test_dict_word):\n",
        "  if word in test_word2vector.wv.vocab:\n",
        "    test_embedding_arry[index]=word2vector.wv.word_vec(word)\n",
        "print('embedding_arry shape:',test_embedding_arry.shape)"
      ],
      "execution_count": null,
      "outputs": [
        {
          "output_type": "stream",
          "text": [
            "/usr/local/lib/python3.6/dist-packages/smart_open/smart_open_lib.py:253: UserWarning: This function is deprecated, use smart_open.open instead. See the migration notes for details: https://github.com/RaRe-Technologies/smart_open/blob/master/README.rst#migrating-to-the-new-open-function\n",
            "  'See the migration notes for details: %s' % _MIGRATION_NOTES_URL\n"
          ],
          "name": "stderr"
        },
        {
          "output_type": "stream",
          "text": [
            "embedding_arry shape: (1048, 300)\n"
          ],
          "name": "stdout"
        },
        {
          "output_type": "stream",
          "text": [
            "/usr/local/lib/python3.6/dist-packages/ipykernel_launcher.py:9: DeprecationWarning: Call to deprecated `wv` (Attribute will be removed in 4.0.0, use self instead).\n",
            "  if __name__ == '__main__':\n",
            "/usr/local/lib/python3.6/dist-packages/ipykernel_launcher.py:10: DeprecationWarning: Call to deprecated `wv` (Attribute will be removed in 4.0.0, use self instead).\n",
            "  # Remove the CWD from sys.path while we load stuff.\n"
          ],
          "name": "stderr"
        }
      ]
    },
    {
      "cell_type": "code",
      "metadata": {
        "id": "6zkrbaUZSWmz",
        "colab_type": "code",
        "colab": {
          "base_uri": "https://localhost:8080/",
          "height": 52
        },
        "outputId": "af1abbd6-06dd-4748-f126-20680b160d4b"
      },
      "source": [
        "#将词组替换为索引\n",
        "test_data_l_n=[]   #左边LSTM的输入\n",
        "test_data_r_n=[]   #右边LSTM的输入\n",
        "\n",
        "for words in testcorpus.iloc[:,7]:\n",
        "  words = list(words)\n",
        "  for i,word in enumerate(words):\n",
        "    words[i]=test_dict_word[word]\n",
        "  test_data_l_n.append(words)\n",
        "print('test_data_l_n length:',len(test_data_l_n))\n",
        "for words in testcorpus.iloc[:,17]:\n",
        "  words = list(words)\n",
        "  for i,word in enumerate(words):\n",
        "    words[i]=test_dict_word[word]\n",
        "  test_data_r_n.append(words)\n",
        "print('test_data_r_n length:',len(test_data_r_n))"
      ],
      "execution_count": null,
      "outputs": [
        {
          "output_type": "stream",
          "text": [
            "test_data_l_n length: 2800\n",
            "test_data_r_n length: 2800\n"
          ],
          "name": "stdout"
        }
      ]
    },
    {
      "cell_type": "code",
      "metadata": {
        "id": "H8Mg7UPTSo1B",
        "colab_type": "code",
        "colab": {}
      },
      "source": [
        "# 对齐语料中句子的长度\n",
        "test_data_l_n = pad_sequences(test_data_l_n, maxlen=max_length, padding = 'post',truncating='post')\n",
        "test_data_r_n = pad_sequences(test_data_r_n, maxlen=max_length, padding = 'post',truncating='post')"
      ],
      "execution_count": null,
      "outputs": []
    },
    {
      "cell_type": "code",
      "metadata": {
        "id": "65kPGnZTKWwt",
        "colab_type": "code",
        "colab": {}
      },
      "source": [
        "#from keras.models import load_model\n",
        "\n",
        "#trained_model = load_model('samechat_model')"
      ],
      "execution_count": null,
      "outputs": []
    },
    {
      "cell_type": "code",
      "metadata": {
        "id": "D4FBntmTKhvk",
        "colab_type": "code",
        "colab": {}
      },
      "source": [
        "predicted = samechat.predict([np.asarray(test_data_l_n), np.asarray(test_data_r_n), np.asarray(testcorpus[['timedifference','isadjacent']])])"
      ],
      "execution_count": null,
      "outputs": []
    },
    {
      "cell_type": "code",
      "metadata": {
        "id": "kg4UNm-nTMVi",
        "colab_type": "code",
        "colab": {
          "base_uri": "https://localhost:8080/",
          "height": 140
        },
        "outputId": "4f0372e0-5be0-4ad0-d7fb-82aa3c810a46"
      },
      "source": [
        "predicted"
      ],
      "execution_count": null,
      "outputs": [
        {
          "output_type": "execute_result",
          "data": {
            "text/plain": [
              "array([[0.03958881],\n",
              "       [0.6121995 ],\n",
              "       [0.9999126 ],\n",
              "       ...,\n",
              "       [0.08911368],\n",
              "       [0.56269073],\n",
              "       [0.5941352 ]], dtype=float32)"
            ]
          },
          "metadata": {
            "tags": []
          },
          "execution_count": 75
        }
      ]
    },
    {
      "cell_type": "code",
      "metadata": {
        "id": "C6tsPqP6Tf5K",
        "colab_type": "code",
        "colab": {}
      },
      "source": [
        "testcorpus['predicted'] = [i[0] for i in predicted]"
      ],
      "execution_count": null,
      "outputs": []
    },
    {
      "cell_type": "code",
      "metadata": {
        "id": "gdRuZx4j0m9j",
        "colab_type": "code",
        "colab": {}
      },
      "source": [
        "testcorpus['predict_samesession'] = 0\n",
        "testcorpus.loc[testcorpus['predicted']>=0.5,'predict_samesession']=1\n",
        "testcorpus.loc[testcorpus['predicted']<0.5,'predict_samesession']=0"
      ],
      "execution_count": null,
      "outputs": []
    },
    {
      "cell_type": "code",
      "metadata": {
        "id": "NX9orHUZ1Ntd",
        "colab_type": "code",
        "colab": {}
      },
      "source": [
        "import numpy as np\n",
        "import matplotlib.pyplot as plt\n",
        "\n",
        "from sklearn import svm, datasets\n",
        "from sklearn.model_selection import train_test_split\n",
        "from sklearn.metrics import confusion_matrix\n",
        "from sklearn.utils.multiclass import unique_labels\n",
        "\n",
        "def plot_confusion_matrix(y_true, y_pred, classes,\n",
        "                          normalize=False,\n",
        "                          title=None,\n",
        "                          cmap=plt.cm.Blues):\n",
        "    \"\"\"\n",
        "    This function prints and plots the confusion matrix.\n",
        "    Normalization can be applied by setting `normalize=True`.\n",
        "    \"\"\"\n",
        "    if not title:\n",
        "        if normalize:\n",
        "            title = 'Normalized confusion matrix'\n",
        "        else:\n",
        "            title = 'Confusion matrix, without normalization'\n",
        "\n",
        "    # Compute confusionlist_matrix\n",
        "    cm = confusion_matrix(y_true, y_pred)\n",
        "    # Only use the labels that appear in the data\n",
        "    classes = classes[unique_labels(y_true, y_pred)]\n",
        "    if normalize:\n",
        "        cm = cm.astype('float') / cm.sum(axis=1)[:, np.newaxis]\n",
        "        print(\"Normalized confusion matrix\")\n",
        "    else:\n",
        "        print('Confusion matrix, without normalization')\n",
        "\n",
        "    print(cm)\n",
        "\n",
        "    fig, ax = plt.subplots()\n",
        "    im = ax.imshow(cm, interpolation='nearest', cmap=cmap)\n",
        "    ax.figure.colorbar(im, ax=ax)\n",
        "    # We want to show all ticks...\n",
        "    ax.set(xticks=np.arange(cm.shape[1]),\n",
        "           yticks=np.arange(cm.shape[0]),\n",
        "           # ... and label them with the respective list entries\n",
        "           xticklabels=classes, yticklabels=classes,\n",
        "           title=title,\n",
        "           ylabel='True label',\n",
        "           xlabel='Predicted label')\n",
        "\n",
        "    # Rotate the tick labels and set their alignment.\n",
        "    plt.setp(ax.get_xticklabels(), rotation=45, ha=\"right\",\n",
        "             rotation_mode=\"anchor\")\n",
        "\n",
        "    # Loop over data dimensions and create text annotations.\n",
        "    fmt = '.2f' if normalize else 'd'\n",
        "    thresh = cm.max() / 2.\n",
        "    for i in range(cm.shape[0]):\n",
        "        for j in range(cm.shape[1]):\n",
        "            ax.text(j, i, format(cm[i, j], fmt),\n",
        "                    ha=\"center\", va=\"center\",\n",
        "                    color=\"white\" if cm[i, j] > thresh else \"black\")\n",
        "    fig.tight_layout()\n",
        "    return ax"
      ],
      "execution_count": null,
      "outputs": []
    },
    {
      "cell_type": "code",
      "metadata": {
        "id": "iRIBw7Fr1Xbm",
        "colab_type": "code",
        "colab": {
          "base_uri": "https://localhost:8080/",
          "height": 367
        },
        "outputId": "2a0af98f-5977-4ab9-9453-beaeb9bb3700"
      },
      "source": [
        "testcorpus['samesession'] = testcorpus['samesession'].apply(int)\n",
        "\n",
        "plot_confusion_matrix(testcorpus['samesession'], testcorpus['predict_samesession'], classes=np.array(['0','1']), title='Confusion matrix, without normalization')"
      ],
      "execution_count": null,
      "outputs": [
        {
          "output_type": "stream",
          "text": [
            "Confusion matrix, without normalization\n",
            "[[1151  231]\n",
            " [ 726  692]]\n"
          ],
          "name": "stdout"
        },
        {
          "output_type": "execute_result",
          "data": {
            "text/plain": [
              "<matplotlib.axes._subplots.AxesSubplot at 0x7fb77f8ff940>"
            ]
          },
          "metadata": {
            "tags": []
          },
          "execution_count": 86
        },
        {
          "output_type": "display_data",
          "data": {
            "image/png": "[encoded data removed]",
            "text/plain": [
              "<Figure size 432x288 with 2 Axes>"
            ]
          },
          "metadata": {
            "tags": [],
            "needs_background": "light"
          }
        }
      ]
    },
    {
      "cell_type": "code",
      "metadata": {
        "id": "5JYKgqzo1ykT",
        "colab_type": "code",
        "colab": {
          "base_uri": "https://localhost:8080/",
          "height": 70
        },
        "outputId": "385627f7-fe94-42a4-ddc9-e7d9c589bbc8"
      },
      "source": [
        "testcorpus['predict_samesession'].value_counts()"
      ],
      "execution_count": null,
      "outputs": [
        {
          "output_type": "execute_result",
          "data": {
            "text/plain": [
              "0    1877\n",
              "1     923\n",
              "Name: predict_samesession, dtype: int64"
            ]
          },
          "metadata": {
            "tags": []
          },
          "execution_count": 84
        }
      ]
    }
  ]
}